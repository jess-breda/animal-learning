{
 "cells": [
  {
   "cell_type": "code",
   "execution_count": 23,
   "metadata": {},
   "outputs": [
    {
     "name": "stdout",
     "output_type": "stream",
     "text": [
      "The autoreload extension is already loaded. To reload it, use:\n",
      "  %reload_ext autoreload\n"
     ]
    }
   ],
   "source": [
    "import yaml\n",
    "from violmulti.data.dataset_loader import DatasetLoader\n",
    "from violmulti.data.dataset_loader import DatasetLoader\n",
    "\n",
    "from violmulti.features.design_matrix_generator_PWM import *\n",
    "\n",
    "import pandas as pd\n",
    "import numpy as np\n",
    "import ssm\n",
    "\n",
    "from violmulti.models.ssm_glm_hmm import SSMGLMHMM\n",
    "from violmulti.utils.save_load import *\n",
    "\n",
    "%load_ext autoreload\n",
    "%autoreload 2"
   ]
  },
  {
   "cell_type": "markdown",
   "metadata": {},
   "source": [
    "## Experiment Runner\n",
    "\n",
    "### Create folder"
   ]
  },
  {
   "cell_type": "code",
   "execution_count": 44,
   "metadata": {},
   "outputs": [],
   "source": [
    "from violmulti.utils.create_experiment_folder import *"
   ]
  },
  {
   "cell_type": "code",
   "execution_count": 48,
   "metadata": {},
   "outputs": [
    {
     "data": {
      "text/plain": [
       "'/Volumes/brody/jbreda/behavioral_analysis/violations_multinomial/data/results/experiment_name2'"
      ]
     },
     "execution_count": 48,
     "metadata": {},
     "output_type": "execute_result"
    }
   ],
   "source": [
    "create_experiment_directory(\"name2\", \"standard\")"
   ]
  },
  {
   "cell_type": "markdown",
   "metadata": {},
   "source": [
    "# SSM Model Class"
   ]
  },
  {
   "cell_type": "code",
   "execution_count": 2,
   "metadata": {},
   "outputs": [],
   "source": [
    "# Set the parameters of the GLM-HMM\n",
    "num_states = 3  # number of discrete states\n",
    "obs_dim = 1  # number of observed dimensions\n",
    "num_categories = 2  # number of categories for output\n",
    "input_dim = 2  # input dimensions\n",
    "\n",
    "# Make a GLM-HMM\n",
    "true_glmhmm = ssm.HMM(\n",
    "    num_states,\n",
    "    obs_dim,\n",
    "    input_dim,\n",
    "    observations=\"input_driven_obs\",\n",
    "    observation_kwargs=dict(C=num_categories),\n",
    "    transitions=\"standard\",\n",
    ")\n",
    "\n",
    "gen_weights = np.array([[[6, 1]], [[2, -3]], [[2, 3]]])\n",
    "gen_log_trans_mat = np.log(\n",
    "    np.array([[[0.98, 0.01, 0.01], [0.05, 0.92, 0.03], [0.03, 0.03, 0.94]]])\n",
    ")\n",
    "true_glmhmm.observations.params = gen_weights\n",
    "true_glmhmm.transitions.params = gen_log_trans_mat"
   ]
  },
  {
   "cell_type": "code",
   "execution_count": 113,
   "metadata": {},
   "outputs": [],
   "source": [
    "import ssm\n",
    "import logging\n",
    "import pickle\n",
    "from pathlib import Path\n",
    "\n",
    "\n",
    "class SSMGLMHMM(ssm.HMM):\n",
    "    \"\"\"\n",
    "    Child class of ssm.HMM that adds additional functionality for\n",
    "    fitting glm-hmm models specific to my (Jess Breda's) use case\n",
    "    of fitting models to binary and trinomial trial-by-trial choice\n",
    "    data.\n",
    "\n",
    "    \"\"\"\n",
    "    def __init__(\n",
    "        self,\n",
    "        model_config: dict,\n",
    "        model_name: str = \"glmhmm\",\n",
    "        n_fold: int = 1,\n",
    "        results_path=None,\n",
    "    ):\n",
    "\n",
    "        self.model_config = model_config\n",
    "        self.unpack_model_config()\n",
    "        self.set_up_priors()\n",
    "\n",
    "        self.n_fold = n_fold\n",
    "        self.model_name = model_name\n",
    "        self.results_path = results_path\n",
    "\n",
    "        super().__init__(\n",
    "            K=self.K,\n",
    "            D=1,  # never have more than 1 output dimension\n",
    "            M=self.M,\n",
    "            observations=\"input_driven_obs\",\n",
    "            observation_kwargs=self.observation_kwargs,\n",
    "            transitions=self.transitions,\n",
    "            transition_kwargs=self.transition_kwargs,\n",
    "        )\n",
    "\n",
    "        # TODO logic here for initializing weights and transitions\n",
    "        # TODO if model config var exists\n",
    "\n",
    "    def unpack_model_config(self):\n",
    "        \"\"\" \n",
    "        Method to unpack the model config dictionary into class \n",
    "        attributes. Some are exact duplicates from ssm.HMM, others\n",
    "        are custom to this class.\n",
    "        \"\"\"\n",
    "        self.K = self.model_config[\"n_states\"]\n",
    "        self.M = self.model_config[\"n_features\"]\n",
    "        self.C = self.model_config[\"n_categories\"]\n",
    "        self.transitions = self.model_config.get(\"transitions\", \"standard\")\n",
    "        self.n_iters = self.model_config.get(\"n_iters\", 200)\n",
    "        self.prior_sigma = self.model_config.get(\"prior_sigma\", None)\n",
    "        self.prior_alpha = self.model_config.get(\"prior_alpha\", 0)\n",
    "        self.prior_kappa = self.model_config.get(\"prior_kappa\", 0)\n",
    "        self.masks = self.model_config.get(\"masks\", None)\n",
    "        self.tolerance = self.model_config.get(\"tolerance\", 1e-4)\n",
    "        self.seed = self.model_config.get(\"seed\", 0)\n",
    "        logging.info(f\"Unpacked model config: {self.model_config}\")\n",
    "\n",
    "    def set_up_priors(self):\n",
    "        # Set up the kwargs for the model- can't pass in 0 values and\n",
    "        # have them be ignored, so need to do this manually\n",
    "        if self.transitions == \"sticky\":\n",
    "            self.transition_kwargs = dict(self.prior_alpha, self.prior_kappa)\n",
    "        elif self.transitions == \"standard\":\n",
    "            self.transition_kwargs = None\n",
    "        else:\n",
    "            raise ValueError(\"Invalid transition type for SSM GLM-HMM.\")\n",
    "        logging.info(f\"Transition kwargs set: {self.transition_kwargs}\")\n",
    "\n",
    "        if self.prior_sigma is None:\n",
    "            self.observation_kwargs = dict(C=self.C)\n",
    "        else:\n",
    "            self.observation_kwargs = dict(C=self.C, prior_sigma=self.prior_sigma)\n",
    "        logging.info(f\"Observation kwargs set: {self.observation_kwargs}\")\n",
    "\n",
    "    def initialize_weights(self):\n",
    "        \"\"\"\n",
    "        Initialize the weights of the model. Placeholder for actual implementation.\n",
    "        \"\"\"\n",
    "        np.random.seed(self.seed)\n",
    "        pass\n",
    "\n",
    "    def initialize_transitions(self):\n",
    "        \"\"\"\n",
    "        Initialize the transitions of the model. Placeholder for actual implementation.\n",
    "        \"\"\"\n",
    "        # Initialize transitions logic here\n",
    "\n",
    "    def fit(self, X, y):\n",
    "        self.X = X\n",
    "        self.y = y\n",
    "\n",
    "        self.log_probs = super().fit(\n",
    "            datas=self.y,\n",
    "            inputs=self.X,\n",
    "            masks=self.masks,\n",
    "            method=\"em\",\n",
    "            num_iters=self.n_iters,\n",
    "            tolerance=self.tolerance,\n",
    "        )\n",
    "\n",
    "        return self.log_probs\n",
    "\n",
    "    def compute_stats_of_interest(self):\n",
    "        \"\"\"\n",
    "        Statistics of interest that are easiest to calculate\n",
    "        after fitting the model while the data is still in memory.\n",
    "\n",
    "        1. log likelihood\n",
    "        2. posterior state probs (in list of list by session)\n",
    "        \"\"\"\n",
    "\n",
    "        self.log_like = self.log_likelihood(self.y, self.X)\n",
    "        self.posterior_state_probs = self.get_posterior_state_probs()\n",
    "\n",
    "    def get_posterior_state_probs(self):\n",
    "        posterior_probs = []\n",
    "        for sesssion_choices, sesssion_inputs in zip(self.y, self.X):\n",
    "\n",
    "            # expected_states returns\n",
    "            # [posterior_state_probs, posterior_joint_probs, normalizer]\n",
    "            # so we only need the first element of the returned list\n",
    "            posterior_probs.append(\n",
    "                self.expected_states(data=sesssion_choices, input=sesssion_inputs)[0]\n",
    "            )\n",
    "        return posterior_probs\n",
    "\n",
    "    def save(self):\n",
    "\n",
    "        self.compute_stats_of_interest()\n",
    "\n",
    "        if self.results_path is None:\n",
    "            self.results_path = Path.cwd() / \"model_results\"\n",
    "\n",
    "            if not self.results_path.exists():\n",
    "                self.results_path.mkdir()\n",
    "        else:\n",
    "            self.results_path = Path(self.results_path)\n",
    "            self.results_path.mkdir(\n",
    "                parents=True, exist_ok=True\n",
    "            )  # Ensure the directory exists\n",
    "\n",
    "        with open(\n",
    "            f\"{self.results_path}/{self.model_name}_model_fold_{self.n_fold}.pkl\", \"wb\"\n",
    "        ) as f:\n",
    "            pickle.dump(self, f)"
   ]
  },
  {
   "cell_type": "code",
   "execution_count": 4,
   "metadata": {},
   "outputs": [
    {
     "data": {
      "text/plain": [
       "(20, (100,))"
      ]
     },
     "execution_count": 4,
     "metadata": {},
     "output_type": "execute_result"
    }
   ],
   "source": [
    "model_config = {\n",
    "    \"n_states\": 2,\n",
    "    \"n_features\": 2,\n",
    "    \"n_categories\": 2,\n",
    "}\n",
    "\n",
    "\n",
    "true_glmhmm = SSMGLMHMM(model_config)\n",
    "\n",
    "num_sess = 20  # number of example sessions\n",
    "num_trials_per_sess = 100  # number of trials in a session\n",
    "inpts = np.ones((num_sess, num_trials_per_sess, input_dim))  # initialize inpts array\n",
    "stim_vals = [-1, -0.5, -0.25, -0.125, -0.0625, 0, 0.0625, 0.125, 0.25, 0.5, 1]\n",
    "inpts[:, :, 0] = np.random.choice(\n",
    "    stim_vals, (num_sess, num_trials_per_sess)\n",
    ")  # generate random sequence of stimuli\n",
    "inpts = list(inpts)  # convert inpts to correct format\n",
    "len(inpts), inpts[0].shape\n",
    "\n",
    "\n",
    "true_latents, true_choices = [], []\n",
    "for sess in range(num_sess):\n",
    "    true_z, true_y = true_glmhmm.sample(num_trials_per_sess, input=inpts[sess])\n",
    "    true_latents.append(true_z)\n",
    "    true_choices.append(true_y)\n",
    "\n",
    "len(true_latents), true_latents[0].shape"
   ]
  },
  {
   "cell_type": "code",
   "execution_count": 5,
   "metadata": {},
   "outputs": [],
   "source": [
    "new_glm = SSMGLMHMM(model_config)"
   ]
  },
  {
   "cell_type": "code",
   "execution_count": 6,
   "metadata": {},
   "outputs": [
    {
     "name": "stderr",
     "output_type": "stream",
     "text": [
      "Converged to LP: -1166.2:  10%|▉         | 19/200 [00:00<00:03, 47.14it/s]\n"
     ]
    }
   ],
   "source": [
    "log_ps = new_glm.fit(inpts, true_choices)"
   ]
  },
  {
   "cell_type": "code",
   "execution_count": 7,
   "metadata": {},
   "outputs": [
    {
     "name": "stdout",
     "output_type": "stream",
     "text": [
      "(array([-1.74610071, -0.19170891]),)\n",
      "(array([[-0.01161171, -4.4615418 ],\n",
      "       [-3.88070606, -0.02085215]]),)\n",
      "[[[ 1.47712929  0.38278679]]\n",
      "\n",
      " [[-1.08570381  1.58486934]]]\n"
     ]
    }
   ],
   "source": [
    "print(new_glm.init_state_distn.params)\n",
    "print(new_glm.transitions.params)\n",
    "print(new_glm.observations.params)"
   ]
  },
  {
   "cell_type": "code",
   "execution_count": 9,
   "metadata": {},
   "outputs": [
    {
     "name": "stdout",
     "output_type": "stream",
     "text": [
      "Directory ensured at: /Users/jessbreda/Desktop/github/violations-multinomial/src/violmulti/experiments/cluster_scripts/example_experiment/model_results\n",
      "Directory ensured at: /Users/jessbreda/Desktop/github/violations-multinomial/src/violmulti/experiments/cluster_scripts/example_experiment\n"
     ]
    }
   ],
   "source": [
    "save_model_to_pickle(new_glm) # make a path\n",
    "save_model_to_pickle( #tell the path\n",
    "    new_glm,\n",
    "    results_path=\"/Users/jessbreda/Desktop/github/violations-multinomial/src/violmulti/experiments/cluster_scripts/example_experiment/\",\n",
    ")"
   ]
  },
  {
   "cell_type": "code",
   "execution_count": 10,
   "metadata": {},
   "outputs": [],
   "source": [
    "loaded_model = load_model_from_pickle(\n",
    "    animal_id=\"\",\n",
    "    n_states=2,\n",
    "    model_name=\"glmhmm\",\n",
    "    n_fold=0,\n",
    "    results_path=\"/Users/jessbreda/Desktop/github/violations-multinomial/src/violmulti/experiments/cluster_scripts/example_experiment/model_results/\",\n",
    ")"
   ]
  },
  {
   "cell_type": "code",
   "execution_count": 11,
   "metadata": {},
   "outputs": [],
   "source": [
    "loaded_model2 = load_model_from_pickle(\n",
    "    animal_id=\"\",\n",
    "    n_states=2,\n",
    "    model_name=\"glmhmm\",\n",
    "    n_fold=0,\n",
    "    results_path=\"/Users/jessbreda/Desktop/github/violations-multinomial/src/violmulti/experiments/cluster_scripts/example_experiment/\",\n",
    ")"
   ]
  },
  {
   "cell_type": "code",
   "execution_count": 13,
   "metadata": {},
   "outputs": [
    {
     "name": "stdout",
     "output_type": "stream",
     "text": [
      "(array([-1.74610071, -0.19170891]),)\n",
      "(array([[-0.01161171, -4.4615418 ],\n",
      "       [-3.88070606, -0.02085215]]),)\n",
      "[[[ 1.47712929  0.38278679]]\n",
      "\n",
      " [[-1.08570381  1.58486934]]]\n"
     ]
    }
   ],
   "source": [
    "print(loaded_model2.init_state_distn.params)\n",
    "print(loaded_model2.transitions.params)\n",
    "print(loaded_model2.observations.params)"
   ]
  },
  {
   "cell_type": "markdown",
   "metadata": {},
   "source": [
    "# DMG Config"
   ]
  },
  {
   "cell_type": "code",
   "execution_count": 14,
   "metadata": {},
   "outputs": [],
   "source": [
    "true_config = {\n",
    "    \"data\": {\n",
    "        \"s_a_stand\": lambda df: (standardize(df.s_a)),\n",
    "        \"s_b_stand\": lambda df: (standardize(df.s_b)),\n",
    "        \"stim_avg_stand\": lambda df: standardize(\n",
    "            (combine_two_cols(df.s_a, df.s_b, operation=\"mean\"))\n",
    "        ),\n",
    "        \"prev_correct\": lambda df: (\n",
    "            shift_n_trials_up(df.correct_side, df.session, shift_size=1)\n",
    "        ),\n",
    "        \"labels\": binary_choice_labels(),\n",
    "    }\n",
    "}\n",
    "\n",
    "true_config  # to compare the .yaml file to\n",
    "config_path = \"/Users/jessbreda/Desktop/github/violations-multinomial/src/violmulti/experiments/cluster_scripts/example_experiment/config.yaml\""
   ]
  },
  {
   "cell_type": "code",
   "execution_count": 15,
   "metadata": {},
   "outputs": [
    {
     "name": "stdout",
     "output_type": "stream",
     "text": [
      "Loading data for animal ids:  ['W078']\n"
     ]
    }
   ],
   "source": [
    "animal_ids = [\"W078\"]\n",
    "relative_data_path = \"/Users/jessbreda/Desktop/github/violations-multinomial/data\"\n",
    "\n",
    "df = DatasetLoader(\n",
    "    animal_ids=animal_ids,\n",
    "    data_type=\"new_trained\",\n",
    "    relative_data_path=relative_data_path,\n",
    ").load_data()"
   ]
  },
  {
   "cell_type": "markdown",
   "metadata": {},
   "source": [
    "### Testing Config Utilty Functions"
   ]
  },
  {
   "cell_type": "code",
   "execution_count": 36,
   "metadata": {},
   "outputs": [
    {
     "data": {
      "text/plain": [
       "{'animal_ids': ['W078'],\n",
       " 'relative_data_path': '/Users/jessbreda/Desktop/github/violations-multinomial/data',\n",
       " 'data_type': 'new_trained',\n",
       " 'dmg_config': {'s_a_stand': <function violmulti.utils.config_utils.<lambda>(df)>,\n",
       "  's_b_stand': <function violmulti.utils.config_utils.<lambda>(df)>,\n",
       "  'stim_avg_stand': <function violmulti.utils.config_utils.<lambda>(df)>,\n",
       "  'prev_correct': <function violmulti.utils.config_utils.<lambda>(df)>,\n",
       "  'labels': {'column_name': 'choice', 'mapping': {0: 0, 1: 1, 2: nan}}}}"
      ]
     },
     "execution_count": 36,
     "metadata": {},
     "output_type": "execute_result"
    }
   ],
   "source": [
    "from violmulti.utils.config_utils import *\n",
    "\n",
    "config = load_config_from_yaml(config_path)\n",
    "config[\"dmg_config\"] = convert_dmg_config_functions(config[\"dmg_config\"])\n",
    "config"
   ]
  },
  {
   "cell_type": "code",
   "execution_count": 37,
   "metadata": {},
   "outputs": [
    {
     "name": "stdout",
     "output_type": "stream",
     "text": [
      "DMG: Creating data matrix with columns: dict_keys(['s_a_stand', 's_b_stand', 'stim_avg_stand', 'prev_correct'])\n",
      "DMG: Creating labels with column: choice.\n",
      "DMG: Dropping 8254 nan rows from data and labels.\n",
      "DMG: Binary encoding labels.\n"
     ]
    },
    {
     "data": {
      "text/plain": [
       "(         s_a_stand  s_b_stand  stim_avg_stand  prev_correct\n",
       " 1180811  -1.672853  -0.782846       -1.344194           0.0\n",
       " 1180812  -0.036372   0.851860        0.446731           0.0\n",
       " 1180813  -0.036372  -0.782846       -0.448732           0.0\n",
       " 1180814  -0.854613  -1.600199       -1.344194           1.0\n",
       " 1180815   0.781869   0.034507        0.446731           1.0,\n",
       " array([0, 0, 0, 0, 1]))"
      ]
     },
     "execution_count": 37,
     "metadata": {},
     "output_type": "execute_result"
    }
   ],
   "source": [
    "dmg = DesignMatrixGeneratorPWM(df, config[\"dmg_config\"], verbose=True)\n",
    "X, y = dmg.create()\n",
    "X.head(), y[0:5]"
   ]
  },
  {
   "cell_type": "code",
   "execution_count": 38,
   "metadata": {},
   "outputs": [
    {
     "name": "stdout",
     "output_type": "stream",
     "text": [
      "Directory ensured at: /Users/jessbreda/Desktop/github/violations-multinomial/src/violmulti/experiments/cluster_scripts/example_experiment/data\n",
      "DataFrame saved to /Users/jessbreda/Desktop/github/violations-multinomial/src/violmulti/experiments/cluster_scripts/example_experiment/data/animal__model__fold_0_X.parquet\n",
      "Labels saved to /Users/jessbreda/Desktop/github/violations-multinomial/src/violmulti/experiments/cluster_scripts/example_experiment/data/animal__model__fold_0_y.parquet\n"
     ]
    }
   ],
   "source": [
    "save_data_and_labels_to_parquet(X, y)"
   ]
  },
  {
   "cell_type": "code",
   "execution_count": 39,
   "metadata": {},
   "outputs": [
    {
     "name": "stdout",
     "output_type": "stream",
     "text": [
      "here\n",
      "DataFrame loaded from /Users/jessbreda/Desktop/github/violations-multinomial/src/violmulti/experiments/cluster_scripts/example_experiment/data/animal__model__fold_0_X.parquet\n",
      "Labels loaded from /Users/jessbreda/Desktop/github/violations-multinomial/src/violmulti/experiments/cluster_scripts/example_experiment/data/animal__model__fold_0_y.parquet\n"
     ]
    }
   ],
   "source": [
    "X_loaded, y_loaded = load_data_and_labels_from_parquet(\n",
    "    animal_id=\"\",\n",
    "    model_name=\"\",\n",
    "    n_fold=0,\n",
    "    data_path=Path(\n",
    "        \"/Users/jessbreda/Desktop/github/violations-multinomial/src/violmulti/experiments/cluster_scripts/example_experiment/data\"\n",
    "    ),\n",
    ")"
   ]
  },
  {
   "cell_type": "code",
   "execution_count": 42,
   "metadata": {},
   "outputs": [],
   "source": [
    "# ensure X and X_loaded are equal\n",
    "assert X.equals(X_loaded)\n",
    "\n",
    "# ensure y and y_loaded are equal\n",
    "assert np.all(y == y_loaded)"
   ]
  },
  {
   "cell_type": "markdown",
   "metadata": {},
   "source": [
    "### Pre config utility functions"
   ]
  },
  {
   "cell_type": "code",
   "execution_count": 139,
   "metadata": {},
   "outputs": [
    {
     "name": "stdout",
     "output_type": "stream",
     "text": [
      "{'data': {'s_a_stand': 'lambda df: standardize(df.s_a)', 's_b_stand': 'lambda df: standardize(df.s_b)', 'stim_avg_stand': \"lambda df: standardize(combine_two_cols(df.s_a, df.s_b, operation='mean'))\", 'prev_correct': 'lambda df: shift_n_trials_up(df.correct_side, df.session, shift_size=1)', 'labels': 'binary_choice_labels()'}}\n"
     ]
    },
    {
     "data": {
      "text/plain": [
       "(dict, None)"
      ]
     },
     "execution_count": 139,
     "metadata": {},
     "output_type": "execute_result"
    }
   ],
   "source": [
    "def load_config_from_yaml(file_path):\n",
    "    with open(file_path, \"r\") as file:\n",
    "        config = yaml.safe_load(file)\n",
    "    return config\n",
    "\n",
    "\n",
    "# Example usage\n",
    "config = load_config_from_yaml(config_path)\n",
    "type(config), print(config)"
   ]
  },
  {
   "cell_type": "code",
   "execution_count": 140,
   "metadata": {},
   "outputs": [],
   "source": [
    "def deserialize_function_or_call(func_str):\n",
    "    try:\n",
    "        if \"lambda\" in func_str:\n",
    "            return eval(func_str)\n",
    "        elif \"()\" in func_str:  # Simple check to see if it's a function call\n",
    "            return eval(func_str)\n",
    "        else:\n",
    "            raise ValueError(f\"Unknown function format: {func_str}\")\n",
    "    except (SyntaxError, NameError) as e:\n",
    "        raise ValueError(f\"Error evaluating function string: {func_str} - {e}\")\n",
    "\n",
    "\n",
    "def convert_config_functions(config):\n",
    "    deserialized_config = {}\n",
    "    for key, func_str in config.items():\n",
    "        deserialized_config[key] = deserialize_function_or_call(func_str)\n",
    "    return deserialized_config"
   ]
  },
  {
   "cell_type": "code",
   "execution_count": 141,
   "metadata": {},
   "outputs": [
    {
     "data": {
      "text/plain": [
       "{'data': {'s_a_stand': 'lambda df: standardize(df.s_a)',\n",
       "  's_b_stand': 'lambda df: standardize(df.s_b)',\n",
       "  'stim_avg_stand': \"lambda df: standardize(combine_two_cols(df.s_a, df.s_b, operation='mean'))\",\n",
       "  'prev_correct': 'lambda df: shift_n_trials_up(df.correct_side, df.session, shift_size=1)',\n",
       "  'labels': 'binary_choice_labels()'}}"
      ]
     },
     "execution_count": 141,
     "metadata": {},
     "output_type": "execute_result"
    }
   ],
   "source": [
    "config  # pre-deserialization"
   ]
  },
  {
   "cell_type": "code",
   "execution_count": 142,
   "metadata": {},
   "outputs": [
    {
     "data": {
      "text/plain": [
       "{'data': {'s_a_stand': <function __main__.<lambda>(df)>,\n",
       "  's_b_stand': <function __main__.<lambda>(df)>,\n",
       "  'stim_avg_stand': <function __main__.<lambda>(df)>,\n",
       "  'prev_correct': <function __main__.<lambda>(df)>,\n",
       "  'labels': {'column_name': 'choice', 'mapping': {0: 0, 1: 1, 2: nan}}}}"
      ]
     },
     "execution_count": 142,
     "metadata": {},
     "output_type": "execute_result"
    }
   ],
   "source": [
    "config[\"dmg_config\"] = convert_config_functions(config[\"dmg_config\"])\n",
    "config  # post-deserialization"
   ]
  },
  {
   "cell_type": "code",
   "execution_count": 131,
   "metadata": {},
   "outputs": [
    {
     "name": "stdout",
     "output_type": "stream",
     "text": [
      "Loading data for animal ids:  ['W078']\n",
      "DMG: Creating data matrix with columns: dict_keys(['s_a_stand', 's_b_stand', 'stim_avg_stand', 'prev_correct'])\n",
      "DMG: Creating labels with column: choice.\n",
      "DMG: Dropping 8254 nan rows from data and labels.\n",
      "DMG: Binary encoding labels.\n"
     ]
    }
   ],
   "source": [
    "\n",
    "dmg = DesignMatrixGeneratorPWM(df, config[\"dmg_config\"], verbose=True)\n",
    "X, y = dmg.create()"
   ]
  },
  {
   "cell_type": "code",
   "execution_count": 133,
   "metadata": {},
   "outputs": [
    {
     "name": "stdout",
     "output_type": "stream",
     "text": [
      "DMG: Creating data matrix with columns: dict_keys(['s_a_stand', 's_b_stand', 'stim_avg_stand', 'prev_correct'])\n",
      "DMG: Creating labels with column: choice.\n",
      "DMG: Dropping 8254 nan rows from data and labels.\n",
      "DMG: Binary encoding labels.\n"
     ]
    }
   ],
   "source": [
    "dmg2 = DesignMatrixGeneratorPWM(df, true_config[\"dmg_config\"], verbose=True)\n",
    "X_true, y_true = dmg2.create()"
   ]
  },
  {
   "cell_type": "code",
   "execution_count": 119,
   "metadata": {},
   "outputs": [
    {
     "data": {
      "text/html": [
       "<div>\n",
       "<style scoped>\n",
       "    .dataframe tbody tr th:only-of-type {\n",
       "        vertical-align: middle;\n",
       "    }\n",
       "\n",
       "    .dataframe tbody tr th {\n",
       "        vertical-align: top;\n",
       "    }\n",
       "\n",
       "    .dataframe thead th {\n",
       "        text-align: right;\n",
       "    }\n",
       "</style>\n",
       "<table border=\"1\" class=\"dataframe\">\n",
       "  <thead>\n",
       "    <tr style=\"text-align: right;\">\n",
       "      <th></th>\n",
       "      <th>s_a_stand</th>\n",
       "      <th>s_b_stand</th>\n",
       "      <th>stim_avg_stand</th>\n",
       "      <th>prev_correct</th>\n",
       "    </tr>\n",
       "  </thead>\n",
       "  <tbody>\n",
       "    <tr>\n",
       "      <th>1180811</th>\n",
       "      <td>-1.672853</td>\n",
       "      <td>-0.782846</td>\n",
       "      <td>-1.344194</td>\n",
       "      <td>0.0</td>\n",
       "    </tr>\n",
       "    <tr>\n",
       "      <th>1180812</th>\n",
       "      <td>-0.036372</td>\n",
       "      <td>0.851860</td>\n",
       "      <td>0.446731</td>\n",
       "      <td>0.0</td>\n",
       "    </tr>\n",
       "    <tr>\n",
       "      <th>1180813</th>\n",
       "      <td>-0.036372</td>\n",
       "      <td>-0.782846</td>\n",
       "      <td>-0.448732</td>\n",
       "      <td>0.0</td>\n",
       "    </tr>\n",
       "    <tr>\n",
       "      <th>1180814</th>\n",
       "      <td>-0.854613</td>\n",
       "      <td>-1.600199</td>\n",
       "      <td>-1.344194</td>\n",
       "      <td>1.0</td>\n",
       "    </tr>\n",
       "    <tr>\n",
       "      <th>1180815</th>\n",
       "      <td>0.781869</td>\n",
       "      <td>0.034507</td>\n",
       "      <td>0.446731</td>\n",
       "      <td>1.0</td>\n",
       "    </tr>\n",
       "    <tr>\n",
       "      <th>...</th>\n",
       "      <td>...</td>\n",
       "      <td>...</td>\n",
       "      <td>...</td>\n",
       "      <td>...</td>\n",
       "    </tr>\n",
       "    <tr>\n",
       "      <th>1261383</th>\n",
       "      <td>-0.036372</td>\n",
       "      <td>-0.782846</td>\n",
       "      <td>-0.448732</td>\n",
       "      <td>1.0</td>\n",
       "    </tr>\n",
       "    <tr>\n",
       "      <th>1261384</th>\n",
       "      <td>-0.854613</td>\n",
       "      <td>0.034507</td>\n",
       "      <td>-0.448732</td>\n",
       "      <td>1.0</td>\n",
       "    </tr>\n",
       "    <tr>\n",
       "      <th>1261385</th>\n",
       "      <td>-1.672853</td>\n",
       "      <td>-0.782846</td>\n",
       "      <td>-1.344194</td>\n",
       "      <td>0.0</td>\n",
       "    </tr>\n",
       "    <tr>\n",
       "      <th>1261387</th>\n",
       "      <td>-0.036372</td>\n",
       "      <td>-0.782846</td>\n",
       "      <td>-0.448732</td>\n",
       "      <td>0.0</td>\n",
       "    </tr>\n",
       "    <tr>\n",
       "      <th>1261388</th>\n",
       "      <td>1.600109</td>\n",
       "      <td>0.851860</td>\n",
       "      <td>1.342194</td>\n",
       "      <td>1.0</td>\n",
       "    </tr>\n",
       "  </tbody>\n",
       "</table>\n",
       "<p>72328 rows × 4 columns</p>\n",
       "</div>"
      ],
      "text/plain": [
       "         s_a_stand  s_b_stand  stim_avg_stand  prev_correct\n",
       "1180811  -1.672853  -0.782846       -1.344194           0.0\n",
       "1180812  -0.036372   0.851860        0.446731           0.0\n",
       "1180813  -0.036372  -0.782846       -0.448732           0.0\n",
       "1180814  -0.854613  -1.600199       -1.344194           1.0\n",
       "1180815   0.781869   0.034507        0.446731           1.0\n",
       "...            ...        ...             ...           ...\n",
       "1261383  -0.036372  -0.782846       -0.448732           1.0\n",
       "1261384  -0.854613   0.034507       -0.448732           1.0\n",
       "1261385  -1.672853  -0.782846       -1.344194           0.0\n",
       "1261387  -0.036372  -0.782846       -0.448732           0.0\n",
       "1261388   1.600109   0.851860        1.342194           1.0\n",
       "\n",
       "[72328 rows x 4 columns]"
      ]
     },
     "execution_count": 119,
     "metadata": {},
     "output_type": "execute_result"
    }
   ],
   "source": [
    "X"
   ]
  },
  {
   "cell_type": "code",
   "execution_count": 120,
   "metadata": {},
   "outputs": [
    {
     "data": {
      "text/html": [
       "<div>\n",
       "<style scoped>\n",
       "    .dataframe tbody tr th:only-of-type {\n",
       "        vertical-align: middle;\n",
       "    }\n",
       "\n",
       "    .dataframe tbody tr th {\n",
       "        vertical-align: top;\n",
       "    }\n",
       "\n",
       "    .dataframe thead th {\n",
       "        text-align: right;\n",
       "    }\n",
       "</style>\n",
       "<table border=\"1\" class=\"dataframe\">\n",
       "  <thead>\n",
       "    <tr style=\"text-align: right;\">\n",
       "      <th></th>\n",
       "      <th>s_a_stand</th>\n",
       "      <th>s_b_stand</th>\n",
       "      <th>stim_avg_stand</th>\n",
       "      <th>prev_correct</th>\n",
       "    </tr>\n",
       "  </thead>\n",
       "  <tbody>\n",
       "    <tr>\n",
       "      <th>1180811</th>\n",
       "      <td>-1.672853</td>\n",
       "      <td>-0.782846</td>\n",
       "      <td>-1.344194</td>\n",
       "      <td>0.0</td>\n",
       "    </tr>\n",
       "    <tr>\n",
       "      <th>1180812</th>\n",
       "      <td>-0.036372</td>\n",
       "      <td>0.851860</td>\n",
       "      <td>0.446731</td>\n",
       "      <td>0.0</td>\n",
       "    </tr>\n",
       "    <tr>\n",
       "      <th>1180813</th>\n",
       "      <td>-0.036372</td>\n",
       "      <td>-0.782846</td>\n",
       "      <td>-0.448732</td>\n",
       "      <td>0.0</td>\n",
       "    </tr>\n",
       "    <tr>\n",
       "      <th>1180814</th>\n",
       "      <td>-0.854613</td>\n",
       "      <td>-1.600199</td>\n",
       "      <td>-1.344194</td>\n",
       "      <td>1.0</td>\n",
       "    </tr>\n",
       "    <tr>\n",
       "      <th>1180815</th>\n",
       "      <td>0.781869</td>\n",
       "      <td>0.034507</td>\n",
       "      <td>0.446731</td>\n",
       "      <td>1.0</td>\n",
       "    </tr>\n",
       "    <tr>\n",
       "      <th>...</th>\n",
       "      <td>...</td>\n",
       "      <td>...</td>\n",
       "      <td>...</td>\n",
       "      <td>...</td>\n",
       "    </tr>\n",
       "    <tr>\n",
       "      <th>1261383</th>\n",
       "      <td>-0.036372</td>\n",
       "      <td>-0.782846</td>\n",
       "      <td>-0.448732</td>\n",
       "      <td>1.0</td>\n",
       "    </tr>\n",
       "    <tr>\n",
       "      <th>1261384</th>\n",
       "      <td>-0.854613</td>\n",
       "      <td>0.034507</td>\n",
       "      <td>-0.448732</td>\n",
       "      <td>1.0</td>\n",
       "    </tr>\n",
       "    <tr>\n",
       "      <th>1261385</th>\n",
       "      <td>-1.672853</td>\n",
       "      <td>-0.782846</td>\n",
       "      <td>-1.344194</td>\n",
       "      <td>0.0</td>\n",
       "    </tr>\n",
       "    <tr>\n",
       "      <th>1261387</th>\n",
       "      <td>-0.036372</td>\n",
       "      <td>-0.782846</td>\n",
       "      <td>-0.448732</td>\n",
       "      <td>0.0</td>\n",
       "    </tr>\n",
       "    <tr>\n",
       "      <th>1261388</th>\n",
       "      <td>1.600109</td>\n",
       "      <td>0.851860</td>\n",
       "      <td>1.342194</td>\n",
       "      <td>1.0</td>\n",
       "    </tr>\n",
       "  </tbody>\n",
       "</table>\n",
       "<p>72328 rows × 4 columns</p>\n",
       "</div>"
      ],
      "text/plain": [
       "         s_a_stand  s_b_stand  stim_avg_stand  prev_correct\n",
       "1180811  -1.672853  -0.782846       -1.344194           0.0\n",
       "1180812  -0.036372   0.851860        0.446731           0.0\n",
       "1180813  -0.036372  -0.782846       -0.448732           0.0\n",
       "1180814  -0.854613  -1.600199       -1.344194           1.0\n",
       "1180815   0.781869   0.034507        0.446731           1.0\n",
       "...            ...        ...             ...           ...\n",
       "1261383  -0.036372  -0.782846       -0.448732           1.0\n",
       "1261384  -0.854613   0.034507       -0.448732           1.0\n",
       "1261385  -1.672853  -0.782846       -1.344194           0.0\n",
       "1261387  -0.036372  -0.782846       -0.448732           0.0\n",
       "1261388   1.600109   0.851860        1.342194           1.0\n",
       "\n",
       "[72328 rows x 4 columns]"
      ]
     },
     "execution_count": 120,
     "metadata": {},
     "output_type": "execute_result"
    }
   ],
   "source": [
    "X_true"
   ]
  }
 ],
 "metadata": {
  "kernelspec": {
   "display_name": "viol-multi",
   "language": "python",
   "name": "python3"
  },
  "language_info": {
   "codemirror_mode": {
    "name": "ipython",
    "version": 3
   },
   "file_extension": ".py",
   "mimetype": "text/x-python",
   "name": "python",
   "nbconvert_exporter": "python",
   "pygments_lexer": "ipython3",
   "version": "3.10.0"
  }
 },
 "nbformat": 4,
 "nbformat_minor": 2
}
