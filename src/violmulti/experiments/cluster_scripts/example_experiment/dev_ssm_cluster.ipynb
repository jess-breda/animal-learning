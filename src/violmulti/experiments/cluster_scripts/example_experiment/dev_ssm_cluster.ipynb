{
 "cells": [
  {
   "cell_type": "code",
   "execution_count": 122,
   "metadata": {},
   "outputs": [
    {
     "name": "stdout",
     "output_type": "stream",
     "text": [
      "The autoreload extension is already loaded. To reload it, use:\n",
      "  %reload_ext autoreload\n"
     ]
    }
   ],
   "source": [
    "import yaml\n",
    "from violmulti.data.dataset_loader import DatasetLoader\n",
    "from violmulti.data.dataset_loader import DatasetLoader\n",
    "\n",
    "from violmulti.features.design_matrix_generator_PWM import *\n",
    "\n",
    "import pandas as pd\n",
    "\n",
    "%load_ext autoreload\n",
    "%autoreload 2"
   ]
  },
  {
   "cell_type": "code",
   "execution_count": 145,
   "metadata": {},
   "outputs": [],
   "source": [
    "true_config = {\n",
    "    \"data\": {\n",
    "        \"s_a_stand\": lambda df: (standardize(df.s_a)),\n",
    "        \"s_b_stand\": lambda df: (standardize(df.s_b)),\n",
    "        \"stim_avg_stand\": lambda df: standardize(\n",
    "            (combine_two_cols(df.s_a, df.s_b, operation=\"mean\"))\n",
    "        ),\n",
    "        \"prev_correct\": lambda df: (\n",
    "            shift_n_trials_up(df.correct_side, df.session, shift_size=1)\n",
    "        ),\n",
    "        \"labels\": binary_choice_labels(),\n",
    "    }\n",
    "}\n",
    "\n",
    "true_config  # to compare the .yaml file to\n",
    "config_path = \"/Users/jessbreda/Desktop/github/violations-multinomial/src/violmulti/experiments/cluster_scripts/example_experiment/config.yaml\""
   ]
  },
  {
   "cell_type": "code",
   "execution_count": 146,
   "metadata": {},
   "outputs": [
    {
     "name": "stdout",
     "output_type": "stream",
     "text": [
      "Loading data for animal ids:  ['W078']\n"
     ]
    }
   ],
   "source": [
    "animal_ids = [\"W078\"]\n",
    "relative_data_path = \"/Users/jessbreda/Desktop/github/violations-multinomial/data\"\n",
    "\n",
    "df = DatasetLoader(\n",
    "    animal_ids=animal_ids,\n",
    "    data_type=\"new_trained\",\n",
    "    relative_data_path=relative_data_path,\n",
    ").load_data()"
   ]
  },
  {
   "cell_type": "markdown",
   "metadata": {},
   "source": [
    "### Testing Config Utilty Functions"
   ]
  },
  {
   "cell_type": "code",
   "execution_count": 156,
   "metadata": {},
   "outputs": [
    {
     "data": {
      "text/plain": [
       "{'dmg_config': {'s_a_stand': <function violmulti.utils.config_utils.<lambda>(df)>,\n",
       "  's_b_stand': <function violmulti.utils.config_utils.<lambda>(df)>,\n",
       "  'stim_avg_stand': <function violmulti.utils.config_utils.<lambda>(df)>,\n",
       "  'prev_correct': <function violmulti.utils.config_utils.<lambda>(df)>,\n",
       "  'labels': {'column_name': 'choice', 'mapping': {0: 0, 1: 1, 2: nan}}}}"
      ]
     },
     "execution_count": 156,
     "metadata": {},
     "output_type": "execute_result"
    }
   ],
   "source": [
    "from violmulti.utils.config_utils import *\n",
    "\n",
    "config = load_config_from_yaml(config_path)\n",
    "config[\"dmg_config\"] = convert_dmg_config_functions(config[\"dmg_config\"])\n",
    "config"
   ]
  },
  {
   "cell_type": "code",
   "execution_count": 158,
   "metadata": {},
   "outputs": [
    {
     "name": "stdout",
     "output_type": "stream",
     "text": [
      "DMG: Creating data matrix with columns: dict_keys(['s_a_stand', 's_b_stand', 'stim_avg_stand', 'prev_correct'])\n",
      "DMG: Creating labels with column: choice.\n",
      "DMG: Dropping 8254 nan rows from data and labels.\n",
      "DMG: Binary encoding labels.\n"
     ]
    },
    {
     "data": {
      "text/plain": [
       "(         s_a_stand  s_b_stand  stim_avg_stand  prev_correct\n",
       " 1180811  -1.672853  -0.782846       -1.344194           0.0\n",
       " 1180812  -0.036372   0.851860        0.446731           0.0\n",
       " 1180813  -0.036372  -0.782846       -0.448732           0.0\n",
       " 1180814  -0.854613  -1.600199       -1.344194           1.0\n",
       " 1180815   0.781869   0.034507        0.446731           1.0,\n",
       " array([0, 0, 0, 0, 1]))"
      ]
     },
     "execution_count": 158,
     "metadata": {},
     "output_type": "execute_result"
    }
   ],
   "source": [
    "dmg = DesignMatrixGeneratorPWM(df, config[\"dmg_config\"], verbose=True)\n",
    "X, y = dmg.create()\n",
    "X.head(), y[0:5]"
   ]
  },
  {
   "cell_type": "markdown",
   "metadata": {},
   "source": [
    "### Pre config utility functions"
   ]
  },
  {
   "cell_type": "code",
   "execution_count": 139,
   "metadata": {},
   "outputs": [
    {
     "name": "stdout",
     "output_type": "stream",
     "text": [
      "{'data': {'s_a_stand': 'lambda df: standardize(df.s_a)', 's_b_stand': 'lambda df: standardize(df.s_b)', 'stim_avg_stand': \"lambda df: standardize(combine_two_cols(df.s_a, df.s_b, operation='mean'))\", 'prev_correct': 'lambda df: shift_n_trials_up(df.correct_side, df.session, shift_size=1)', 'labels': 'binary_choice_labels()'}}\n"
     ]
    },
    {
     "data": {
      "text/plain": [
       "(dict, None)"
      ]
     },
     "execution_count": 139,
     "metadata": {},
     "output_type": "execute_result"
    }
   ],
   "source": [
    "def load_config_from_yaml(file_path):\n",
    "    with open(file_path, \"r\") as file:\n",
    "        config = yaml.safe_load(file)\n",
    "    return config\n",
    "\n",
    "\n",
    "# Example usage\n",
    "config = load_config_from_yaml(config_path)\n",
    "type(config), print(config)"
   ]
  },
  {
   "cell_type": "code",
   "execution_count": 140,
   "metadata": {},
   "outputs": [],
   "source": [
    "def deserialize_function_or_call(func_str):\n",
    "    try:\n",
    "        if \"lambda\" in func_str:\n",
    "            return eval(func_str)\n",
    "        elif \"()\" in func_str:  # Simple check to see if it's a function call\n",
    "            return eval(func_str)\n",
    "        else:\n",
    "            raise ValueError(f\"Unknown function format: {func_str}\")\n",
    "    except (SyntaxError, NameError) as e:\n",
    "        raise ValueError(f\"Error evaluating function string: {func_str} - {e}\")\n",
    "\n",
    "\n",
    "def convert_config_functions(config):\n",
    "    deserialized_config = {}\n",
    "    for key, func_str in config.items():\n",
    "        deserialized_config[key] = deserialize_function_or_call(func_str)\n",
    "    return deserialized_config"
   ]
  },
  {
   "cell_type": "code",
   "execution_count": 141,
   "metadata": {},
   "outputs": [
    {
     "data": {
      "text/plain": [
       "{'data': {'s_a_stand': 'lambda df: standardize(df.s_a)',\n",
       "  's_b_stand': 'lambda df: standardize(df.s_b)',\n",
       "  'stim_avg_stand': \"lambda df: standardize(combine_two_cols(df.s_a, df.s_b, operation='mean'))\",\n",
       "  'prev_correct': 'lambda df: shift_n_trials_up(df.correct_side, df.session, shift_size=1)',\n",
       "  'labels': 'binary_choice_labels()'}}"
      ]
     },
     "execution_count": 141,
     "metadata": {},
     "output_type": "execute_result"
    }
   ],
   "source": [
    "config  # pre-deserialization"
   ]
  },
  {
   "cell_type": "code",
   "execution_count": 142,
   "metadata": {},
   "outputs": [
    {
     "data": {
      "text/plain": [
       "{'data': {'s_a_stand': <function __main__.<lambda>(df)>,\n",
       "  's_b_stand': <function __main__.<lambda>(df)>,\n",
       "  'stim_avg_stand': <function __main__.<lambda>(df)>,\n",
       "  'prev_correct': <function __main__.<lambda>(df)>,\n",
       "  'labels': {'column_name': 'choice', 'mapping': {0: 0, 1: 1, 2: nan}}}}"
      ]
     },
     "execution_count": 142,
     "metadata": {},
     "output_type": "execute_result"
    }
   ],
   "source": [
    "config[\"dmg_config\"] = convert_config_functions(config[\"dmg_config\"])\n",
    "config  # post-deserialization"
   ]
  },
  {
   "cell_type": "code",
   "execution_count": 131,
   "metadata": {},
   "outputs": [
    {
     "name": "stdout",
     "output_type": "stream",
     "text": [
      "Loading data for animal ids:  ['W078']\n",
      "DMG: Creating data matrix with columns: dict_keys(['s_a_stand', 's_b_stand', 'stim_avg_stand', 'prev_correct'])\n",
      "DMG: Creating labels with column: choice.\n",
      "DMG: Dropping 8254 nan rows from data and labels.\n",
      "DMG: Binary encoding labels.\n"
     ]
    }
   ],
   "source": [
    "\n",
    "dmg = DesignMatrixGeneratorPWM(df, config[\"dmg_config\"], verbose=True)\n",
    "X, y = dmg.create()"
   ]
  },
  {
   "cell_type": "code",
   "execution_count": 133,
   "metadata": {},
   "outputs": [
    {
     "name": "stdout",
     "output_type": "stream",
     "text": [
      "DMG: Creating data matrix with columns: dict_keys(['s_a_stand', 's_b_stand', 'stim_avg_stand', 'prev_correct'])\n",
      "DMG: Creating labels with column: choice.\n",
      "DMG: Dropping 8254 nan rows from data and labels.\n",
      "DMG: Binary encoding labels.\n"
     ]
    }
   ],
   "source": [
    "dmg2 = DesignMatrixGeneratorPWM(df, true_config[\"dmg_config\"], verbose=True)\n",
    "X_true, y_true = dmg2.create()"
   ]
  },
  {
   "cell_type": "code",
   "execution_count": 119,
   "metadata": {},
   "outputs": [
    {
     "data": {
      "text/html": [
       "<div>\n",
       "<style scoped>\n",
       "    .dataframe tbody tr th:only-of-type {\n",
       "        vertical-align: middle;\n",
       "    }\n",
       "\n",
       "    .dataframe tbody tr th {\n",
       "        vertical-align: top;\n",
       "    }\n",
       "\n",
       "    .dataframe thead th {\n",
       "        text-align: right;\n",
       "    }\n",
       "</style>\n",
       "<table border=\"1\" class=\"dataframe\">\n",
       "  <thead>\n",
       "    <tr style=\"text-align: right;\">\n",
       "      <th></th>\n",
       "      <th>s_a_stand</th>\n",
       "      <th>s_b_stand</th>\n",
       "      <th>stim_avg_stand</th>\n",
       "      <th>prev_correct</th>\n",
       "    </tr>\n",
       "  </thead>\n",
       "  <tbody>\n",
       "    <tr>\n",
       "      <th>1180811</th>\n",
       "      <td>-1.672853</td>\n",
       "      <td>-0.782846</td>\n",
       "      <td>-1.344194</td>\n",
       "      <td>0.0</td>\n",
       "    </tr>\n",
       "    <tr>\n",
       "      <th>1180812</th>\n",
       "      <td>-0.036372</td>\n",
       "      <td>0.851860</td>\n",
       "      <td>0.446731</td>\n",
       "      <td>0.0</td>\n",
       "    </tr>\n",
       "    <tr>\n",
       "      <th>1180813</th>\n",
       "      <td>-0.036372</td>\n",
       "      <td>-0.782846</td>\n",
       "      <td>-0.448732</td>\n",
       "      <td>0.0</td>\n",
       "    </tr>\n",
       "    <tr>\n",
       "      <th>1180814</th>\n",
       "      <td>-0.854613</td>\n",
       "      <td>-1.600199</td>\n",
       "      <td>-1.344194</td>\n",
       "      <td>1.0</td>\n",
       "    </tr>\n",
       "    <tr>\n",
       "      <th>1180815</th>\n",
       "      <td>0.781869</td>\n",
       "      <td>0.034507</td>\n",
       "      <td>0.446731</td>\n",
       "      <td>1.0</td>\n",
       "    </tr>\n",
       "    <tr>\n",
       "      <th>...</th>\n",
       "      <td>...</td>\n",
       "      <td>...</td>\n",
       "      <td>...</td>\n",
       "      <td>...</td>\n",
       "    </tr>\n",
       "    <tr>\n",
       "      <th>1261383</th>\n",
       "      <td>-0.036372</td>\n",
       "      <td>-0.782846</td>\n",
       "      <td>-0.448732</td>\n",
       "      <td>1.0</td>\n",
       "    </tr>\n",
       "    <tr>\n",
       "      <th>1261384</th>\n",
       "      <td>-0.854613</td>\n",
       "      <td>0.034507</td>\n",
       "      <td>-0.448732</td>\n",
       "      <td>1.0</td>\n",
       "    </tr>\n",
       "    <tr>\n",
       "      <th>1261385</th>\n",
       "      <td>-1.672853</td>\n",
       "      <td>-0.782846</td>\n",
       "      <td>-1.344194</td>\n",
       "      <td>0.0</td>\n",
       "    </tr>\n",
       "    <tr>\n",
       "      <th>1261387</th>\n",
       "      <td>-0.036372</td>\n",
       "      <td>-0.782846</td>\n",
       "      <td>-0.448732</td>\n",
       "      <td>0.0</td>\n",
       "    </tr>\n",
       "    <tr>\n",
       "      <th>1261388</th>\n",
       "      <td>1.600109</td>\n",
       "      <td>0.851860</td>\n",
       "      <td>1.342194</td>\n",
       "      <td>1.0</td>\n",
       "    </tr>\n",
       "  </tbody>\n",
       "</table>\n",
       "<p>72328 rows × 4 columns</p>\n",
       "</div>"
      ],
      "text/plain": [
       "         s_a_stand  s_b_stand  stim_avg_stand  prev_correct\n",
       "1180811  -1.672853  -0.782846       -1.344194           0.0\n",
       "1180812  -0.036372   0.851860        0.446731           0.0\n",
       "1180813  -0.036372  -0.782846       -0.448732           0.0\n",
       "1180814  -0.854613  -1.600199       -1.344194           1.0\n",
       "1180815   0.781869   0.034507        0.446731           1.0\n",
       "...            ...        ...             ...           ...\n",
       "1261383  -0.036372  -0.782846       -0.448732           1.0\n",
       "1261384  -0.854613   0.034507       -0.448732           1.0\n",
       "1261385  -1.672853  -0.782846       -1.344194           0.0\n",
       "1261387  -0.036372  -0.782846       -0.448732           0.0\n",
       "1261388   1.600109   0.851860        1.342194           1.0\n",
       "\n",
       "[72328 rows x 4 columns]"
      ]
     },
     "execution_count": 119,
     "metadata": {},
     "output_type": "execute_result"
    }
   ],
   "source": [
    "X"
   ]
  },
  {
   "cell_type": "code",
   "execution_count": 120,
   "metadata": {},
   "outputs": [
    {
     "data": {
      "text/html": [
       "<div>\n",
       "<style scoped>\n",
       "    .dataframe tbody tr th:only-of-type {\n",
       "        vertical-align: middle;\n",
       "    }\n",
       "\n",
       "    .dataframe tbody tr th {\n",
       "        vertical-align: top;\n",
       "    }\n",
       "\n",
       "    .dataframe thead th {\n",
       "        text-align: right;\n",
       "    }\n",
       "</style>\n",
       "<table border=\"1\" class=\"dataframe\">\n",
       "  <thead>\n",
       "    <tr style=\"text-align: right;\">\n",
       "      <th></th>\n",
       "      <th>s_a_stand</th>\n",
       "      <th>s_b_stand</th>\n",
       "      <th>stim_avg_stand</th>\n",
       "      <th>prev_correct</th>\n",
       "    </tr>\n",
       "  </thead>\n",
       "  <tbody>\n",
       "    <tr>\n",
       "      <th>1180811</th>\n",
       "      <td>-1.672853</td>\n",
       "      <td>-0.782846</td>\n",
       "      <td>-1.344194</td>\n",
       "      <td>0.0</td>\n",
       "    </tr>\n",
       "    <tr>\n",
       "      <th>1180812</th>\n",
       "      <td>-0.036372</td>\n",
       "      <td>0.851860</td>\n",
       "      <td>0.446731</td>\n",
       "      <td>0.0</td>\n",
       "    </tr>\n",
       "    <tr>\n",
       "      <th>1180813</th>\n",
       "      <td>-0.036372</td>\n",
       "      <td>-0.782846</td>\n",
       "      <td>-0.448732</td>\n",
       "      <td>0.0</td>\n",
       "    </tr>\n",
       "    <tr>\n",
       "      <th>1180814</th>\n",
       "      <td>-0.854613</td>\n",
       "      <td>-1.600199</td>\n",
       "      <td>-1.344194</td>\n",
       "      <td>1.0</td>\n",
       "    </tr>\n",
       "    <tr>\n",
       "      <th>1180815</th>\n",
       "      <td>0.781869</td>\n",
       "      <td>0.034507</td>\n",
       "      <td>0.446731</td>\n",
       "      <td>1.0</td>\n",
       "    </tr>\n",
       "    <tr>\n",
       "      <th>...</th>\n",
       "      <td>...</td>\n",
       "      <td>...</td>\n",
       "      <td>...</td>\n",
       "      <td>...</td>\n",
       "    </tr>\n",
       "    <tr>\n",
       "      <th>1261383</th>\n",
       "      <td>-0.036372</td>\n",
       "      <td>-0.782846</td>\n",
       "      <td>-0.448732</td>\n",
       "      <td>1.0</td>\n",
       "    </tr>\n",
       "    <tr>\n",
       "      <th>1261384</th>\n",
       "      <td>-0.854613</td>\n",
       "      <td>0.034507</td>\n",
       "      <td>-0.448732</td>\n",
       "      <td>1.0</td>\n",
       "    </tr>\n",
       "    <tr>\n",
       "      <th>1261385</th>\n",
       "      <td>-1.672853</td>\n",
       "      <td>-0.782846</td>\n",
       "      <td>-1.344194</td>\n",
       "      <td>0.0</td>\n",
       "    </tr>\n",
       "    <tr>\n",
       "      <th>1261387</th>\n",
       "      <td>-0.036372</td>\n",
       "      <td>-0.782846</td>\n",
       "      <td>-0.448732</td>\n",
       "      <td>0.0</td>\n",
       "    </tr>\n",
       "    <tr>\n",
       "      <th>1261388</th>\n",
       "      <td>1.600109</td>\n",
       "      <td>0.851860</td>\n",
       "      <td>1.342194</td>\n",
       "      <td>1.0</td>\n",
       "    </tr>\n",
       "  </tbody>\n",
       "</table>\n",
       "<p>72328 rows × 4 columns</p>\n",
       "</div>"
      ],
      "text/plain": [
       "         s_a_stand  s_b_stand  stim_avg_stand  prev_correct\n",
       "1180811  -1.672853  -0.782846       -1.344194           0.0\n",
       "1180812  -0.036372   0.851860        0.446731           0.0\n",
       "1180813  -0.036372  -0.782846       -0.448732           0.0\n",
       "1180814  -0.854613  -1.600199       -1.344194           1.0\n",
       "1180815   0.781869   0.034507        0.446731           1.0\n",
       "...            ...        ...             ...           ...\n",
       "1261383  -0.036372  -0.782846       -0.448732           1.0\n",
       "1261384  -0.854613   0.034507       -0.448732           1.0\n",
       "1261385  -1.672853  -0.782846       -1.344194           0.0\n",
       "1261387  -0.036372  -0.782846       -0.448732           0.0\n",
       "1261388   1.600109   0.851860        1.342194           1.0\n",
       "\n",
       "[72328 rows x 4 columns]"
      ]
     },
     "execution_count": 120,
     "metadata": {},
     "output_type": "execute_result"
    }
   ],
   "source": [
    "X_true"
   ]
  }
 ],
 "metadata": {
  "kernelspec": {
   "display_name": "viol-multi",
   "language": "python",
   "name": "python3"
  },
  "language_info": {
   "codemirror_mode": {
    "name": "ipython",
    "version": 3
   },
   "file_extension": ".py",
   "mimetype": "text/x-python",
   "name": "python",
   "nbconvert_exporter": "python",
   "pygments_lexer": "ipython3",
   "version": "3.10.0"
  }
 },
 "nbformat": 4,
 "nbformat_minor": 2
}
