{
 "cells": [
  {
   "cell_type": "markdown",
   "metadata": {},
   "source": [
    "# Fit binary GLM-HMM with 2 states\n",
    "\n",
    "Will fit all animals and make figures in figures/glmhmm/initial_fits"
   ]
  },
  {
   "cell_type": "code",
   "execution_count": 1,
   "metadata": {},
   "outputs": [
    {
     "name": "stderr",
     "output_type": "stream",
     "text": [
      "/Users/jessbreda/anaconda3/envs/an_lrn/lib/python3.10/site-packages/tqdm/auto.py:21: TqdmWarning: IProgress not found. Please update jupyter and ipywidgets. See https://ipywidgets.readthedocs.io/en/stable/user_install.html\n",
      "  from .autonotebook import tqdm as notebook_tqdm\n"
     ]
    }
   ],
   "source": [
    "from multiglm.experiments.experiment_binary_glmhmm import *\n",
    "from multiglm.features.design_matrix_generator_PWM import *\n",
    "from multiglm.data import ANIMAL_IDS\n",
    "\n",
    "\n",
    "\n",
    "%load_ext autoreload\n",
    "%autoreload 2\n",
    "\n",
    "sns.set_context('talk')"
   ]
  },
  {
   "cell_type": "code",
   "execution_count": 2,
   "metadata": {},
   "outputs": [
    {
     "name": "stdout",
     "output_type": "stream",
     "text": [
      "Loading data for animal ids:  ['W051', 'W060', 'W065', 'W066', 'W068', 'W072', 'W073', 'W074', 'W075', 'W078', 'W080', 'W081', 'W082', 'W083', 'W088', 'W089', 'W094']\n",
      "Running GLM-HMM for animal W051\n",
      "DMG: Creating data matrix with columns: dict_keys(['s_a', 's_b', 'bias', 'session'])\n",
      "DMG: Creating labels with column: choice.\n",
      "DMG: Dropping 13570 nan rows from data and labels.\n",
      "DMG: Binary encoding labels.\n",
      "SSM Preprocessing: 273 sessions found.\n"
     ]
    },
    {
     "name": "stderr",
     "output_type": "stream",
     "text": [
      "LP: -38848.5: 100%|██████████| 200/200 [00:54<00:00,  3.68it/s]\n",
      "/Users/jessbreda/anaconda3/envs/an_lrn/lib/python3.10/site-packages/seaborn/_oldcore.py:1765: FutureWarning: unique with argument that is not not a Series, Index, ExtensionArray, or np.ndarray is deprecated and will raise in a future version.\n",
      "  order = pd.unique(vector)\n"
     ]
    },
    {
     "name": "stdout",
     "output_type": "stream",
     "text": [
      "VIZ: Summary figure saved\n",
      "-----------\n",
      "\n",
      "Running GLM-HMM for animal W060\n",
      "DMG: Creating data matrix with columns: dict_keys(['s_a', 's_b', 'bias', 'session'])\n",
      "DMG: Creating labels with column: choice.\n",
      "DMG: Dropping 11156 nan rows from data and labels.\n",
      "DMG: Binary encoding labels.\n",
      "SSM Preprocessing: 237 sessions found.\n"
     ]
    },
    {
     "name": "stderr",
     "output_type": "stream",
     "text": [
      "LP: -31487.6: 100%|██████████| 200/200 [00:34<00:00,  5.72it/s]\n",
      "/Users/jessbreda/anaconda3/envs/an_lrn/lib/python3.10/site-packages/seaborn/_oldcore.py:1765: FutureWarning: unique with argument that is not not a Series, Index, ExtensionArray, or np.ndarray is deprecated and will raise in a future version.\n",
      "  order = pd.unique(vector)\n"
     ]
    },
    {
     "name": "stdout",
     "output_type": "stream",
     "text": [
      "VIZ: Summary figure saved\n",
      "-----------\n",
      "\n",
      "Running GLM-HMM for animal W065\n",
      "DMG: Creating data matrix with columns: dict_keys(['s_a', 's_b', 'bias', 'session'])\n",
      "DMG: Creating labels with column: choice.\n",
      "DMG: Dropping 20462 nan rows from data and labels.\n",
      "DMG: Binary encoding labels.\n",
      "SSM Preprocessing: 295 sessions found.\n"
     ]
    },
    {
     "name": "stderr",
     "output_type": "stream",
     "text": [
      "LP: -26528.3: 100%|██████████| 200/200 [00:42<00:00,  4.74it/s]\n",
      "/Users/jessbreda/anaconda3/envs/an_lrn/lib/python3.10/site-packages/seaborn/_oldcore.py:1765: FutureWarning: unique with argument that is not not a Series, Index, ExtensionArray, or np.ndarray is deprecated and will raise in a future version.\n",
      "  order = pd.unique(vector)\n"
     ]
    },
    {
     "name": "stdout",
     "output_type": "stream",
     "text": [
      "VIZ: Summary figure saved\n",
      "-----------\n",
      "\n",
      "Running GLM-HMM for animal W066\n",
      "DMG: Creating data matrix with columns: dict_keys(['s_a', 's_b', 'bias', 'session'])\n",
      "DMG: Creating labels with column: choice.\n",
      "DMG: Dropping 29994 nan rows from data and labels.\n",
      "DMG: Binary encoding labels.\n",
      "SSM Preprocessing: 364 sessions found.\n"
     ]
    },
    {
     "name": "stderr",
     "output_type": "stream",
     "text": [
      "Converged to LP: -42542.7:   0%|          | 1/200 [00:00<01:23,  2.39it/s]\n",
      "/Users/jessbreda/anaconda3/envs/an_lrn/lib/python3.10/site-packages/seaborn/_oldcore.py:1765: FutureWarning: unique with argument that is not not a Series, Index, ExtensionArray, or np.ndarray is deprecated and will raise in a future version.\n",
      "  order = pd.unique(vector)\n"
     ]
    },
    {
     "name": "stdout",
     "output_type": "stream",
     "text": [
      "VIZ: Summary figure saved\n",
      "-----------\n",
      "\n",
      "Running GLM-HMM for animal W068\n",
      "DMG: Creating data matrix with columns: dict_keys(['s_a', 's_b', 'bias', 'session'])\n",
      "DMG: Creating labels with column: choice.\n",
      "DMG: Dropping 17869 nan rows from data and labels.\n",
      "DMG: Binary encoding labels.\n",
      "SSM Preprocessing: 264 sessions found.\n"
     ]
    },
    {
     "name": "stderr",
     "output_type": "stream",
     "text": [
      "Converged to LP: -46663.0:   1%|          | 2/200 [00:00<01:00,  3.26it/s]\n",
      "/Users/jessbreda/anaconda3/envs/an_lrn/lib/python3.10/site-packages/seaborn/_oldcore.py:1765: FutureWarning: unique with argument that is not not a Series, Index, ExtensionArray, or np.ndarray is deprecated and will raise in a future version.\n",
      "  order = pd.unique(vector)\n"
     ]
    },
    {
     "name": "stdout",
     "output_type": "stream",
     "text": [
      "VIZ: Summary figure saved\n",
      "-----------\n",
      "\n",
      "Running GLM-HMM for animal W072\n",
      "DMG: Creating data matrix with columns: dict_keys(['s_a', 's_b', 'bias', 'session'])\n",
      "DMG: Creating labels with column: choice.\n",
      "DMG: Dropping 14463 nan rows from data and labels.\n",
      "DMG: Binary encoding labels.\n",
      "SSM Preprocessing: 415 sessions found.\n"
     ]
    },
    {
     "name": "stderr",
     "output_type": "stream",
     "text": [
      "LP: -34844.9: 100%|██████████| 200/200 [01:06<00:00,  3.00it/s]\n",
      "/Users/jessbreda/anaconda3/envs/an_lrn/lib/python3.10/site-packages/seaborn/_oldcore.py:1765: FutureWarning: unique with argument that is not not a Series, Index, ExtensionArray, or np.ndarray is deprecated and will raise in a future version.\n",
      "  order = pd.unique(vector)\n"
     ]
    },
    {
     "name": "stdout",
     "output_type": "stream",
     "text": [
      "VIZ: Summary figure saved\n",
      "-----------\n",
      "\n",
      "Running GLM-HMM for animal W073\n",
      "DMG: Creating data matrix with columns: dict_keys(['s_a', 's_b', 'bias', 'session'])\n",
      "DMG: Creating labels with column: choice.\n",
      "DMG: Dropping 16513 nan rows from data and labels.\n",
      "DMG: Binary encoding labels.\n",
      "SSM Preprocessing: 400 sessions found.\n"
     ]
    },
    {
     "name": "stderr",
     "output_type": "stream",
     "text": [
      "LP: -42908.4: 100%|██████████| 200/200 [01:02<00:00,  3.21it/s]\n",
      "/Users/jessbreda/anaconda3/envs/an_lrn/lib/python3.10/site-packages/seaborn/_oldcore.py:1765: FutureWarning: unique with argument that is not not a Series, Index, ExtensionArray, or np.ndarray is deprecated and will raise in a future version.\n",
      "  order = pd.unique(vector)\n"
     ]
    },
    {
     "name": "stdout",
     "output_type": "stream",
     "text": [
      "VIZ: Summary figure saved\n",
      "-----------\n",
      "\n",
      "Running GLM-HMM for animal W074\n",
      "DMG: Creating data matrix with columns: dict_keys(['s_a', 's_b', 'bias', 'session'])\n",
      "DMG: Creating labels with column: choice.\n",
      "DMG: Dropping 22505 nan rows from data and labels.\n",
      "DMG: Binary encoding labels.\n",
      "SSM Preprocessing: 515 sessions found.\n"
     ]
    },
    {
     "name": "stderr",
     "output_type": "stream",
     "text": [
      "Converged to LP: -70028.3:  58%|█████▊    | 116/200 [00:52<00:37,  2.22it/s]\n",
      "/Users/jessbreda/anaconda3/envs/an_lrn/lib/python3.10/site-packages/seaborn/_oldcore.py:1765: FutureWarning: unique with argument that is not not a Series, Index, ExtensionArray, or np.ndarray is deprecated and will raise in a future version.\n",
      "  order = pd.unique(vector)\n"
     ]
    },
    {
     "name": "stdout",
     "output_type": "stream",
     "text": [
      "VIZ: Summary figure saved\n",
      "-----------\n",
      "\n",
      "Running GLM-HMM for animal W075\n",
      "DMG: Creating data matrix with columns: dict_keys(['s_a', 's_b', 'bias', 'session'])\n",
      "DMG: Creating labels with column: choice.\n",
      "DMG: Dropping 39771 nan rows from data and labels.\n",
      "DMG: Binary encoding labels.\n",
      "SSM Preprocessing: 552 sessions found.\n"
     ]
    },
    {
     "name": "stderr",
     "output_type": "stream",
     "text": [
      "Converged to LP: -59205.1:  18%|█▊        | 35/200 [00:16<01:19,  2.08it/s]\n",
      "/Users/jessbreda/anaconda3/envs/an_lrn/lib/python3.10/site-packages/seaborn/_oldcore.py:1765: FutureWarning: unique with argument that is not not a Series, Index, ExtensionArray, or np.ndarray is deprecated and will raise in a future version.\n",
      "  order = pd.unique(vector)\n"
     ]
    },
    {
     "name": "stdout",
     "output_type": "stream",
     "text": [
      "VIZ: Summary figure saved\n",
      "-----------\n",
      "\n",
      "Running GLM-HMM for animal W078\n",
      "DMG: Creating data matrix with columns: dict_keys(['s_a', 's_b', 'bias', 'session'])\n",
      "DMG: Creating labels with column: choice.\n",
      "DMG: Dropping 8254 nan rows from data and labels.\n",
      "DMG: Binary encoding labels.\n",
      "SSM Preprocessing: 259 sessions found.\n"
     ]
    },
    {
     "name": "stderr",
     "output_type": "stream",
     "text": [
      "LP: -26381.4: 100%|██████████| 200/200 [00:48<00:00,  4.13it/s]\n",
      "/Users/jessbreda/anaconda3/envs/an_lrn/lib/python3.10/site-packages/seaborn/_oldcore.py:1765: FutureWarning: unique with argument that is not not a Series, Index, ExtensionArray, or np.ndarray is deprecated and will raise in a future version.\n",
      "  order = pd.unique(vector)\n"
     ]
    },
    {
     "name": "stdout",
     "output_type": "stream",
     "text": [
      "VIZ: Summary figure saved\n",
      "-----------\n",
      "\n",
      "Running GLM-HMM for animal W080\n",
      "DMG: Creating data matrix with columns: dict_keys(['s_a', 's_b', 'bias', 'session'])\n",
      "DMG: Creating labels with column: choice.\n",
      "DMG: Dropping 6045 nan rows from data and labels.\n",
      "DMG: Binary encoding labels.\n",
      "SSM Preprocessing: 151 sessions found.\n"
     ]
    },
    {
     "name": "stderr",
     "output_type": "stream",
     "text": [
      "Converged to LP: -19650.3:  24%|██▍       | 48/200 [00:06<00:19,  7.75it/s]\n",
      "/Users/jessbreda/anaconda3/envs/an_lrn/lib/python3.10/site-packages/seaborn/_oldcore.py:1765: FutureWarning: unique with argument that is not not a Series, Index, ExtensionArray, or np.ndarray is deprecated and will raise in a future version.\n",
      "  order = pd.unique(vector)\n"
     ]
    },
    {
     "name": "stdout",
     "output_type": "stream",
     "text": [
      "VIZ: Summary figure saved\n",
      "-----------\n",
      "\n",
      "Running GLM-HMM for animal W081\n",
      "DMG: Creating data matrix with columns: dict_keys(['s_a', 's_b', 'bias', 'session'])\n",
      "DMG: Creating labels with column: choice.\n",
      "DMG: Dropping 8274 nan rows from data and labels.\n",
      "DMG: Binary encoding labels.\n",
      "SSM Preprocessing: 114 sessions found.\n"
     ]
    },
    {
     "name": "stderr",
     "output_type": "stream",
     "text": [
      "LP: -16594.6: 100%|██████████| 200/200 [00:21<00:00,  9.46it/s]\n",
      "/Users/jessbreda/anaconda3/envs/an_lrn/lib/python3.10/site-packages/seaborn/_oldcore.py:1765: FutureWarning: unique with argument that is not not a Series, Index, ExtensionArray, or np.ndarray is deprecated and will raise in a future version.\n",
      "  order = pd.unique(vector)\n"
     ]
    },
    {
     "name": "stdout",
     "output_type": "stream",
     "text": [
      "VIZ: Summary figure saved\n",
      "-----------\n",
      "\n",
      "Running GLM-HMM for animal W082\n",
      "DMG: Creating data matrix with columns: dict_keys(['s_a', 's_b', 'bias', 'session'])\n",
      "DMG: Creating labels with column: choice.\n",
      "DMG: Dropping 138175 nan rows from data and labels.\n",
      "DMG: Binary encoding labels.\n",
      "SSM Preprocessing: 527 sessions found.\n"
     ]
    },
    {
     "name": "stderr",
     "output_type": "stream",
     "text": [
      "Converged to LP: -65281.3:  66%|██████▋   | 133/200 [00:56<00:28,  2.34it/s]\n",
      "/Users/jessbreda/anaconda3/envs/an_lrn/lib/python3.10/site-packages/seaborn/_oldcore.py:1765: FutureWarning: unique with argument that is not not a Series, Index, ExtensionArray, or np.ndarray is deprecated and will raise in a future version.\n",
      "  order = pd.unique(vector)\n"
     ]
    },
    {
     "name": "stdout",
     "output_type": "stream",
     "text": [
      "VIZ: Summary figure saved\n",
      "-----------\n",
      "\n",
      "Running GLM-HMM for animal W083\n",
      "DMG: Creating data matrix with columns: dict_keys(['s_a', 's_b', 'bias', 'session'])\n",
      "DMG: Creating labels with column: choice.\n",
      "DMG: Dropping 64070 nan rows from data and labels.\n",
      "DMG: Binary encoding labels.\n",
      "SSM Preprocessing: 446 sessions found.\n"
     ]
    },
    {
     "name": "stderr",
     "output_type": "stream",
     "text": [
      "Converged to LP: -58533.2:  34%|███▎      | 67/200 [00:22<00:44,  3.00it/s]\n",
      "/Users/jessbreda/anaconda3/envs/an_lrn/lib/python3.10/site-packages/seaborn/_oldcore.py:1765: FutureWarning: unique with argument that is not not a Series, Index, ExtensionArray, or np.ndarray is deprecated and will raise in a future version.\n",
      "  order = pd.unique(vector)\n"
     ]
    },
    {
     "name": "stdout",
     "output_type": "stream",
     "text": [
      "VIZ: Summary figure saved\n",
      "-----------\n",
      "\n",
      "Running GLM-HMM for animal W088\n",
      "DMG: Creating data matrix with columns: dict_keys(['s_a', 's_b', 'bias', 'session'])\n",
      "DMG: Creating labels with column: choice.\n",
      "DMG: Dropping 21114 nan rows from data and labels.\n",
      "DMG: Binary encoding labels.\n",
      "SSM Preprocessing: 347 sessions found.\n"
     ]
    },
    {
     "name": "stderr",
     "output_type": "stream",
     "text": [
      "LP: -42298.5: 100%|██████████| 200/200 [01:02<00:00,  3.19it/s]\n",
      "/Users/jessbreda/anaconda3/envs/an_lrn/lib/python3.10/site-packages/seaborn/_oldcore.py:1765: FutureWarning: unique with argument that is not not a Series, Index, ExtensionArray, or np.ndarray is deprecated and will raise in a future version.\n",
      "  order = pd.unique(vector)\n"
     ]
    },
    {
     "name": "stdout",
     "output_type": "stream",
     "text": [
      "VIZ: Summary figure saved\n",
      "-----------\n",
      "\n",
      "Running GLM-HMM for animal W089\n",
      "DMG: Creating data matrix with columns: dict_keys(['s_a', 's_b', 'bias', 'session'])\n",
      "DMG: Creating labels with column: choice.\n",
      "DMG: Dropping 17385 nan rows from data and labels.\n",
      "DMG: Binary encoding labels.\n",
      "SSM Preprocessing: 439 sessions found.\n"
     ]
    },
    {
     "name": "stderr",
     "output_type": "stream",
     "text": [
      "Converged to LP: -64480.3:  48%|████▊     | 97/200 [00:35<00:37,  2.76it/s]\n",
      "/Users/jessbreda/anaconda3/envs/an_lrn/lib/python3.10/site-packages/seaborn/_oldcore.py:1765: FutureWarning: unique with argument that is not not a Series, Index, ExtensionArray, or np.ndarray is deprecated and will raise in a future version.\n",
      "  order = pd.unique(vector)\n"
     ]
    },
    {
     "name": "stdout",
     "output_type": "stream",
     "text": [
      "VIZ: Summary figure saved\n",
      "-----------\n",
      "\n",
      "Running GLM-HMM for animal W094\n",
      "DMG: Creating data matrix with columns: dict_keys(['s_a', 's_b', 'bias', 'session'])\n",
      "DMG: Creating labels with column: choice.\n",
      "DMG: Dropping 12998 nan rows from data and labels.\n",
      "DMG: Binary encoding labels.\n",
      "SSM Preprocessing: 156 sessions found.\n"
     ]
    },
    {
     "name": "stderr",
     "output_type": "stream",
     "text": [
      "LP: -23608.7: 100%|██████████| 200/200 [00:28<00:00,  7.05it/s]\n",
      "/Users/jessbreda/anaconda3/envs/an_lrn/lib/python3.10/site-packages/seaborn/_oldcore.py:1765: FutureWarning: unique with argument that is not not a Series, Index, ExtensionArray, or np.ndarray is deprecated and will raise in a future version.\n",
      "  order = pd.unique(vector)\n"
     ]
    },
    {
     "name": "stdout",
     "output_type": "stream",
     "text": [
      "VIZ: Summary figure saved\n",
      "-----------\n",
      "\n"
     ]
    }
   ],
   "source": [
    "dmg_config = {\n",
    "    \"s_a\": lambda df: (standardize(df.s_a)),\n",
    "    \"s_b\": lambda df: (standardize(df.s_b)),\n",
    "    \"bias\": lambda df: (add_bias_column(df)),\n",
    "    \"session\": lambda df: (copy(df.session)),\n",
    "    \"labels\": binary_choice_labels(),\n",
    "}\n",
    "\n",
    "model_config = {\n",
    "    \"n_states\": 2,\n",
    "    \"n_features\": 3,  # will need to infer from DMG at some point\n",
    "    \"n_categories\": 2,\n",
    "    \"transitions\": \"standard\",\n",
    "}\n",
    "\n",
    "params = {\n",
    "    \"animal_ids\": ANIMAL_IDS,\n",
    "    \"seed\": 0,\n",
    "    \"dmg_config\": dmg_config,\n",
    "    \"model_config\": model_config,\n",
    "    \"save_path\": \"/Users/jessbreda/Desktop/github/animal-learning/figures/glmhmm/initial_fits\",\n",
    "}\n",
    "test = RunBinaryGLMHMM(params)\n",
    "test.run()"
   ]
  }
 ],
 "metadata": {
  "kernelspec": {
   "display_name": "an_lrn",
   "language": "python",
   "name": "python3"
  },
  "language_info": {
   "codemirror_mode": {
    "name": "ipython",
    "version": 3
   },
   "file_extension": ".py",
   "mimetype": "text/x-python",
   "name": "python",
   "nbconvert_exporter": "python",
   "pygments_lexer": "ipython3",
   "version": "3.10.0"
  }
 },
 "nbformat": 4,
 "nbformat_minor": 2
}
