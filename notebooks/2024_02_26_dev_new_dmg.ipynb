{
 "cells": [
  {
   "cell_type": "markdown",
   "metadata": {},
   "source": [
    "# Dev New Design Matrix Generator (DMG)\n",
    "\n",
    "**Goal**: Use this notebook to develop a new, more flexible DMG class.\n",
    "\n",
    "**Motivation**: The previous version has a \"generate_base_matrix\" function and then other classes operated on that base matrix (e.g. filtering the history). The structure of the base matrix was not flexible at all and required adding lots of if else logic. Also, adding violation features to a binary model was not possible Now that I am entering a phase of wanting to change features readily, this needs to be updated."
   ]
  },
  {
   "cell_type": "code",
   "execution_count": 27,
   "metadata": {},
   "outputs": [
    {
     "name": "stdout",
     "output_type": "stream",
     "text": [
      "The autoreload extension is already loaded. To reload it, use:\n",
      "  %reload_ext autoreload\n"
     ]
    }
   ],
   "source": [
    "import pandas as pd\n",
    "import numpy as np\n",
    "from multiglm.features.exp_filter import ExpFilter\n",
    "from multiglm.features.design_matrix_generator import *\n",
    "\n",
    "from multiglm.data.dataset_loader import *\n",
    "\n",
    "%load_ext autoreload\n",
    "%autoreload 2\n"
   ]
  },
  {
   "cell_type": "code",
   "execution_count": 2,
   "metadata": {},
   "outputs": [
    {
     "name": "stdout",
     "output_type": "stream",
     "text": [
      "Loading data for animal ids:  ['W051']\n"
     ]
    }
   ],
   "source": [
    "df = DatasetLoader(animal_ids=[\"W051\"], data_type=\"new_trained\").load_data()"
   ]
  },
  {
   "cell_type": "code",
   "execution_count": 28,
   "metadata": {},
   "outputs": [],
   "source": [
    "config = {\n",
    "    \"bias\": (lambda df: dmg.add_bias_column(df)),\n",
    "    \"s_a_norm\": (lambda df: dmg.normalize_column(df, \"s_a\")),\n",
    "    \"s_b_norm\": (lambda df: dmg.normalize_column(df, \"s_a\")),\n",
    "}\n",
    "dmg = DesignMatrixGenerator(df, config)"
   ]
  },
  {
   "cell_type": "code",
   "execution_count": 29,
   "metadata": {},
   "outputs": [],
   "source": [
    "dmg.create()"
   ]
  },
  {
   "cell_type": "code",
   "execution_count": 30,
   "metadata": {},
   "outputs": [
    {
     "data": {
      "text/html": [
       "<div>\n",
       "<style scoped>\n",
       "    .dataframe tbody tr th:only-of-type {\n",
       "        vertical-align: middle;\n",
       "    }\n",
       "\n",
       "    .dataframe tbody tr th {\n",
       "        vertical-align: top;\n",
       "    }\n",
       "\n",
       "    .dataframe thead th {\n",
       "        text-align: right;\n",
       "    }\n",
       "</style>\n",
       "<table border=\"1\" class=\"dataframe\">\n",
       "  <thead>\n",
       "    <tr style=\"text-align: right;\">\n",
       "      <th></th>\n",
       "      <th>bias</th>\n",
       "      <th>s_a_norm</th>\n",
       "      <th>s_b_norm</th>\n",
       "    </tr>\n",
       "  </thead>\n",
       "  <tbody>\n",
       "    <tr>\n",
       "      <th>0</th>\n",
       "      <td>1</td>\n",
       "      <td>-1.649967</td>\n",
       "      <td>-1.649967</td>\n",
       "    </tr>\n",
       "    <tr>\n",
       "      <th>1</th>\n",
       "      <td>1</td>\n",
       "      <td>-1.649967</td>\n",
       "      <td>-1.649967</td>\n",
       "    </tr>\n",
       "    <tr>\n",
       "      <th>2</th>\n",
       "      <td>1</td>\n",
       "      <td>0.019421</td>\n",
       "      <td>0.019421</td>\n",
       "    </tr>\n",
       "    <tr>\n",
       "      <th>3</th>\n",
       "      <td>1</td>\n",
       "      <td>-0.815273</td>\n",
       "      <td>-0.815273</td>\n",
       "    </tr>\n",
       "    <tr>\n",
       "      <th>4</th>\n",
       "      <td>1</td>\n",
       "      <td>0.854115</td>\n",
       "      <td>0.854115</td>\n",
       "    </tr>\n",
       "    <tr>\n",
       "      <th>...</th>\n",
       "      <td>...</td>\n",
       "      <td>...</td>\n",
       "      <td>...</td>\n",
       "    </tr>\n",
       "    <tr>\n",
       "      <th>98918</th>\n",
       "      <td>1</td>\n",
       "      <td>1.584472</td>\n",
       "      <td>1.584472</td>\n",
       "    </tr>\n",
       "    <tr>\n",
       "      <th>98919</th>\n",
       "      <td>1</td>\n",
       "      <td>-1.649967</td>\n",
       "      <td>-1.649967</td>\n",
       "    </tr>\n",
       "    <tr>\n",
       "      <th>98920</th>\n",
       "      <td>1</td>\n",
       "      <td>-0.815273</td>\n",
       "      <td>-0.815273</td>\n",
       "    </tr>\n",
       "    <tr>\n",
       "      <th>98921</th>\n",
       "      <td>1</td>\n",
       "      <td>1.584472</td>\n",
       "      <td>1.584472</td>\n",
       "    </tr>\n",
       "    <tr>\n",
       "      <th>98922</th>\n",
       "      <td>1</td>\n",
       "      <td>0.019421</td>\n",
       "      <td>0.019421</td>\n",
       "    </tr>\n",
       "  </tbody>\n",
       "</table>\n",
       "<p>98923 rows × 3 columns</p>\n",
       "</div>"
      ],
      "text/plain": [
       "       bias  s_a_norm  s_b_norm\n",
       "0         1 -1.649967 -1.649967\n",
       "1         1 -1.649967 -1.649967\n",
       "2         1  0.019421  0.019421\n",
       "3         1 -0.815273 -0.815273\n",
       "4         1  0.854115  0.854115\n",
       "...     ...       ...       ...\n",
       "98918     1  1.584472  1.584472\n",
       "98919     1 -1.649967 -1.649967\n",
       "98920     1 -0.815273 -0.815273\n",
       "98921     1  1.584472  1.584472\n",
       "98922     1  0.019421  0.019421\n",
       "\n",
       "[98923 rows x 3 columns]"
      ]
     },
     "execution_count": 30,
     "metadata": {},
     "output_type": "execute_result"
    }
   ],
   "source": [
    "dmg.X"
   ]
  }
 ],
 "metadata": {
  "kernelspec": {
   "display_name": "an_lrn",
   "language": "python",
   "name": "python3"
  },
  "language_info": {
   "codemirror_mode": {
    "name": "ipython",
    "version": 3
   },
   "file_extension": ".py",
   "mimetype": "text/x-python",
   "name": "python",
   "nbconvert_exporter": "python",
   "pygments_lexer": "ipython3",
   "version": "3.10.0"
  }
 },
 "nbformat": 4,
 "nbformat_minor": 2
}
