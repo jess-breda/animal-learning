{
 "cells": [
  {
   "cell_type": "markdown",
   "metadata": {},
   "source": [
    "# Dev New Design Matrix Generator (DMG)\n",
    "\n",
    "**Goal**: Use this notebook to develop a new, more flexible DMG class.\n",
    "\n",
    "**Motivation**: The previous version has a \"generate_base_matrix\" function and then other classes operated on that base matrix (e.g. filtering the history). The structure of the base matrix was not flexible at all and required adding lots of if else logic. Also, adding violation features to a binary model was not possible Now that I am entering a phase of wanting to change features readily, this needs to be updated.\n"
   ]
  },
  {
   "cell_type": "code",
   "execution_count": 1,
   "metadata": {},
   "outputs": [],
   "source": [
    "import pandas as pd\n",
    "import numpy as np\n",
    "from multiglm.features.exp_filter import ExpFilter\n",
    "from multiglm.features.design_matrix_generator import *\n",
    "\n",
    "from multiglm.data.dataset_loader import *\n",
    "\n",
    "%load_ext autoreload\n",
    "%autoreload 2\n"
   ]
  },
  {
   "cell_type": "code",
   "execution_count": 7,
   "metadata": {},
   "outputs": [
    {
     "name": "stdout",
     "output_type": "stream",
     "text": [
      "Loading data for animal ids:  ['W051']\n"
     ]
    }
   ],
   "source": [
    "df = DatasetLoader(animal_ids=[\"W051\"], data_type=\"new_trained\").load_data()"
   ]
  },
  {
   "cell_type": "code",
   "execution_count": 9,
   "metadata": {},
   "outputs": [
    {
     "data": {
      "text/html": [
       "<div>\n",
       "<style scoped>\n",
       "    .dataframe tbody tr th:only-of-type {\n",
       "        vertical-align: middle;\n",
       "    }\n",
       "\n",
       "    .dataframe tbody tr th {\n",
       "        vertical-align: top;\n",
       "    }\n",
       "\n",
       "    .dataframe thead th {\n",
       "        text-align: right;\n",
       "    }\n",
       "</style>\n",
       "<table border=\"1\" class=\"dataframe\">\n",
       "  <thead>\n",
       "    <tr style=\"text-align: right;\">\n",
       "      <th></th>\n",
       "      <th>animal_id</th>\n",
       "      <th>session_date</th>\n",
       "      <th>session_file_counter</th>\n",
       "      <th>rig_id</th>\n",
       "      <th>training_stage</th>\n",
       "      <th>s_a</th>\n",
       "      <th>s_b</th>\n",
       "      <th>hit</th>\n",
       "      <th>violation</th>\n",
       "      <th>trial_not_started</th>\n",
       "      <th>...</th>\n",
       "      <th>l_water_vol</th>\n",
       "      <th>r_water_vol</th>\n",
       "      <th>antibias_beta</th>\n",
       "      <th>antibias_right_prob</th>\n",
       "      <th>using_psychometric_pairs</th>\n",
       "      <th>choice</th>\n",
       "      <th>session</th>\n",
       "      <th>session_relative_to_old</th>\n",
       "      <th>n_prev_trial_not_started</th>\n",
       "      <th>trial</th>\n",
       "    </tr>\n",
       "  </thead>\n",
       "  <tbody>\n",
       "    <tr>\n",
       "      <th>0</th>\n",
       "      <td>W051</td>\n",
       "      <td>2014-07-17</td>\n",
       "      <td>327</td>\n",
       "      <td>19</td>\n",
       "      <td>4</td>\n",
       "      <td>60.0</td>\n",
       "      <td>68.0</td>\n",
       "      <td>NaN</td>\n",
       "      <td>1</td>\n",
       "      <td>False</td>\n",
       "      <td>...</td>\n",
       "      <td>18.000000</td>\n",
       "      <td>18.000000</td>\n",
       "      <td>3</td>\n",
       "      <td>0.5</td>\n",
       "      <td>NaN</td>\n",
       "      <td>2</td>\n",
       "      <td>326</td>\n",
       "      <td>326.0</td>\n",
       "      <td>0.0</td>\n",
       "      <td>1</td>\n",
       "    </tr>\n",
       "    <tr>\n",
       "      <th>1</th>\n",
       "      <td>W051</td>\n",
       "      <td>2014-07-17</td>\n",
       "      <td>327</td>\n",
       "      <td>19</td>\n",
       "      <td>4</td>\n",
       "      <td>60.0</td>\n",
       "      <td>68.0</td>\n",
       "      <td>NaN</td>\n",
       "      <td>1</td>\n",
       "      <td>False</td>\n",
       "      <td>...</td>\n",
       "      <td>18.000001</td>\n",
       "      <td>18.000001</td>\n",
       "      <td>3</td>\n",
       "      <td>0.5</td>\n",
       "      <td>NaN</td>\n",
       "      <td>2</td>\n",
       "      <td>326</td>\n",
       "      <td>326.0</td>\n",
       "      <td>0.0</td>\n",
       "      <td>2</td>\n",
       "    </tr>\n",
       "    <tr>\n",
       "      <th>2</th>\n",
       "      <td>W051</td>\n",
       "      <td>2014-07-17</td>\n",
       "      <td>327</td>\n",
       "      <td>19</td>\n",
       "      <td>4</td>\n",
       "      <td>76.0</td>\n",
       "      <td>68.0</td>\n",
       "      <td>NaN</td>\n",
       "      <td>1</td>\n",
       "      <td>False</td>\n",
       "      <td>...</td>\n",
       "      <td>18.000004</td>\n",
       "      <td>18.000004</td>\n",
       "      <td>3</td>\n",
       "      <td>0.5</td>\n",
       "      <td>NaN</td>\n",
       "      <td>2</td>\n",
       "      <td>326</td>\n",
       "      <td>326.0</td>\n",
       "      <td>0.0</td>\n",
       "      <td>3</td>\n",
       "    </tr>\n",
       "    <tr>\n",
       "      <th>3</th>\n",
       "      <td>W051</td>\n",
       "      <td>2014-07-17</td>\n",
       "      <td>327</td>\n",
       "      <td>19</td>\n",
       "      <td>4</td>\n",
       "      <td>68.0</td>\n",
       "      <td>76.0</td>\n",
       "      <td>1.0</td>\n",
       "      <td>0</td>\n",
       "      <td>False</td>\n",
       "      <td>...</td>\n",
       "      <td>18.000014</td>\n",
       "      <td>18.000014</td>\n",
       "      <td>3</td>\n",
       "      <td>0.5</td>\n",
       "      <td>NaN</td>\n",
       "      <td>0</td>\n",
       "      <td>326</td>\n",
       "      <td>326.0</td>\n",
       "      <td>0.0</td>\n",
       "      <td>4</td>\n",
       "    </tr>\n",
       "    <tr>\n",
       "      <th>4</th>\n",
       "      <td>W051</td>\n",
       "      <td>2014-07-17</td>\n",
       "      <td>327</td>\n",
       "      <td>19</td>\n",
       "      <td>4</td>\n",
       "      <td>84.0</td>\n",
       "      <td>76.0</td>\n",
       "      <td>1.0</td>\n",
       "      <td>0</td>\n",
       "      <td>False</td>\n",
       "      <td>...</td>\n",
       "      <td>18.000033</td>\n",
       "      <td>18.000033</td>\n",
       "      <td>3</td>\n",
       "      <td>0.5</td>\n",
       "      <td>NaN</td>\n",
       "      <td>1</td>\n",
       "      <td>326</td>\n",
       "      <td>326.0</td>\n",
       "      <td>0.0</td>\n",
       "      <td>5</td>\n",
       "    </tr>\n",
       "  </tbody>\n",
       "</table>\n",
       "<p>5 rows × 34 columns</p>\n",
       "</div>"
      ],
      "text/plain": [
       "  animal_id session_date  session_file_counter  rig_id  training_stage   s_a  \\\n",
       "0      W051   2014-07-17                   327      19               4  60.0   \n",
       "1      W051   2014-07-17                   327      19               4  60.0   \n",
       "2      W051   2014-07-17                   327      19               4  76.0   \n",
       "3      W051   2014-07-17                   327      19               4  68.0   \n",
       "4      W051   2014-07-17                   327      19               4  84.0   \n",
       "\n",
       "    s_b  hit  violation  trial_not_started  ...  l_water_vol r_water_vol  \\\n",
       "0  68.0  NaN          1              False  ...    18.000000   18.000000   \n",
       "1  68.0  NaN          1              False  ...    18.000001   18.000001   \n",
       "2  68.0  NaN          1              False  ...    18.000004   18.000004   \n",
       "3  76.0  1.0          0              False  ...    18.000014   18.000014   \n",
       "4  76.0  1.0          0              False  ...    18.000033   18.000033   \n",
       "\n",
       "   antibias_beta  antibias_right_prob  using_psychometric_pairs  choice  \\\n",
       "0              3                  0.5                       NaN       2   \n",
       "1              3                  0.5                       NaN       2   \n",
       "2              3                  0.5                       NaN       2   \n",
       "3              3                  0.5                       NaN       0   \n",
       "4              3                  0.5                       NaN       1   \n",
       "\n",
       "   session  session_relative_to_old  n_prev_trial_not_started  trial  \n",
       "0      326                    326.0                       0.0      1  \n",
       "1      326                    326.0                       0.0      2  \n",
       "2      326                    326.0                       0.0      3  \n",
       "3      326                    326.0                       0.0      4  \n",
       "4      326                    326.0                       0.0      5  \n",
       "\n",
       "[5 rows x 34 columns]"
      ]
     },
     "execution_count": 9,
     "metadata": {},
     "output_type": "execute_result"
    }
   ],
   "source": [
    "df.head()"
   ]
  },
  {
   "cell_type": "code",
   "execution_count": 40,
   "metadata": {},
   "outputs": [
    {
     "name": "stdout",
     "output_type": "stream",
     "text": [
      "Raw values used for previous history\n"
     ]
    },
    {
     "data": {
      "text/plain": [
       "0        0.000000\n",
       "1       -0.000000\n",
       "2       -0.000000\n",
       "3        0.000000\n",
       "4       -0.815273\n",
       "           ...   \n",
       "98918    0.019421\n",
       "98919    1.584472\n",
       "98920   -1.649967\n",
       "98921   -0.000000\n",
       "98922    1.584472\n",
       "Length: 98923, dtype: float64"
      ]
     },
     "execution_count": 40,
     "metadata": {},
     "output_type": "execute_result"
    }
   ],
   "source": [
    "from pandas.core.series import Series\n",
    "\n",
    "\n",
    "def normalize_column(df_col: Series) -> Series:\n",
    "    return (df_col - df_col.mean()) / df_col.std()\n",
    "\n",
    "\n",
    "def prev_trial_value_column(\n",
    "    df_col: Series,\n",
    "    method=None,\n",
    "    mask_violations=True,\n",
    "    **kwargs,\n",
    ") -> Series:\n",
    "    df_col = df_col.shift().fillna(0)\n",
    "\n",
    "    if method is not None:\n",
    "        df_col = DesignMatrixGenerator.apply_custom_method(df_col, method, **kwargs)\n",
    "    else:\n",
    "        print(\"Raw values used for previous history\")\n",
    "\n",
    "    mask = DesignMatrixGenerator.create_mask(df, mask_violations=mask_violations)\n",
    "\n",
    "    return df_col * mask\n",
    "\n",
    "\n",
    "def binarize(col_data: Series, comparison, value) -> Series:\n",
    "    \"\"\"\n",
    "    method for converting a column to a binary 0/1 int\n",
    "    given comparison logic and value\n",
    "\n",
    "    possible comparison options from operator class:\n",
    "        - eq : == equal\n",
    "        - ne : != not equal\n",
    "        - gt : > greater than\n",
    "        - lt : < less than\n",
    "        - ge : >= grater than or equal to\n",
    "        - lt : <= less than or equal to\n",
    "        - and_ : bit wise AND\n",
    "        - or_ : bit wise OR\n",
    "        - xor : bitwise XOR\n",
    "    \"\"\"\n",
    "    return comparison(col_data, value).astype(int)\n",
    "\n",
    "\n",
    "def chain(funs, df_col: Series) -> Series:\n",
    "    for fn in funs:\n",
    "        df_col = fn(df_col)\n",
    "    return df_col\n",
    "\n",
    "\n",
    "chain([normalize_column, prev_trial_value_column], df[\"s_a\"])"
   ]
  },
  {
   "cell_type": "code",
   "execution_count": null,
   "metadata": {},
   "outputs": [],
   "source": [
    "dmg.prev_trial_avg(df, col_names=[\"s_a\", \"s_b\"], mask_violations=True, normalize=True)"
   ]
  },
  {
   "cell_type": "code",
   "execution_count": 43,
   "metadata": {},
   "outputs": [
    {
     "data": {
      "text/plain": [
       "array([1, 1, 1, ..., 1, 1, 1])"
      ]
     },
     "execution_count": 43,
     "metadata": {},
     "output_type": "execute_result"
    }
   ],
   "source": [
    "config = {\n",
    "    \"bias\": (lambda df: dmg.add_bias_column(df)),\n",
    "    \"s_a_norm\": (lambda df: dmg.normalize_column(df, \"s_a\")),\n",
    "    \"s_b_norm\": (lambda df: dmg.normalize_column(df, \"s_b\")),\n",
    "    \"prev_sound_avg\": (\n",
    "        lambda df: dmg.prev_trial_avg(\n",
    "            df, col_names=[\"s_a\", \"s_b\"], mask_violations=True, normalize=True\n",
    "        )\n",
    "    ),\n",
    "    \"s_a\": (lambda df: dmg.copy(df, col_name=\"s_a\")),\n",
    "    \"prev_sa\": (\n",
    "        lambda df: dmg.prev_trial_value(\n",
    "            df,\n",
    "            col_name=\"s_a\",\n",
    "            method=DesignMatrixGenerator.implement_map,\n",
    "            mapping={60: 2},\n",
    "        )\n",
    "    ),\n",
    "    \"chained_column\": lambda df: chain(\n",
    "        [\n",
    "            normalize_column,\n",
    "            prev_trial_value_column,\n",
    "            lambda series: binarize(series, operator.eq, 10),\n",
    "        ],\n",
    "        df[\"s_a\"],\n",
    "    ),\n",
    "}\n",
    "dmg = DesignMatrixGenerator(df, config)\n",
    "dmg.config[\"bias\"](dmg.df)"
   ]
  },
  {
   "cell_type": "markdown",
   "metadata": {},
   "source": [
    "now set up to make a filtered column. The one thing is this filtered column needs to act on the temp column...hmm. I guess maybe putting it back to the df would have been the right call? but weird copy things were happening (e.g. s_a exists in both). I want to be able to chain things together. So filtering can happen on a column thats already been normalized etc in a separate operations. I want to be able to filter \"prev_choice\" after I explicitly make prev choice and same for violations. Lets start by writing a method that takes a col, tau and applies the filter to it then we can worry about where it's coming form.\n"
   ]
  },
  {
   "cell_type": "code",
   "execution_count": 44,
   "metadata": {},
   "outputs": [
    {
     "ename": "KeyError",
     "evalue": "\"None of [Index(['s_a', 's_b'], dtype='object')] are in the [index]\"",
     "output_type": "error",
     "traceback": [
      "\u001b[0;31m---------------------------------------------------------------------------\u001b[0m",
      "\u001b[0;31mKeyError\u001b[0m                                  Traceback (most recent call last)",
      "Cell \u001b[0;32mIn[44], line 1\u001b[0m\n\u001b[0;32m----> 1\u001b[0m \u001b[43mdmg\u001b[49m\u001b[38;5;241;43m.\u001b[39;49m\u001b[43mcreate\u001b[49m\u001b[43m(\u001b[49m\u001b[43m)\u001b[49m\n\u001b[1;32m      2\u001b[0m dmg\u001b[38;5;241m.\u001b[39mX\n",
      "File \u001b[0;32m~/wd/tmp/animal-learning/src/multiglm/features/design_matrix_generator.py:62\u001b[0m, in \u001b[0;36mDesignMatrixGenerator.create\u001b[0;34m(self)\u001b[0m\n\u001b[1;32m     59\u001b[0m \u001b[38;5;28;01mif\u001b[39;00m key \u001b[38;5;241m==\u001b[39m \u001b[38;5;124m\"\u001b[39m\u001b[38;5;124mfinal_cols\u001b[39m\u001b[38;5;124m\"\u001b[39m:\n\u001b[1;32m     60\u001b[0m     \u001b[38;5;28;01mcontinue\u001b[39;00m\n\u001b[0;32m---> 62\u001b[0m \u001b[38;5;28mself\u001b[39m\u001b[38;5;241m.\u001b[39mX[key] \u001b[38;5;241m=\u001b[39m \u001b[43mfunc\u001b[49m\u001b[43m(\u001b[49m\u001b[38;5;28;43mself\u001b[39;49m\u001b[38;5;241;43m.\u001b[39;49m\u001b[43mdf\u001b[49m\u001b[43m)\u001b[49m\n",
      "Cell \u001b[0;32mIn[43], line 19\u001b[0m, in \u001b[0;36m<lambda>\u001b[0;34m(df)\u001b[0m\n\u001b[1;32m      1\u001b[0m config \u001b[38;5;241m=\u001b[39m {\n\u001b[1;32m      2\u001b[0m     \u001b[38;5;124m\"\u001b[39m\u001b[38;5;124mbias\u001b[39m\u001b[38;5;124m\"\u001b[39m: (\u001b[38;5;28;01mlambda\u001b[39;00m df: dmg\u001b[38;5;241m.\u001b[39madd_bias_column(df)),\n\u001b[1;32m      3\u001b[0m     \u001b[38;5;124m\"\u001b[39m\u001b[38;5;124ms_a_norm\u001b[39m\u001b[38;5;124m\"\u001b[39m: (\u001b[38;5;28;01mlambda\u001b[39;00m df: dmg\u001b[38;5;241m.\u001b[39mnormalize_column(df, \u001b[38;5;124m\"\u001b[39m\u001b[38;5;124ms_a\u001b[39m\u001b[38;5;124m\"\u001b[39m)),\n\u001b[1;32m      4\u001b[0m     \u001b[38;5;124m\"\u001b[39m\u001b[38;5;124ms_b_norm\u001b[39m\u001b[38;5;124m\"\u001b[39m: (\u001b[38;5;28;01mlambda\u001b[39;00m df: dmg\u001b[38;5;241m.\u001b[39mnormalize_column(df, \u001b[38;5;124m\"\u001b[39m\u001b[38;5;124ms_b\u001b[39m\u001b[38;5;124m\"\u001b[39m)),\n\u001b[1;32m      5\u001b[0m     \u001b[38;5;124m\"\u001b[39m\u001b[38;5;124mprev_sound_avg\u001b[39m\u001b[38;5;124m\"\u001b[39m: (\n\u001b[1;32m      6\u001b[0m         \u001b[38;5;28;01mlambda\u001b[39;00m df: dmg\u001b[38;5;241m.\u001b[39mprev_trial_avg(\n\u001b[1;32m      7\u001b[0m             df, col_names\u001b[38;5;241m=\u001b[39m[\u001b[38;5;124m\"\u001b[39m\u001b[38;5;124ms_a\u001b[39m\u001b[38;5;124m\"\u001b[39m, \u001b[38;5;124m\"\u001b[39m\u001b[38;5;124ms_b\u001b[39m\u001b[38;5;124m\"\u001b[39m], mask_violations\u001b[38;5;241m=\u001b[39m\u001b[38;5;28;01mTrue\u001b[39;00m, normalize\u001b[38;5;241m=\u001b[39m\u001b[38;5;28;01mTrue\u001b[39;00m\n\u001b[1;32m      8\u001b[0m         )\n\u001b[1;32m      9\u001b[0m     ),\n\u001b[1;32m     10\u001b[0m     \u001b[38;5;124m\"\u001b[39m\u001b[38;5;124ms_a\u001b[39m\u001b[38;5;124m\"\u001b[39m: (\u001b[38;5;28;01mlambda\u001b[39;00m df: dmg\u001b[38;5;241m.\u001b[39mcopy(df, col_name\u001b[38;5;241m=\u001b[39m\u001b[38;5;124m\"\u001b[39m\u001b[38;5;124ms_a\u001b[39m\u001b[38;5;124m\"\u001b[39m)),\n\u001b[1;32m     11\u001b[0m     \u001b[38;5;124m\"\u001b[39m\u001b[38;5;124mprev_sa\u001b[39m\u001b[38;5;124m\"\u001b[39m: (\n\u001b[1;32m     12\u001b[0m         \u001b[38;5;28;01mlambda\u001b[39;00m df: dmg\u001b[38;5;241m.\u001b[39mprev_trial_value(\n\u001b[1;32m     13\u001b[0m             df,\n\u001b[1;32m     14\u001b[0m             col_name\u001b[38;5;241m=\u001b[39m\u001b[38;5;124m\"\u001b[39m\u001b[38;5;124ms_a\u001b[39m\u001b[38;5;124m\"\u001b[39m,\n\u001b[1;32m     15\u001b[0m             method\u001b[38;5;241m=\u001b[39mDesignMatrixGenerator\u001b[38;5;241m.\u001b[39mimplement_map,\n\u001b[1;32m     16\u001b[0m             mapping\u001b[38;5;241m=\u001b[39m{\u001b[38;5;241m60\u001b[39m: \u001b[38;5;241m2\u001b[39m},\n\u001b[1;32m     17\u001b[0m         )\n\u001b[1;32m     18\u001b[0m     ),\n\u001b[0;32m---> 19\u001b[0m     \u001b[38;5;124m\"\u001b[39m\u001b[38;5;124mchained_column\u001b[39m\u001b[38;5;124m\"\u001b[39m: \u001b[38;5;28;01mlambda\u001b[39;00m df: \u001b[43mchain\u001b[49m\u001b[43m(\u001b[49m\n\u001b[1;32m     20\u001b[0m \u001b[43m        \u001b[49m\u001b[43m[\u001b[49m\n\u001b[1;32m     21\u001b[0m \u001b[43m            \u001b[49m\u001b[43mnormalize_column\u001b[49m\u001b[43m,\u001b[49m\n\u001b[1;32m     22\u001b[0m \u001b[43m            \u001b[49m\u001b[38;5;28;43;01mlambda\u001b[39;49;00m\u001b[43m \u001b[49m\u001b[43mdf\u001b[49m\u001b[43m:\u001b[49m\u001b[43m \u001b[49m\u001b[43mdmg\u001b[49m\u001b[38;5;241;43m.\u001b[39;49m\u001b[43mprev_trial_avg\u001b[49m\u001b[43m(\u001b[49m\n\u001b[1;32m     23\u001b[0m \u001b[43m                \u001b[49m\u001b[43mdf\u001b[49m\u001b[43m,\u001b[49m\u001b[43m \u001b[49m\u001b[43mcol_names\u001b[49m\u001b[38;5;241;43m=\u001b[39;49m\u001b[43m[\u001b[49m\u001b[38;5;124;43m\"\u001b[39;49m\u001b[38;5;124;43ms_a\u001b[39;49m\u001b[38;5;124;43m\"\u001b[39;49m\u001b[43m,\u001b[49m\u001b[43m \u001b[49m\u001b[38;5;124;43m\"\u001b[39;49m\u001b[38;5;124;43ms_b\u001b[39;49m\u001b[38;5;124;43m\"\u001b[39;49m\u001b[43m]\u001b[49m\u001b[43m,\u001b[49m\u001b[43m \u001b[49m\u001b[43mmask_violations\u001b[49m\u001b[38;5;241;43m=\u001b[39;49m\u001b[38;5;28;43;01mTrue\u001b[39;49;00m\u001b[43m,\u001b[49m\u001b[43m \u001b[49m\u001b[43mnormalize\u001b[49m\u001b[38;5;241;43m=\u001b[39;49m\u001b[38;5;28;43;01mTrue\u001b[39;49;00m\n\u001b[1;32m     24\u001b[0m \u001b[43m            \u001b[49m\u001b[43m)\u001b[49m\u001b[43m,\u001b[49m\n\u001b[1;32m     25\u001b[0m \u001b[43m            \u001b[49m\u001b[43mprev_trial_value_column\u001b[49m\u001b[43m,\u001b[49m\n\u001b[1;32m     26\u001b[0m \u001b[43m            \u001b[49m\u001b[38;5;28;43;01mlambda\u001b[39;49;00m\u001b[43m \u001b[49m\u001b[43mseries\u001b[49m\u001b[43m:\u001b[49m\u001b[43m \u001b[49m\u001b[43mbinarize\u001b[49m\u001b[43m(\u001b[49m\u001b[43mseries\u001b[49m\u001b[43m,\u001b[49m\u001b[43m \u001b[49m\u001b[43moperator\u001b[49m\u001b[38;5;241;43m.\u001b[39;49m\u001b[43meq\u001b[49m\u001b[43m,\u001b[49m\u001b[43m \u001b[49m\u001b[38;5;241;43m10\u001b[39;49m\u001b[43m)\u001b[49m\u001b[43m,\u001b[49m\n\u001b[1;32m     27\u001b[0m \u001b[43m        \u001b[49m\u001b[43m]\u001b[49m\u001b[43m,\u001b[49m\n\u001b[1;32m     28\u001b[0m \u001b[43m        \u001b[49m\u001b[43mdf\u001b[49m\u001b[43m[\u001b[49m\u001b[38;5;124;43m\"\u001b[39;49m\u001b[38;5;124;43ms_a\u001b[39;49m\u001b[38;5;124;43m\"\u001b[39;49m\u001b[43m]\u001b[49m\u001b[43m,\u001b[49m\n\u001b[1;32m     29\u001b[0m \u001b[43m    \u001b[49m\u001b[43m)\u001b[49m,\n\u001b[1;32m     30\u001b[0m }\n\u001b[1;32m     31\u001b[0m dmg \u001b[38;5;241m=\u001b[39m DesignMatrixGenerator(df, config)\n\u001b[1;32m     32\u001b[0m dmg\u001b[38;5;241m.\u001b[39mconfig[\u001b[38;5;124m\"\u001b[39m\u001b[38;5;124mbias\u001b[39m\u001b[38;5;124m\"\u001b[39m](dmg\u001b[38;5;241m.\u001b[39mdf)\n",
      "Cell \u001b[0;32mIn[40], line 47\u001b[0m, in \u001b[0;36mchain\u001b[0;34m(funs, df_col)\u001b[0m\n\u001b[1;32m     45\u001b[0m \u001b[38;5;28;01mdef\u001b[39;00m \u001b[38;5;21mchain\u001b[39m(funs, df_col: Series) \u001b[38;5;241m-\u001b[39m\u001b[38;5;241m>\u001b[39m Series:\n\u001b[1;32m     46\u001b[0m     \u001b[38;5;28;01mfor\u001b[39;00m fn \u001b[38;5;129;01min\u001b[39;00m funs:\n\u001b[0;32m---> 47\u001b[0m         df_col \u001b[38;5;241m=\u001b[39m \u001b[43mfn\u001b[49m\u001b[43m(\u001b[49m\u001b[43mdf_col\u001b[49m\u001b[43m)\u001b[49m\n\u001b[1;32m     48\u001b[0m     \u001b[38;5;28;01mreturn\u001b[39;00m df_col\n",
      "Cell \u001b[0;32mIn[43], line 22\u001b[0m, in \u001b[0;36m<lambda>.<locals>.<lambda>\u001b[0;34m(df)\u001b[0m\n\u001b[1;32m      1\u001b[0m config \u001b[38;5;241m=\u001b[39m {\n\u001b[1;32m      2\u001b[0m     \u001b[38;5;124m\"\u001b[39m\u001b[38;5;124mbias\u001b[39m\u001b[38;5;124m\"\u001b[39m: (\u001b[38;5;28;01mlambda\u001b[39;00m df: dmg\u001b[38;5;241m.\u001b[39madd_bias_column(df)),\n\u001b[1;32m      3\u001b[0m     \u001b[38;5;124m\"\u001b[39m\u001b[38;5;124ms_a_norm\u001b[39m\u001b[38;5;124m\"\u001b[39m: (\u001b[38;5;28;01mlambda\u001b[39;00m df: dmg\u001b[38;5;241m.\u001b[39mnormalize_column(df, \u001b[38;5;124m\"\u001b[39m\u001b[38;5;124ms_a\u001b[39m\u001b[38;5;124m\"\u001b[39m)),\n\u001b[1;32m      4\u001b[0m     \u001b[38;5;124m\"\u001b[39m\u001b[38;5;124ms_b_norm\u001b[39m\u001b[38;5;124m\"\u001b[39m: (\u001b[38;5;28;01mlambda\u001b[39;00m df: dmg\u001b[38;5;241m.\u001b[39mnormalize_column(df, \u001b[38;5;124m\"\u001b[39m\u001b[38;5;124ms_b\u001b[39m\u001b[38;5;124m\"\u001b[39m)),\n\u001b[1;32m      5\u001b[0m     \u001b[38;5;124m\"\u001b[39m\u001b[38;5;124mprev_sound_avg\u001b[39m\u001b[38;5;124m\"\u001b[39m: (\n\u001b[1;32m      6\u001b[0m         \u001b[38;5;28;01mlambda\u001b[39;00m df: dmg\u001b[38;5;241m.\u001b[39mprev_trial_avg(\n\u001b[1;32m      7\u001b[0m             df, col_names\u001b[38;5;241m=\u001b[39m[\u001b[38;5;124m\"\u001b[39m\u001b[38;5;124ms_a\u001b[39m\u001b[38;5;124m\"\u001b[39m, \u001b[38;5;124m\"\u001b[39m\u001b[38;5;124ms_b\u001b[39m\u001b[38;5;124m\"\u001b[39m], mask_violations\u001b[38;5;241m=\u001b[39m\u001b[38;5;28;01mTrue\u001b[39;00m, normalize\u001b[38;5;241m=\u001b[39m\u001b[38;5;28;01mTrue\u001b[39;00m\n\u001b[1;32m      8\u001b[0m         )\n\u001b[1;32m      9\u001b[0m     ),\n\u001b[1;32m     10\u001b[0m     \u001b[38;5;124m\"\u001b[39m\u001b[38;5;124ms_a\u001b[39m\u001b[38;5;124m\"\u001b[39m: (\u001b[38;5;28;01mlambda\u001b[39;00m df: dmg\u001b[38;5;241m.\u001b[39mcopy(df, col_name\u001b[38;5;241m=\u001b[39m\u001b[38;5;124m\"\u001b[39m\u001b[38;5;124ms_a\u001b[39m\u001b[38;5;124m\"\u001b[39m)),\n\u001b[1;32m     11\u001b[0m     \u001b[38;5;124m\"\u001b[39m\u001b[38;5;124mprev_sa\u001b[39m\u001b[38;5;124m\"\u001b[39m: (\n\u001b[1;32m     12\u001b[0m         \u001b[38;5;28;01mlambda\u001b[39;00m df: dmg\u001b[38;5;241m.\u001b[39mprev_trial_value(\n\u001b[1;32m     13\u001b[0m             df,\n\u001b[1;32m     14\u001b[0m             col_name\u001b[38;5;241m=\u001b[39m\u001b[38;5;124m\"\u001b[39m\u001b[38;5;124ms_a\u001b[39m\u001b[38;5;124m\"\u001b[39m,\n\u001b[1;32m     15\u001b[0m             method\u001b[38;5;241m=\u001b[39mDesignMatrixGenerator\u001b[38;5;241m.\u001b[39mimplement_map,\n\u001b[1;32m     16\u001b[0m             mapping\u001b[38;5;241m=\u001b[39m{\u001b[38;5;241m60\u001b[39m: \u001b[38;5;241m2\u001b[39m},\n\u001b[1;32m     17\u001b[0m         )\n\u001b[1;32m     18\u001b[0m     ),\n\u001b[1;32m     19\u001b[0m     \u001b[38;5;124m\"\u001b[39m\u001b[38;5;124mchained_column\u001b[39m\u001b[38;5;124m\"\u001b[39m: \u001b[38;5;28;01mlambda\u001b[39;00m df: chain(\n\u001b[1;32m     20\u001b[0m         [\n\u001b[1;32m     21\u001b[0m             normalize_column,\n\u001b[0;32m---> 22\u001b[0m             \u001b[38;5;28;01mlambda\u001b[39;00m df: \u001b[43mdmg\u001b[49m\u001b[38;5;241;43m.\u001b[39;49m\u001b[43mprev_trial_avg\u001b[49m\u001b[43m(\u001b[49m\n\u001b[1;32m     23\u001b[0m \u001b[43m                \u001b[49m\u001b[43mdf\u001b[49m\u001b[43m,\u001b[49m\u001b[43m \u001b[49m\u001b[43mcol_names\u001b[49m\u001b[38;5;241;43m=\u001b[39;49m\u001b[43m[\u001b[49m\u001b[38;5;124;43m\"\u001b[39;49m\u001b[38;5;124;43ms_a\u001b[39;49m\u001b[38;5;124;43m\"\u001b[39;49m\u001b[43m,\u001b[49m\u001b[43m \u001b[49m\u001b[38;5;124;43m\"\u001b[39;49m\u001b[38;5;124;43ms_b\u001b[39;49m\u001b[38;5;124;43m\"\u001b[39;49m\u001b[43m]\u001b[49m\u001b[43m,\u001b[49m\u001b[43m \u001b[49m\u001b[43mmask_violations\u001b[49m\u001b[38;5;241;43m=\u001b[39;49m\u001b[38;5;28;43;01mTrue\u001b[39;49;00m\u001b[43m,\u001b[49m\u001b[43m \u001b[49m\u001b[43mnormalize\u001b[49m\u001b[38;5;241;43m=\u001b[39;49m\u001b[38;5;28;43;01mTrue\u001b[39;49;00m\n\u001b[1;32m     24\u001b[0m \u001b[43m            \u001b[49m\u001b[43m)\u001b[49m,\n\u001b[1;32m     25\u001b[0m             prev_trial_value_column,\n\u001b[1;32m     26\u001b[0m             \u001b[38;5;28;01mlambda\u001b[39;00m series: binarize(series, operator\u001b[38;5;241m.\u001b[39meq, \u001b[38;5;241m10\u001b[39m),\n\u001b[1;32m     27\u001b[0m         ],\n\u001b[1;32m     28\u001b[0m         df[\u001b[38;5;124m\"\u001b[39m\u001b[38;5;124ms_a\u001b[39m\u001b[38;5;124m\"\u001b[39m],\n\u001b[1;32m     29\u001b[0m     ),\n\u001b[1;32m     30\u001b[0m }\n\u001b[1;32m     31\u001b[0m dmg \u001b[38;5;241m=\u001b[39m DesignMatrixGenerator(df, config)\n\u001b[1;32m     32\u001b[0m dmg\u001b[38;5;241m.\u001b[39mconfig[\u001b[38;5;124m\"\u001b[39m\u001b[38;5;124mbias\u001b[39m\u001b[38;5;124m\"\u001b[39m](dmg\u001b[38;5;241m.\u001b[39mdf)\n",
      "File \u001b[0;32m~/wd/tmp/animal-learning/src/multiglm/features/design_matrix_generator.py:107\u001b[0m, in \u001b[0;36mDesignMatrixGenerator.prev_trial_avg\u001b[0;34m(df, col_names, mask_violations, normalize)\u001b[0m\n\u001b[1;32m     83\u001b[0m \u001b[38;5;129m@staticmethod\u001b[39m\n\u001b[1;32m     84\u001b[0m \u001b[38;5;28;01mdef\u001b[39;00m \u001b[38;5;21mprev_trial_avg\u001b[39m(df, col_names, mask_violations\u001b[38;5;241m=\u001b[39m\u001b[38;5;28;01mTrue\u001b[39;00m, normalize\u001b[38;5;241m=\u001b[39m\u001b[38;5;28;01mTrue\u001b[39;00m) \u001b[38;5;241m-\u001b[39m\u001b[38;5;241m>\u001b[39m Series:\n\u001b[1;32m     85\u001b[0m \u001b[38;5;250m    \u001b[39m\u001b[38;5;124;03m\"\"\"\u001b[39;00m\n\u001b[1;32m     86\u001b[0m \u001b[38;5;124;03m    On current trial t, take the previous trials average of\u001b[39;00m\n\u001b[1;32m     87\u001b[0m \u001b[38;5;124;03m    features in cols list.\u001b[39;00m\n\u001b[0;32m   (...)\u001b[0m\n\u001b[1;32m    104\u001b[0m \u001b[38;5;124;03m        mean 0 and std 1\u001b[39;00m\n\u001b[1;32m    105\u001b[0m \u001b[38;5;124;03m    \"\"\"\u001b[39;00m\n\u001b[0;32m--> 107\u001b[0m     cols_data \u001b[38;5;241m=\u001b[39m \u001b[43mdf\u001b[49m\u001b[43m[\u001b[49m\u001b[43mcol_names\u001b[49m\u001b[43m]\u001b[49m\u001b[38;5;241m.\u001b[39mcopy()\n\u001b[1;32m    109\u001b[0m     \u001b[38;5;66;03m# Shift to previous trial & average\u001b[39;00m\n\u001b[1;32m    110\u001b[0m     cols_data[\u001b[38;5;124m\"\u001b[39m\u001b[38;5;124mprev_avg\u001b[39m\u001b[38;5;124m\"\u001b[39m] \u001b[38;5;241m=\u001b[39m cols_data\u001b[38;5;241m.\u001b[39mshift()\u001b[38;5;241m.\u001b[39mmean(axis\u001b[38;5;241m=\u001b[39m\u001b[38;5;241m1\u001b[39m)\u001b[38;5;241m.\u001b[39mfillna(\u001b[38;5;241m0\u001b[39m)\n",
      "File \u001b[0;32m~/miniconda3/envs/jbab/lib/python3.10/site-packages/pandas/core/series.py:1144\u001b[0m, in \u001b[0;36mSeries.__getitem__\u001b[0;34m(self, key)\u001b[0m\n\u001b[1;32m   1141\u001b[0m     key \u001b[38;5;241m=\u001b[39m np\u001b[38;5;241m.\u001b[39masarray(key, dtype\u001b[38;5;241m=\u001b[39m\u001b[38;5;28mbool\u001b[39m)\n\u001b[1;32m   1142\u001b[0m     \u001b[38;5;28;01mreturn\u001b[39;00m \u001b[38;5;28mself\u001b[39m\u001b[38;5;241m.\u001b[39m_get_rows_with_mask(key)\n\u001b[0;32m-> 1144\u001b[0m \u001b[38;5;28;01mreturn\u001b[39;00m \u001b[38;5;28;43mself\u001b[39;49m\u001b[38;5;241;43m.\u001b[39;49m\u001b[43m_get_with\u001b[49m\u001b[43m(\u001b[49m\u001b[43mkey\u001b[49m\u001b[43m)\u001b[49m\n",
      "File \u001b[0;32m~/miniconda3/envs/jbab/lib/python3.10/site-packages/pandas/core/series.py:1185\u001b[0m, in \u001b[0;36mSeries._get_with\u001b[0;34m(self, key)\u001b[0m\n\u001b[1;32m   1182\u001b[0m         \u001b[38;5;28;01mreturn\u001b[39;00m \u001b[38;5;28mself\u001b[39m\u001b[38;5;241m.\u001b[39miloc[key]\n\u001b[1;32m   1184\u001b[0m \u001b[38;5;66;03m# handle the dup indexing case GH#4246\u001b[39;00m\n\u001b[0;32m-> 1185\u001b[0m \u001b[38;5;28;01mreturn\u001b[39;00m \u001b[38;5;28;43mself\u001b[39;49m\u001b[38;5;241;43m.\u001b[39;49m\u001b[43mloc\u001b[49m\u001b[43m[\u001b[49m\u001b[43mkey\u001b[49m\u001b[43m]\u001b[49m\n",
      "File \u001b[0;32m~/miniconda3/envs/jbab/lib/python3.10/site-packages/pandas/core/indexing.py:1191\u001b[0m, in \u001b[0;36m_LocationIndexer.__getitem__\u001b[0;34m(self, key)\u001b[0m\n\u001b[1;32m   1189\u001b[0m maybe_callable \u001b[38;5;241m=\u001b[39m com\u001b[38;5;241m.\u001b[39mapply_if_callable(key, \u001b[38;5;28mself\u001b[39m\u001b[38;5;241m.\u001b[39mobj)\n\u001b[1;32m   1190\u001b[0m maybe_callable \u001b[38;5;241m=\u001b[39m \u001b[38;5;28mself\u001b[39m\u001b[38;5;241m.\u001b[39m_check_deprecated_callable_usage(key, maybe_callable)\n\u001b[0;32m-> 1191\u001b[0m \u001b[38;5;28;01mreturn\u001b[39;00m \u001b[38;5;28;43mself\u001b[39;49m\u001b[38;5;241;43m.\u001b[39;49m\u001b[43m_getitem_axis\u001b[49m\u001b[43m(\u001b[49m\u001b[43mmaybe_callable\u001b[49m\u001b[43m,\u001b[49m\u001b[43m \u001b[49m\u001b[43maxis\u001b[49m\u001b[38;5;241;43m=\u001b[39;49m\u001b[43maxis\u001b[49m\u001b[43m)\u001b[49m\n",
      "File \u001b[0;32m~/miniconda3/envs/jbab/lib/python3.10/site-packages/pandas/core/indexing.py:1420\u001b[0m, in \u001b[0;36m_LocIndexer._getitem_axis\u001b[0;34m(self, key, axis)\u001b[0m\n\u001b[1;32m   1417\u001b[0m     \u001b[38;5;28;01mif\u001b[39;00m \u001b[38;5;28mhasattr\u001b[39m(key, \u001b[38;5;124m\"\u001b[39m\u001b[38;5;124mndim\u001b[39m\u001b[38;5;124m\"\u001b[39m) \u001b[38;5;129;01mand\u001b[39;00m key\u001b[38;5;241m.\u001b[39mndim \u001b[38;5;241m>\u001b[39m \u001b[38;5;241m1\u001b[39m:\n\u001b[1;32m   1418\u001b[0m         \u001b[38;5;28;01mraise\u001b[39;00m \u001b[38;5;167;01mValueError\u001b[39;00m(\u001b[38;5;124m\"\u001b[39m\u001b[38;5;124mCannot index with multidimensional key\u001b[39m\u001b[38;5;124m\"\u001b[39m)\n\u001b[0;32m-> 1420\u001b[0m     \u001b[38;5;28;01mreturn\u001b[39;00m \u001b[38;5;28;43mself\u001b[39;49m\u001b[38;5;241;43m.\u001b[39;49m\u001b[43m_getitem_iterable\u001b[49m\u001b[43m(\u001b[49m\u001b[43mkey\u001b[49m\u001b[43m,\u001b[49m\u001b[43m \u001b[49m\u001b[43maxis\u001b[49m\u001b[38;5;241;43m=\u001b[39;49m\u001b[43maxis\u001b[49m\u001b[43m)\u001b[49m\n\u001b[1;32m   1422\u001b[0m \u001b[38;5;66;03m# nested tuple slicing\u001b[39;00m\n\u001b[1;32m   1423\u001b[0m \u001b[38;5;28;01mif\u001b[39;00m is_nested_tuple(key, labels):\n",
      "File \u001b[0;32m~/miniconda3/envs/jbab/lib/python3.10/site-packages/pandas/core/indexing.py:1360\u001b[0m, in \u001b[0;36m_LocIndexer._getitem_iterable\u001b[0;34m(self, key, axis)\u001b[0m\n\u001b[1;32m   1357\u001b[0m \u001b[38;5;28mself\u001b[39m\u001b[38;5;241m.\u001b[39m_validate_key(key, axis)\n\u001b[1;32m   1359\u001b[0m \u001b[38;5;66;03m# A collection of keys\u001b[39;00m\n\u001b[0;32m-> 1360\u001b[0m keyarr, indexer \u001b[38;5;241m=\u001b[39m \u001b[38;5;28;43mself\u001b[39;49m\u001b[38;5;241;43m.\u001b[39;49m\u001b[43m_get_listlike_indexer\u001b[49m\u001b[43m(\u001b[49m\u001b[43mkey\u001b[49m\u001b[43m,\u001b[49m\u001b[43m \u001b[49m\u001b[43maxis\u001b[49m\u001b[43m)\u001b[49m\n\u001b[1;32m   1361\u001b[0m \u001b[38;5;28;01mreturn\u001b[39;00m \u001b[38;5;28mself\u001b[39m\u001b[38;5;241m.\u001b[39mobj\u001b[38;5;241m.\u001b[39m_reindex_with_indexers(\n\u001b[1;32m   1362\u001b[0m     {axis: [keyarr, indexer]}, copy\u001b[38;5;241m=\u001b[39m\u001b[38;5;28;01mTrue\u001b[39;00m, allow_dups\u001b[38;5;241m=\u001b[39m\u001b[38;5;28;01mTrue\u001b[39;00m\n\u001b[1;32m   1363\u001b[0m )\n",
      "File \u001b[0;32m~/miniconda3/envs/jbab/lib/python3.10/site-packages/pandas/core/indexing.py:1558\u001b[0m, in \u001b[0;36m_LocIndexer._get_listlike_indexer\u001b[0;34m(self, key, axis)\u001b[0m\n\u001b[1;32m   1555\u001b[0m ax \u001b[38;5;241m=\u001b[39m \u001b[38;5;28mself\u001b[39m\u001b[38;5;241m.\u001b[39mobj\u001b[38;5;241m.\u001b[39m_get_axis(axis)\n\u001b[1;32m   1556\u001b[0m axis_name \u001b[38;5;241m=\u001b[39m \u001b[38;5;28mself\u001b[39m\u001b[38;5;241m.\u001b[39mobj\u001b[38;5;241m.\u001b[39m_get_axis_name(axis)\n\u001b[0;32m-> 1558\u001b[0m keyarr, indexer \u001b[38;5;241m=\u001b[39m \u001b[43max\u001b[49m\u001b[38;5;241;43m.\u001b[39;49m\u001b[43m_get_indexer_strict\u001b[49m\u001b[43m(\u001b[49m\u001b[43mkey\u001b[49m\u001b[43m,\u001b[49m\u001b[43m \u001b[49m\u001b[43maxis_name\u001b[49m\u001b[43m)\u001b[49m\n\u001b[1;32m   1560\u001b[0m \u001b[38;5;28;01mreturn\u001b[39;00m keyarr, indexer\n",
      "File \u001b[0;32m~/miniconda3/envs/jbab/lib/python3.10/site-packages/pandas/core/indexes/base.py:6200\u001b[0m, in \u001b[0;36mIndex._get_indexer_strict\u001b[0;34m(self, key, axis_name)\u001b[0m\n\u001b[1;32m   6197\u001b[0m \u001b[38;5;28;01melse\u001b[39;00m:\n\u001b[1;32m   6198\u001b[0m     keyarr, indexer, new_indexer \u001b[38;5;241m=\u001b[39m \u001b[38;5;28mself\u001b[39m\u001b[38;5;241m.\u001b[39m_reindex_non_unique(keyarr)\n\u001b[0;32m-> 6200\u001b[0m \u001b[38;5;28;43mself\u001b[39;49m\u001b[38;5;241;43m.\u001b[39;49m\u001b[43m_raise_if_missing\u001b[49m\u001b[43m(\u001b[49m\u001b[43mkeyarr\u001b[49m\u001b[43m,\u001b[49m\u001b[43m \u001b[49m\u001b[43mindexer\u001b[49m\u001b[43m,\u001b[49m\u001b[43m \u001b[49m\u001b[43maxis_name\u001b[49m\u001b[43m)\u001b[49m\n\u001b[1;32m   6202\u001b[0m keyarr \u001b[38;5;241m=\u001b[39m \u001b[38;5;28mself\u001b[39m\u001b[38;5;241m.\u001b[39mtake(indexer)\n\u001b[1;32m   6203\u001b[0m \u001b[38;5;28;01mif\u001b[39;00m \u001b[38;5;28misinstance\u001b[39m(key, Index):\n\u001b[1;32m   6204\u001b[0m     \u001b[38;5;66;03m# GH 42790 - Preserve name from an Index\u001b[39;00m\n",
      "File \u001b[0;32m~/miniconda3/envs/jbab/lib/python3.10/site-packages/pandas/core/indexes/base.py:6249\u001b[0m, in \u001b[0;36mIndex._raise_if_missing\u001b[0;34m(self, key, indexer, axis_name)\u001b[0m\n\u001b[1;32m   6247\u001b[0m \u001b[38;5;28;01mif\u001b[39;00m nmissing:\n\u001b[1;32m   6248\u001b[0m     \u001b[38;5;28;01mif\u001b[39;00m nmissing \u001b[38;5;241m==\u001b[39m \u001b[38;5;28mlen\u001b[39m(indexer):\n\u001b[0;32m-> 6249\u001b[0m         \u001b[38;5;28;01mraise\u001b[39;00m \u001b[38;5;167;01mKeyError\u001b[39;00m(\u001b[38;5;124mf\u001b[39m\u001b[38;5;124m\"\u001b[39m\u001b[38;5;124mNone of [\u001b[39m\u001b[38;5;132;01m{\u001b[39;00mkey\u001b[38;5;132;01m}\u001b[39;00m\u001b[38;5;124m] are in the [\u001b[39m\u001b[38;5;132;01m{\u001b[39;00maxis_name\u001b[38;5;132;01m}\u001b[39;00m\u001b[38;5;124m]\u001b[39m\u001b[38;5;124m\"\u001b[39m)\n\u001b[1;32m   6251\u001b[0m     not_found \u001b[38;5;241m=\u001b[39m \u001b[38;5;28mlist\u001b[39m(ensure_index(key)[missing_mask\u001b[38;5;241m.\u001b[39mnonzero()[\u001b[38;5;241m0\u001b[39m]]\u001b[38;5;241m.\u001b[39munique())\n\u001b[1;32m   6252\u001b[0m     \u001b[38;5;28;01mraise\u001b[39;00m \u001b[38;5;167;01mKeyError\u001b[39;00m(\u001b[38;5;124mf\u001b[39m\u001b[38;5;124m\"\u001b[39m\u001b[38;5;132;01m{\u001b[39;00mnot_found\u001b[38;5;132;01m}\u001b[39;00m\u001b[38;5;124m not in index\u001b[39m\u001b[38;5;124m\"\u001b[39m)\n",
      "\u001b[0;31mKeyError\u001b[0m: \"None of [Index(['s_a', 's_b'], dtype='object')] are in the [index]\""
     ]
    }
   ],
   "source": [
    "dmg.create()\n",
    "dmg.X"
   ]
  },
  {
   "cell_type": "code",
   "execution_count": null,
   "metadata": {},
   "outputs": [],
   "source": []
  },
  {
   "cell_type": "code",
   "execution_count": 54,
   "metadata": {},
   "outputs": [
    {
     "data": {
      "text/plain": [
       "0"
      ]
     },
     "execution_count": 54,
     "metadata": {},
     "output_type": "execute_result"
    }
   ],
   "source": [
    "sum(dmg.X.prev_sa == 27)"
   ]
  },
  {
   "cell_type": "markdown",
   "metadata": {},
   "source": []
  },
  {
   "cell_type": "code",
   "execution_count": 19,
   "metadata": {},
   "outputs": [
    {
     "data": {
      "text/plain": [
       "{'comparison': <function _operator.eq(a, b, /)>, 'value': 2}"
      ]
     },
     "execution_count": 19,
     "metadata": {},
     "output_type": "execute_result"
    }
   ],
   "source": [
    "x = {\"comparison\": operator.eq, \"value\": 2}\n",
    "\n",
    "x[\"comparison\"]"
   ]
  },
  {
   "cell_type": "code",
   "execution_count": 16,
   "metadata": {},
   "outputs": [
    {
     "data": {
      "text/plain": [
       "0        1\n",
       "1        1\n",
       "2        0\n",
       "3        0\n",
       "4        0\n",
       "        ..\n",
       "98918    0\n",
       "98919    1\n",
       "98920    0\n",
       "98921    0\n",
       "98922    0\n",
       "Name: s_a, Length: 98923, dtype: int64"
      ]
     },
     "execution_count": 16,
     "metadata": {},
     "output_type": "execute_result"
    }
   ],
   "source": [
    "col = dmg.X.s_a.copy()\n",
    "value = 60\n",
    "\n",
    "import operator\n",
    "\n",
    "operator.eq(col, 60).astype(int)"
   ]
  }
 ],
 "metadata": {
  "kernelspec": {
   "display_name": "an_lrn",
   "language": "python",
   "name": "python3"
  },
  "language_info": {
   "codemirror_mode": {
    "name": "ipython",
    "version": 3
   },
   "file_extension": ".py",
   "mimetype": "text/x-python",
   "name": "python",
   "nbconvert_exporter": "python",
   "pygments_lexer": "ipython3",
   "version": "3.10.13"
  }
 },
 "nbformat": 4,
 "nbformat_minor": 2
}
