{
 "cells": [
  {
   "cell_type": "markdown",
   "metadata": {},
   "source": [
    "# Dev New Design Matrix Generator (DMG)\n",
    "\n",
    "**Goal**: Use this notebook to develop a new, more flexible DMG class.\n",
    "\n",
    "**Motivation**: The previous version has a \"generate_base_matrix\" function and then other classes operated on that base matrix (e.g. filtering the history). The structure of the base matrix was not flexible at all and required adding lots of if else logic. Also, adding violation features to a binary model was not possible Now that I am entering a phase of wanting to change features readily, this needs to be updated."
   ]
  },
  {
   "cell_type": "code",
   "execution_count": 95,
   "metadata": {},
   "outputs": [
    {
     "name": "stdout",
     "output_type": "stream",
     "text": [
      "The autoreload extension is already loaded. To reload it, use:\n",
      "  %reload_ext autoreload\n"
     ]
    }
   ],
   "source": [
    "import pandas as pd\n",
    "import numpy as np\n",
    "from multiglm.features.exp_filter import ExpFilter\n",
    "from multiglm.features.design_matrix_generator import *\n",
    "from multiglm.features.design_matrix_generator_PWM import *\n",
    "\n",
    "from multiglm.data.dataset_loader import *\n",
    "\n",
    "%load_ext autoreload\n",
    "%autoreload 2\n"
   ]
  },
  {
   "cell_type": "code",
   "execution_count": 3,
   "metadata": {},
   "outputs": [
    {
     "name": "stdout",
     "output_type": "stream",
     "text": [
      "Loading data for animal ids:  ['W051']\n"
     ]
    }
   ],
   "source": [
    "df = DatasetLoader(animal_ids=[\"W051\"], data_type=\"new_trained\").load_data()"
   ]
  },
  {
   "cell_type": "markdown",
   "metadata": {},
   "source": []
  },
  {
   "cell_type": "code",
   "execution_count": 114,
   "metadata": {},
   "outputs": [
    {
     "name": "stdout",
     "output_type": "stream",
     "text": [
      "DMG: Creating data matrix with columns: dict_keys(['bias', 's_a', 's_b', 'prev_avg_stim', 'prev_violation', 'prev_choice'])\n",
      "DMG: Creating labels with column: choice.\n",
      "DMG: One hot encoding labels.\n"
     ]
    }
   ],
   "source": [
    "config = {\n",
    "    \"bias\": lambda df: (add_bias_column(df)),\n",
    "    \"s_a\": lambda df: (copy(df.s_a)),\n",
    "    \"s_b\": lambda df: (copy(df.s_b)),\n",
    "    \"prev_avg_stim\": lambda df: prev_avg_stim(df, mask_prev_violation=True),\n",
    "    \"prev_violation\": lambda df: (\n",
    "        shift_n_trials_up(\n",
    "            df.violation,\n",
    "            df.session,\n",
    "            shift_size=1,\n",
    "        )\n",
    "    ),\n",
    "    \"prev_avg_stim\": lambda df: prev_avg_stim(df, mask_prev_violation=True),\n",
    "    \"prev_correct\" : lambda df: prev_correct_side(df),\n",
    "    \"prev_choice\": lambda df: (\n",
    "        mask_prev_event(\n",
    "            shift_n_trials_up(\n",
    "                remap_values(df.choice, {0: -1, 1: 1}),\n",
    "                df.session,\n",
    "                shift_size=1,\n",
    "            ),\n",
    "            df.violation,\n",
    "            df.session,\n",
    "        )\n",
    "    ),\n",
    "    \"labels\": {\"column_name\": \"choice\"},\n",
    "}\n",
    "\n",
    "dmg = DesignMatrixGeneratorPWM(df, config, verbose=True)\n",
    "X, y = dmg.create()"
   ]
  },
  {
   "cell_type": "code",
   "execution_count": 116,
   "metadata": {},
   "outputs": [
    {
     "data": {
      "text/plain": [
       "correct_side\n",
       "0    50621\n",
       "1    48302\n",
       "Name: count, dtype: int64"
      ]
     },
     "execution_count": 116,
     "metadata": {},
     "output_type": "execute_result"
    }
   ],
   "source": []
  },
  {
   "cell_type": "code",
   "execution_count": 113,
   "metadata": {},
   "outputs": [
    {
     "data": {
      "text/html": [
       "<div>\n",
       "<style scoped>\n",
       "    .dataframe tbody tr th:only-of-type {\n",
       "        vertical-align: middle;\n",
       "    }\n",
       "\n",
       "    .dataframe tbody tr th {\n",
       "        vertical-align: top;\n",
       "    }\n",
       "\n",
       "    .dataframe thead th {\n",
       "        text-align: right;\n",
       "    }\n",
       "</style>\n",
       "<table border=\"1\" class=\"dataframe\">\n",
       "  <thead>\n",
       "    <tr style=\"text-align: right;\">\n",
       "      <th></th>\n",
       "      <th>choice</th>\n",
       "      <th>bias</th>\n",
       "      <th>s_a</th>\n",
       "      <th>s_b</th>\n",
       "      <th>prev_avg_stim</th>\n",
       "      <th>prev_violation</th>\n",
       "      <th>prev_choice</th>\n",
       "    </tr>\n",
       "  </thead>\n",
       "  <tbody>\n",
       "    <tr>\n",
       "      <th>0</th>\n",
       "      <td>2</td>\n",
       "      <td>1</td>\n",
       "      <td>60.0</td>\n",
       "      <td>68.0</td>\n",
       "      <td>0.0</td>\n",
       "      <td>0.0</td>\n",
       "      <td>0.0</td>\n",
       "    </tr>\n",
       "    <tr>\n",
       "      <th>1</th>\n",
       "      <td>2</td>\n",
       "      <td>1</td>\n",
       "      <td>60.0</td>\n",
       "      <td>68.0</td>\n",
       "      <td>64.0</td>\n",
       "      <td>1.0</td>\n",
       "      <td>0.0</td>\n",
       "    </tr>\n",
       "    <tr>\n",
       "      <th>2</th>\n",
       "      <td>2</td>\n",
       "      <td>1</td>\n",
       "      <td>76.0</td>\n",
       "      <td>68.0</td>\n",
       "      <td>64.0</td>\n",
       "      <td>1.0</td>\n",
       "      <td>0.0</td>\n",
       "    </tr>\n",
       "    <tr>\n",
       "      <th>3</th>\n",
       "      <td>0</td>\n",
       "      <td>1</td>\n",
       "      <td>68.0</td>\n",
       "      <td>76.0</td>\n",
       "      <td>72.0</td>\n",
       "      <td>1.0</td>\n",
       "      <td>0.0</td>\n",
       "    </tr>\n",
       "    <tr>\n",
       "      <th>4</th>\n",
       "      <td>1</td>\n",
       "      <td>1</td>\n",
       "      <td>84.0</td>\n",
       "      <td>76.0</td>\n",
       "      <td>72.0</td>\n",
       "      <td>0.0</td>\n",
       "      <td>-1.0</td>\n",
       "    </tr>\n",
       "    <tr>\n",
       "      <th>5</th>\n",
       "      <td>2</td>\n",
       "      <td>1</td>\n",
       "      <td>60.0</td>\n",
       "      <td>68.0</td>\n",
       "      <td>80.0</td>\n",
       "      <td>0.0</td>\n",
       "      <td>1.0</td>\n",
       "    </tr>\n",
       "    <tr>\n",
       "      <th>6</th>\n",
       "      <td>1</td>\n",
       "      <td>1</td>\n",
       "      <td>76.0</td>\n",
       "      <td>68.0</td>\n",
       "      <td>64.0</td>\n",
       "      <td>1.0</td>\n",
       "      <td>0.0</td>\n",
       "    </tr>\n",
       "    <tr>\n",
       "      <th>7</th>\n",
       "      <td>1</td>\n",
       "      <td>1</td>\n",
       "      <td>84.0</td>\n",
       "      <td>76.0</td>\n",
       "      <td>72.0</td>\n",
       "      <td>0.0</td>\n",
       "      <td>1.0</td>\n",
       "    </tr>\n",
       "    <tr>\n",
       "      <th>8</th>\n",
       "      <td>1</td>\n",
       "      <td>1</td>\n",
       "      <td>60.0</td>\n",
       "      <td>68.0</td>\n",
       "      <td>80.0</td>\n",
       "      <td>0.0</td>\n",
       "      <td>1.0</td>\n",
       "    </tr>\n",
       "    <tr>\n",
       "      <th>9</th>\n",
       "      <td>0</td>\n",
       "      <td>1</td>\n",
       "      <td>76.0</td>\n",
       "      <td>84.0</td>\n",
       "      <td>64.0</td>\n",
       "      <td>0.0</td>\n",
       "      <td>1.0</td>\n",
       "    </tr>\n",
       "  </tbody>\n",
       "</table>\n",
       "</div>"
      ],
      "text/plain": [
       "   choice  bias   s_a   s_b  prev_avg_stim  prev_violation  prev_choice\n",
       "0       2     1  60.0  68.0            0.0             0.0          0.0\n",
       "1       2     1  60.0  68.0           64.0             1.0          0.0\n",
       "2       2     1  76.0  68.0           64.0             1.0          0.0\n",
       "3       0     1  68.0  76.0           72.0             1.0          0.0\n",
       "4       1     1  84.0  76.0           72.0             0.0         -1.0\n",
       "5       2     1  60.0  68.0           80.0             0.0          1.0\n",
       "6       1     1  76.0  68.0           64.0             1.0          0.0\n",
       "7       1     1  84.0  76.0           72.0             0.0          1.0\n",
       "8       1     1  60.0  68.0           80.0             0.0          1.0\n",
       "9       0     1  76.0  84.0           64.0             0.0          1.0"
      ]
     },
     "execution_count": 113,
     "metadata": {},
     "output_type": "execute_result"
    }
   ],
   "source": [
    "X.head(10)"
   ]
  },
  {
   "cell_type": "code",
   "execution_count": 85,
   "metadata": {},
   "outputs": [
    {
     "data": {
      "text/plain": [
       "False"
      ]
     },
     "execution_count": 85,
     "metadata": {},
     "output_type": "execute_result"
    }
   ],
   "source": [
    "dd = DesignMatrixGeneratorPWM(df, config, verbose=True)\n",
    "\n",
    "dd.verbose"
   ]
  },
  {
   "cell_type": "code",
   "execution_count": 57,
   "metadata": {},
   "outputs": [
    {
     "data": {
      "text/plain": [
       "85353"
      ]
     },
     "execution_count": 57,
     "metadata": {},
     "output_type": "execute_result"
    }
   ],
   "source": [
    "len(y)"
   ]
  },
  {
   "cell_type": "markdown",
   "metadata": {},
   "source": [
    "### Labels"
   ]
  },
  {
   "cell_type": "code",
   "execution_count": 38,
   "metadata": {},
   "outputs": [],
   "source": [
    "\n",
    "\n",
    "config_labels = {\"column_name\": \"choice\", \"mapping\": {0: 0, 1: 1, 2: 7}}"
   ]
  },
  {
   "cell_type": "code",
   "execution_count": 39,
   "metadata": {},
   "outputs": [],
   "source": [
    "labels_col = df[config_labels[\"column_name\"]]\n",
    "\n",
    "if \"mapping\" in config_labels.keys():\n",
    "    labels_col = remap_values(labels_col, config_labels[\"mapping\"])"
   ]
  },
  {
   "cell_type": "code",
   "execution_count": 41,
   "metadata": {},
   "outputs": [],
   "source": [
    "labels_col = labels_col.dropna().astype(int)"
   ]
  },
  {
   "cell_type": "code",
   "execution_count": 44,
   "metadata": {},
   "outputs": [
    {
     "data": {
      "text/plain": [
       "array([[False, False,  True],\n",
       "       [False, False,  True],\n",
       "       [False, False,  True],\n",
       "       ...,\n",
       "       [False, False,  True],\n",
       "       [False,  True, False],\n",
       "       [ True, False, False]])"
      ]
     },
     "execution_count": 44,
     "metadata": {},
     "output_type": "execute_result"
    }
   ],
   "source": [
    "pd.get_dummies(labels_col).to_numpy(copy=True)"
   ]
  },
  {
   "cell_type": "markdown",
   "metadata": {},
   "source": [
    "### Exp Filter"
   ]
  },
  {
   "cell_type": "code",
   "execution_count": 4,
   "metadata": {},
   "outputs": [
    {
     "data": {
      "text/plain": [
       "True"
      ]
     },
     "execution_count": 4,
     "metadata": {},
     "output_type": "execute_result"
    }
   ],
   "source": [
    "from multiglm.features.exp_filter import ExpFilter\n",
    "\n",
    "\"\"\" \n",
    "Testing filter is the exact same for both the class directly and the function\n",
    "\"\"\"\n",
    "\n",
    "filt = ExpFilter(tau=4, column=\"violation\", verbose=False).apply_filter_to_dataframe(df)\n",
    "(filt[\"violation_exp\"] == exp_filter_column(df[\"violation\"], df.session, tau=4)).all()"
   ]
  },
  {
   "cell_type": "code",
   "execution_count": 65,
   "metadata": {},
   "outputs": [
    {
     "data": {
      "text/plain": [
       "True"
      ]
     },
     "execution_count": 65,
     "metadata": {},
     "output_type": "execute_result"
    }
   ],
   "source": [
    "(filt[\"violation_exp\"] == exp_filter_column(df[\"violation\"], df.session, tau=4)).all()"
   ]
  },
  {
   "cell_type": "markdown",
   "metadata": {},
   "source": [
    "### Assorted Funcs"
   ]
  },
  {
   "cell_type": "code",
   "execution_count": 20,
   "metadata": {},
   "outputs": [
    {
     "data": {
      "text/plain": [
       "0        0\n",
       "1        0\n",
       "2        0\n",
       "3       -1\n",
       "4        1\n",
       "        ..\n",
       "98918    1\n",
       "98919    1\n",
       "98920    0\n",
       "98921    1\n",
       "98922   -1\n",
       "Name: choice, Length: 98923, dtype: int64"
      ]
     },
     "execution_count": 20,
     "metadata": {},
     "output_type": "execute_result"
    }
   ],
   "source": [
    "remap_values(df.choice, {0: -1, 2: 0}), "
   ]
  },
  {
   "cell_type": "code",
   "execution_count": 27,
   "metadata": {},
   "outputs": [
    {
     "data": {
      "text/plain": [
       "0        0.0\n",
       "1        0.0\n",
       "2        1.0\n",
       "3        1.0\n",
       "4        1.0\n",
       "        ... \n",
       "98918    0.0\n",
       "98919    0.0\n",
       "98920    0.0\n",
       "98921    0.0\n",
       "98922    1.0\n",
       "Length: 98923, dtype: float64"
      ]
     },
     "execution_count": 27,
     "metadata": {},
     "output_type": "execute_result"
    }
   ],
   "source": [
    "shift_n_trials_up(df.violation, df.session, shift_size=2)"
   ]
  },
  {
   "cell_type": "code",
   "execution_count": 74,
   "metadata": {},
   "outputs": [
    {
     "data": {
      "text/plain": [
       "array([1, 0])"
      ]
     },
     "execution_count": 74,
     "metadata": {},
     "output_type": "execute_result"
    }
   ],
   "source": [
    "df.violation.unique()"
   ]
  },
  {
   "cell_type": "code",
   "execution_count": 79,
   "metadata": {},
   "outputs": [
    {
     "data": {
      "text/plain": [
       "False"
      ]
     },
     "execution_count": 79,
     "metadata": {},
     "output_type": "execute_result"
    }
   ],
   "source": [
    "\"s_a\" in config.keys()"
   ]
  },
  {
   "cell_type": "markdown",
   "metadata": {},
   "source": [
    "### Shift size & Session Masking"
   ]
  },
  {
   "cell_type": "code",
   "execution_count": 25,
   "metadata": {},
   "outputs": [
    {
     "name": "stdout",
     "output_type": "stream",
     "text": [
      "False 1\n",
      "False 1\n",
      "False 1\n",
      "False 1\n",
      "False 1\n",
      "False 1\n",
      "False 1\n",
      "True 1\n",
      "True 1\n",
      "True 1\n",
      "False 2\n",
      "False 2\n",
      "False 2\n",
      "False 3\n",
      "False 3\n",
      "False 3\n",
      "False 3\n",
      "False 3\n",
      "False 3\n",
      "False 3\n",
      "True 3\n"
     ]
    }
   ],
   "source": [
    "\"\"\"Testing a shift size > n trials in a session \"\"\"\n",
    "\n",
    "session_ids = [1] * 10 + [2] * 3 + [3] * 8\n",
    "\n",
    "# Create the Series\n",
    "sessions = pd.Series(session_ids)\n",
    "\n",
    "mask = get_session_start_mask(sessions, shift_size=7)\n",
    "\n",
    "for i in range(len(mask)):\n",
    "    print(mask[i], sessions[i])"
   ]
  },
  {
   "cell_type": "code",
   "execution_count": 69,
   "metadata": {},
   "outputs": [
    {
     "data": {
      "text/plain": [
       "0         True\n",
       "1        False\n",
       "2        False\n",
       "3        False\n",
       "4         True\n",
       "         ...  \n",
       "98918     True\n",
       "98919     True\n",
       "98920     True\n",
       "98921    False\n",
       "98922     True\n",
       "Length: 98923, dtype: bool"
      ]
     },
     "execution_count": 69,
     "metadata": {},
     "output_type": "execute_result"
    }
   ],
   "source": [
    "get_prev_event_mask(df.violation, df.session)"
   ]
  },
  {
   "cell_type": "code",
   "execution_count": 19,
   "metadata": {},
   "outputs": [
    {
     "name": "stdout",
     "output_type": "stream",
     "text": [
      "No labels found in config, only creating data matrix.\n"
     ]
    },
    {
     "data": {
      "text/html": [
       "<div>\n",
       "<style scoped>\n",
       "    .dataframe tbody tr th:only-of-type {\n",
       "        vertical-align: middle;\n",
       "    }\n",
       "\n",
       "    .dataframe tbody tr th {\n",
       "        vertical-align: top;\n",
       "    }\n",
       "\n",
       "    .dataframe thead th {\n",
       "        text-align: right;\n",
       "    }\n",
       "</style>\n",
       "<table border=\"1\" class=\"dataframe\">\n",
       "  <thead>\n",
       "    <tr style=\"text-align: right;\">\n",
       "      <th></th>\n",
       "      <th>choice</th>\n",
       "      <th>s_a_shifted</th>\n",
       "    </tr>\n",
       "  </thead>\n",
       "  <tbody>\n",
       "    <tr>\n",
       "      <th>0</th>\n",
       "      <td>2</td>\n",
       "      <td>0.0</td>\n",
       "    </tr>\n",
       "    <tr>\n",
       "      <th>1</th>\n",
       "      <td>2</td>\n",
       "      <td>0.0</td>\n",
       "    </tr>\n",
       "    <tr>\n",
       "      <th>2</th>\n",
       "      <td>2</td>\n",
       "      <td>0.0</td>\n",
       "    </tr>\n",
       "    <tr>\n",
       "      <th>3</th>\n",
       "      <td>0</td>\n",
       "      <td>0.0</td>\n",
       "    </tr>\n",
       "    <tr>\n",
       "      <th>4</th>\n",
       "      <td>1</td>\n",
       "      <td>68.0</td>\n",
       "    </tr>\n",
       "    <tr>\n",
       "      <th>...</th>\n",
       "      <td>...</td>\n",
       "      <td>...</td>\n",
       "    </tr>\n",
       "    <tr>\n",
       "      <th>98918</th>\n",
       "      <td>1</td>\n",
       "      <td>76.0</td>\n",
       "    </tr>\n",
       "    <tr>\n",
       "      <th>98919</th>\n",
       "      <td>1</td>\n",
       "      <td>91.0</td>\n",
       "    </tr>\n",
       "    <tr>\n",
       "      <th>98920</th>\n",
       "      <td>2</td>\n",
       "      <td>60.0</td>\n",
       "    </tr>\n",
       "    <tr>\n",
       "      <th>98921</th>\n",
       "      <td>1</td>\n",
       "      <td>0.0</td>\n",
       "    </tr>\n",
       "    <tr>\n",
       "      <th>98922</th>\n",
       "      <td>0</td>\n",
       "      <td>91.0</td>\n",
       "    </tr>\n",
       "  </tbody>\n",
       "</table>\n",
       "<p>98923 rows × 2 columns</p>\n",
       "</div>"
      ],
      "text/plain": [
       "       choice  s_a_shifted\n",
       "0           2          0.0\n",
       "1           2          0.0\n",
       "2           2          0.0\n",
       "3           0          0.0\n",
       "4           1         68.0\n",
       "...       ...          ...\n",
       "98918       1         76.0\n",
       "98919       1         91.0\n",
       "98920       2         60.0\n",
       "98921       1          0.0\n",
       "98922       0         91.0\n",
       "\n",
       "[98923 rows x 2 columns]"
      ]
     },
     "execution_count": 19,
     "metadata": {},
     "output_type": "execute_result"
    }
   ],
   "source": [
    "config = {\n",
    "    \"s_a_shifted\": lambda bb: (\n",
    "        mask_prev_event(\n",
    "            shift_n_trials_up(\n",
    "                bb[\"s_a\"],\n",
    "                bb.session,\n",
    "                shift_size=1,\n",
    "            ),\n",
    "            bb.violation,\n",
    "            bb.session,\n",
    "        )\n",
    "    )\n",
    "}\n",
    "\n",
    "dmg = DesignMatrixGeneratorPWM(df, config)\n",
    "dmg.create()"
   ]
  },
  {
   "cell_type": "markdown",
   "metadata": {},
   "source": [
    "Next steps:\n",
    "\n",
    "1. base label class\n",
    "2. PWM specific data fxs\n",
    "3. PWM specific label fxs"
   ]
  }
 ],
 "metadata": {
  "kernelspec": {
   "display_name": "an_lrn",
   "language": "python",
   "name": "python3"
  },
  "language_info": {
   "codemirror_mode": {
    "name": "ipython",
    "version": 3
   },
   "file_extension": ".py",
   "mimetype": "text/x-python",
   "name": "python",
   "nbconvert_exporter": "python",
   "pygments_lexer": "ipython3",
   "version": "3.10.0"
  }
 },
 "nbformat": 4,
 "nbformat_minor": 2
}
