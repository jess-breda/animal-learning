{
 "cells": [
  {
   "cell_type": "markdown",
   "metadata": {},
   "source": [
    "# Dev New Design Matrix Generator (DMG)\n",
    "\n",
    "**Goal**: Use this notebook to develop a new, more flexible DMG class.\n",
    "\n",
    "**Motivation**: The previous version has a \"generate_base_matrix\" function and then other classes operated on that base matrix (e.g. filtering the history). The structure of the base matrix was not flexible at all and required adding lots of if else logic. Also, adding violation features to a binary model was not possible Now that I am entering a phase of wanting to change features readily, this needs to be updated."
   ]
  },
  {
   "cell_type": "code",
   "execution_count": null,
   "metadata": {},
   "outputs": [
    {
     "name": "stdout",
     "output_type": "stream",
     "text": [
      "The autoreload extension is already loaded. To reload it, use:\n",
      "  %reload_ext autoreload\n"
     ]
    }
   ],
   "source": [
    "import pandas as pd\n",
    "import numpy as np\n",
    "from multiglm.features.exp_filter import ExpFilter\n",
    "from multiglm.features.design_matrix_generator import *\n",
    "\n",
    "from multiglm.data.dataset_loader import *\n",
    "\n",
    "%load_ext autoreload\n",
    "%autoreload 2\n"
   ]
  },
  {
   "cell_type": "code",
   "execution_count": 2,
   "metadata": {},
   "outputs": [
    {
     "name": "stdout",
     "output_type": "stream",
     "text": [
      "Loading data for animal ids:  ['W051']\n"
     ]
    }
   ],
   "source": [
    "df = DatasetLoader(animal_ids=[\"W051\"], data_type=\"new_trained\").load_data()"
   ]
  },
  {
   "cell_type": "code",
   "execution_count": 71,
   "metadata": {},
   "outputs": [],
   "source": [
    "config = {\n",
    "    \"bias\": (lambda df: dmg.add_bias_column(df)),\n",
    "    \"s_a_norm\": (lambda df: dmg.normalize_column(df, \"s_a\")),\n",
    "    \"s_b_norm\": (lambda df: dmg.normalize_column(df, \"s_b\")),\n",
    "    \"prev_sound_avg\": (\n",
    "        lambda df: dmg.prev_trial_avg(\n",
    "            df, col_names=[\"s_a\", \"s_b\"], mask_violations=True, normalize=True\n",
    "        )\n",
    "    ),\n",
    "    \"s_a\": (lambda df: dmg.copy(df, col_name=\"s_a\")),\n",
    "    \"prev_sa\": (\n",
    "        lambda df: dmg.prev_trial_value(\n",
    "            df, col_name=\"s_a\", method=\"map_values\", mapping={60: 2}\n",
    "        )\n",
    "    ),\n",
    "}\n",
    "dmg = DesignMatrixGenerator(df, config)"
   ]
  },
  {
   "cell_type": "markdown",
   "metadata": {},
   "source": [
    "now set up to make a filtered column. The one thing is this filtered column needs to act on the temp column...hmm. I guess maybe putting it back to the df would have been the right call? but weird copy things were happening (e.g. s_a exists in both). I want to be able to chain things together. So filtering can happen on a column thats already been normalized etc in a separate operations. I want to be able to filter \"prev_choice\" after I explicitly make prev choice and same for violations. Lets start by writing a method that takes a col, tau and applies the filter to it then we can worry about where it's coming form."
   ]
  },
  {
   "cell_type": "code",
   "execution_count": 70,
   "metadata": {},
   "outputs": [
    {
     "name": "stdout",
     "output_type": "stream",
     "text": [
      "map_values\n"
     ]
    },
    {
     "data": {
      "text/html": [
       "<div>\n",
       "<style scoped>\n",
       "    .dataframe tbody tr th:only-of-type {\n",
       "        vertical-align: middle;\n",
       "    }\n",
       "\n",
       "    .dataframe tbody tr th {\n",
       "        vertical-align: top;\n",
       "    }\n",
       "\n",
       "    .dataframe thead th {\n",
       "        text-align: right;\n",
       "    }\n",
       "</style>\n",
       "<table border=\"1\" class=\"dataframe\">\n",
       "  <thead>\n",
       "    <tr style=\"text-align: right;\">\n",
       "      <th></th>\n",
       "      <th>choice</th>\n",
       "      <th>bias</th>\n",
       "      <th>s_a_norm</th>\n",
       "      <th>prev_sa</th>\n",
       "      <th>s_a</th>\n",
       "    </tr>\n",
       "  </thead>\n",
       "  <tbody>\n",
       "    <tr>\n",
       "      <th>0</th>\n",
       "      <td>2</td>\n",
       "      <td>1</td>\n",
       "      <td>-1.649967</td>\n",
       "      <td>0.0</td>\n",
       "      <td>60.0</td>\n",
       "    </tr>\n",
       "    <tr>\n",
       "      <th>1</th>\n",
       "      <td>2</td>\n",
       "      <td>1</td>\n",
       "      <td>-1.649967</td>\n",
       "      <td>0.0</td>\n",
       "      <td>60.0</td>\n",
       "    </tr>\n",
       "    <tr>\n",
       "      <th>2</th>\n",
       "      <td>2</td>\n",
       "      <td>1</td>\n",
       "      <td>0.019421</td>\n",
       "      <td>0.0</td>\n",
       "      <td>76.0</td>\n",
       "    </tr>\n",
       "    <tr>\n",
       "      <th>3</th>\n",
       "      <td>0</td>\n",
       "      <td>1</td>\n",
       "      <td>-0.815273</td>\n",
       "      <td>0.0</td>\n",
       "      <td>68.0</td>\n",
       "    </tr>\n",
       "    <tr>\n",
       "      <th>4</th>\n",
       "      <td>1</td>\n",
       "      <td>1</td>\n",
       "      <td>0.854115</td>\n",
       "      <td>68.0</td>\n",
       "      <td>84.0</td>\n",
       "    </tr>\n",
       "    <tr>\n",
       "      <th>...</th>\n",
       "      <td>...</td>\n",
       "      <td>...</td>\n",
       "      <td>...</td>\n",
       "      <td>...</td>\n",
       "      <td>...</td>\n",
       "    </tr>\n",
       "    <tr>\n",
       "      <th>98918</th>\n",
       "      <td>1</td>\n",
       "      <td>1</td>\n",
       "      <td>1.584472</td>\n",
       "      <td>76.0</td>\n",
       "      <td>91.0</td>\n",
       "    </tr>\n",
       "    <tr>\n",
       "      <th>98919</th>\n",
       "      <td>1</td>\n",
       "      <td>1</td>\n",
       "      <td>-1.649967</td>\n",
       "      <td>91.0</td>\n",
       "      <td>60.0</td>\n",
       "    </tr>\n",
       "    <tr>\n",
       "      <th>98920</th>\n",
       "      <td>2</td>\n",
       "      <td>1</td>\n",
       "      <td>-0.815273</td>\n",
       "      <td>2.0</td>\n",
       "      <td>68.0</td>\n",
       "    </tr>\n",
       "    <tr>\n",
       "      <th>98921</th>\n",
       "      <td>1</td>\n",
       "      <td>1</td>\n",
       "      <td>1.584472</td>\n",
       "      <td>0.0</td>\n",
       "      <td>91.0</td>\n",
       "    </tr>\n",
       "    <tr>\n",
       "      <th>98922</th>\n",
       "      <td>0</td>\n",
       "      <td>1</td>\n",
       "      <td>0.019421</td>\n",
       "      <td>91.0</td>\n",
       "      <td>76.0</td>\n",
       "    </tr>\n",
       "  </tbody>\n",
       "</table>\n",
       "<p>98923 rows × 5 columns</p>\n",
       "</div>"
      ],
      "text/plain": [
       "       choice  bias  s_a_norm  prev_sa   s_a\n",
       "0           2     1 -1.649967      0.0  60.0\n",
       "1           2     1 -1.649967      0.0  60.0\n",
       "2           2     1  0.019421      0.0  76.0\n",
       "3           0     1 -0.815273      0.0  68.0\n",
       "4           1     1  0.854115     68.0  84.0\n",
       "...       ...   ...       ...      ...   ...\n",
       "98918       1     1  1.584472     76.0  91.0\n",
       "98919       1     1 -1.649967     91.0  60.0\n",
       "98920       2     1 -0.815273      2.0  68.0\n",
       "98921       1     1  1.584472      0.0  91.0\n",
       "98922       0     1  0.019421     91.0  76.0\n",
       "\n",
       "[98923 rows x 5 columns]"
      ]
     },
     "execution_count": 70,
     "metadata": {},
     "output_type": "execute_result"
    }
   ],
   "source": [
    "dmg.create()\n",
    "dmg.X"
   ]
  },
  {
   "cell_type": "code",
   "execution_count": null,
   "metadata": {},
   "outputs": [],
   "source": []
  },
  {
   "cell_type": "code",
   "execution_count": 54,
   "metadata": {},
   "outputs": [
    {
     "data": {
      "text/plain": [
       "0"
      ]
     },
     "execution_count": 54,
     "metadata": {},
     "output_type": "execute_result"
    }
   ],
   "source": [
    "sum(dmg.X.prev_sa == 27)"
   ]
  },
  {
   "cell_type": "markdown",
   "metadata": {},
   "source": []
  },
  {
   "cell_type": "code",
   "execution_count": 19,
   "metadata": {},
   "outputs": [
    {
     "data": {
      "text/plain": [
       "{'comparison': <function _operator.eq(a, b, /)>, 'value': 2}"
      ]
     },
     "execution_count": 19,
     "metadata": {},
     "output_type": "execute_result"
    }
   ],
   "source": [
    "x = {\"comparison\": operator.eq, \"value\": 2}\n",
    "\n",
    "x[\"comparison\"]"
   ]
  },
  {
   "cell_type": "code",
   "execution_count": 16,
   "metadata": {},
   "outputs": [
    {
     "data": {
      "text/plain": [
       "0        1\n",
       "1        1\n",
       "2        0\n",
       "3        0\n",
       "4        0\n",
       "        ..\n",
       "98918    0\n",
       "98919    1\n",
       "98920    0\n",
       "98921    0\n",
       "98922    0\n",
       "Name: s_a, Length: 98923, dtype: int64"
      ]
     },
     "execution_count": 16,
     "metadata": {},
     "output_type": "execute_result"
    }
   ],
   "source": [
    "col = dmg.X.s_a.copy()\n",
    "value = 60\n",
    "\n",
    "import operator\n",
    "\n",
    "operator.eq(col, 60).astype(int)"
   ]
  }
 ],
 "metadata": {
  "kernelspec": {
   "display_name": "an_lrn",
   "language": "python",
   "name": "python3"
  },
  "language_info": {
   "codemirror_mode": {
    "name": "ipython",
    "version": 3
   },
   "file_extension": ".py",
   "mimetype": "text/x-python",
   "name": "python",
   "nbconvert_exporter": "python",
   "pygments_lexer": "ipython3",
   "version": "3.10.0"
  }
 },
 "nbformat": 4,
 "nbformat_minor": 2
}
