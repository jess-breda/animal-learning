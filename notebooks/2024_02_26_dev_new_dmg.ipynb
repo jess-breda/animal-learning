{
 "cells": [
  {
   "cell_type": "markdown",
   "metadata": {},
   "source": [
    "# Dev New Design Matrix Generator (DMG)\n",
    "\n",
    "**Goal**: Use this notebook to develop a new, more flexible DMG class.\n",
    "\n",
    "**Motivation**: The previous version has a \"generate_base_matrix\" function and then other classes operated on that base matrix (e.g. filtering the history). The structure of the base matrix was not flexible at all and required adding lots of if else logic. Also, adding violation features to a binary model was not possible Now that I am entering a phase of wanting to change features readily, this needs to be updated."
   ]
  },
  {
   "cell_type": "code",
   "execution_count": 16,
   "metadata": {},
   "outputs": [
    {
     "name": "stdout",
     "output_type": "stream",
     "text": [
      "The autoreload extension is already loaded. To reload it, use:\n",
      "  %reload_ext autoreload\n"
     ]
    }
   ],
   "source": [
    "import pandas as pd\n",
    "import numpy as np\n",
    "from multiglm.features.exp_filter import ExpFilter\n",
    "from multiglm.features.design_matrix_generator import *\n",
    "from multiglm.features.design_matrix_generator_PWM import *\n",
    "\n",
    "from multiglm.data.dataset_loader import *\n",
    "\n",
    "%load_ext autoreload\n",
    "%autoreload 2\n"
   ]
  },
  {
   "cell_type": "code",
   "execution_count": 3,
   "metadata": {},
   "outputs": [
    {
     "name": "stdout",
     "output_type": "stream",
     "text": [
      "Loading data for animal ids:  ['W051']\n"
     ]
    }
   ],
   "source": [
    "df = DatasetLoader(animal_ids=[\"W051\"], data_type=\"new_trained\").load_data()"
   ]
  },
  {
   "cell_type": "markdown",
   "metadata": {},
   "source": []
  },
  {
   "cell_type": "code",
   "execution_count": 4,
   "metadata": {},
   "outputs": [
    {
     "data": {
      "text/plain": [
       "True"
      ]
     },
     "execution_count": 4,
     "metadata": {},
     "output_type": "execute_result"
    }
   ],
   "source": [
    "from multiglm.features.exp_filter import ExpFilter\n",
    "\n",
    "\"\"\" \n",
    "Testing filter is the exact same for both the class directly and the function\n",
    "\"\"\"\n",
    "\n",
    "filt = ExpFilter(tau=4, column=\"violation\", verbose=False).apply_filter_to_dataframe(df)\n",
    "(filt[\"violation_exp\"] == exp_filter_column(df[\"violation\"], df.session, tau=4)).all()"
   ]
  },
  {
   "cell_type": "code",
   "execution_count": 65,
   "metadata": {},
   "outputs": [
    {
     "data": {
      "text/plain": [
       "True"
      ]
     },
     "execution_count": 65,
     "metadata": {},
     "output_type": "execute_result"
    }
   ],
   "source": [
    "(filt[\"violation_exp\"] == exp_filter_column(df[\"violation\"], df.session, tau=4)).all()"
   ]
  },
  {
   "cell_type": "code",
   "execution_count": 54,
   "metadata": {},
   "outputs": [
    {
     "data": {
      "text/plain": [
       "'s_a'"
      ]
     },
     "execution_count": 54,
     "metadata": {},
     "output_type": "execute_result"
    }
   ],
   "source": [
    "df.s_a.name"
   ]
  },
  {
   "cell_type": "code",
   "execution_count": 20,
   "metadata": {},
   "outputs": [
    {
     "data": {
      "text/plain": [
       "0        0\n",
       "1        0\n",
       "2        0\n",
       "3       -1\n",
       "4        1\n",
       "        ..\n",
       "98918    1\n",
       "98919    1\n",
       "98920    0\n",
       "98921    1\n",
       "98922   -1\n",
       "Name: choice, Length: 98923, dtype: int64"
      ]
     },
     "execution_count": 20,
     "metadata": {},
     "output_type": "execute_result"
    }
   ],
   "source": [
    "remap_values(df.choice, {0: -1, 2: 0}), "
   ]
  },
  {
   "cell_type": "code",
   "execution_count": 27,
   "metadata": {},
   "outputs": [
    {
     "data": {
      "text/plain": [
       "0        0.0\n",
       "1        0.0\n",
       "2        1.0\n",
       "3        1.0\n",
       "4        1.0\n",
       "        ... \n",
       "98918    0.0\n",
       "98919    0.0\n",
       "98920    0.0\n",
       "98921    0.0\n",
       "98922    1.0\n",
       "Length: 98923, dtype: float64"
      ]
     },
     "execution_count": 27,
     "metadata": {},
     "output_type": "execute_result"
    }
   ],
   "source": [
    "shift_n_trials_up(df.violation, df.session, shift_size=2)"
   ]
  },
  {
   "cell_type": "code",
   "execution_count": 74,
   "metadata": {},
   "outputs": [
    {
     "data": {
      "text/plain": [
       "array([1, 0])"
      ]
     },
     "execution_count": 74,
     "metadata": {},
     "output_type": "execute_result"
    }
   ],
   "source": [
    "df.violation.unique()"
   ]
  },
  {
   "cell_type": "code",
   "execution_count": 79,
   "metadata": {},
   "outputs": [
    {
     "data": {
      "text/plain": [
       "False"
      ]
     },
     "execution_count": 79,
     "metadata": {},
     "output_type": "execute_result"
    }
   ],
   "source": [
    "\"s_a\" in config.keys()"
   ]
  },
  {
   "cell_type": "code",
   "execution_count": 25,
   "metadata": {},
   "outputs": [
    {
     "name": "stdout",
     "output_type": "stream",
     "text": [
      "False 1\n",
      "False 1\n",
      "False 1\n",
      "False 1\n",
      "False 1\n",
      "False 1\n",
      "False 1\n",
      "True 1\n",
      "True 1\n",
      "True 1\n",
      "False 2\n",
      "False 2\n",
      "False 2\n",
      "False 3\n",
      "False 3\n",
      "False 3\n",
      "False 3\n",
      "False 3\n",
      "False 3\n",
      "False 3\n",
      "True 3\n"
     ]
    }
   ],
   "source": [
    "\"\"\"Testing a shift size > n trials in a session \"\"\"\n",
    "\n",
    "session_ids = [1] * 10 + [2] * 3 + [3] * 8\n",
    "\n",
    "# Create the Series\n",
    "sessions = pd.Series(session_ids)\n",
    "\n",
    "mask = get_session_start_mask(sessions, shift_size=7)\n",
    "\n",
    "for i in range(len(mask)):\n",
    "    print(mask[i], sessions[i])"
   ]
  },
  {
   "cell_type": "code",
   "execution_count": 69,
   "metadata": {},
   "outputs": [
    {
     "data": {
      "text/plain": [
       "0         True\n",
       "1        False\n",
       "2        False\n",
       "3        False\n",
       "4         True\n",
       "         ...  \n",
       "98918     True\n",
       "98919     True\n",
       "98920     True\n",
       "98921    False\n",
       "98922     True\n",
       "Length: 98923, dtype: bool"
      ]
     },
     "execution_count": 69,
     "metadata": {},
     "output_type": "execute_result"
    }
   ],
   "source": [
    "get_prev_event_mask(df.violation, df.session)"
   ]
  },
  {
   "cell_type": "code",
   "execution_count": 19,
   "metadata": {},
   "outputs": [
    {
     "name": "stdout",
     "output_type": "stream",
     "text": [
      "No labels found in config, only creating data matrix.\n"
     ]
    },
    {
     "data": {
      "text/html": [
       "<div>\n",
       "<style scoped>\n",
       "    .dataframe tbody tr th:only-of-type {\n",
       "        vertical-align: middle;\n",
       "    }\n",
       "\n",
       "    .dataframe tbody tr th {\n",
       "        vertical-align: top;\n",
       "    }\n",
       "\n",
       "    .dataframe thead th {\n",
       "        text-align: right;\n",
       "    }\n",
       "</style>\n",
       "<table border=\"1\" class=\"dataframe\">\n",
       "  <thead>\n",
       "    <tr style=\"text-align: right;\">\n",
       "      <th></th>\n",
       "      <th>choice</th>\n",
       "      <th>s_a_shifted</th>\n",
       "    </tr>\n",
       "  </thead>\n",
       "  <tbody>\n",
       "    <tr>\n",
       "      <th>0</th>\n",
       "      <td>2</td>\n",
       "      <td>0.0</td>\n",
       "    </tr>\n",
       "    <tr>\n",
       "      <th>1</th>\n",
       "      <td>2</td>\n",
       "      <td>0.0</td>\n",
       "    </tr>\n",
       "    <tr>\n",
       "      <th>2</th>\n",
       "      <td>2</td>\n",
       "      <td>0.0</td>\n",
       "    </tr>\n",
       "    <tr>\n",
       "      <th>3</th>\n",
       "      <td>0</td>\n",
       "      <td>0.0</td>\n",
       "    </tr>\n",
       "    <tr>\n",
       "      <th>4</th>\n",
       "      <td>1</td>\n",
       "      <td>68.0</td>\n",
       "    </tr>\n",
       "    <tr>\n",
       "      <th>...</th>\n",
       "      <td>...</td>\n",
       "      <td>...</td>\n",
       "    </tr>\n",
       "    <tr>\n",
       "      <th>98918</th>\n",
       "      <td>1</td>\n",
       "      <td>76.0</td>\n",
       "    </tr>\n",
       "    <tr>\n",
       "      <th>98919</th>\n",
       "      <td>1</td>\n",
       "      <td>91.0</td>\n",
       "    </tr>\n",
       "    <tr>\n",
       "      <th>98920</th>\n",
       "      <td>2</td>\n",
       "      <td>60.0</td>\n",
       "    </tr>\n",
       "    <tr>\n",
       "      <th>98921</th>\n",
       "      <td>1</td>\n",
       "      <td>0.0</td>\n",
       "    </tr>\n",
       "    <tr>\n",
       "      <th>98922</th>\n",
       "      <td>0</td>\n",
       "      <td>91.0</td>\n",
       "    </tr>\n",
       "  </tbody>\n",
       "</table>\n",
       "<p>98923 rows × 2 columns</p>\n",
       "</div>"
      ],
      "text/plain": [
       "       choice  s_a_shifted\n",
       "0           2          0.0\n",
       "1           2          0.0\n",
       "2           2          0.0\n",
       "3           0          0.0\n",
       "4           1         68.0\n",
       "...       ...          ...\n",
       "98918       1         76.0\n",
       "98919       1         91.0\n",
       "98920       2         60.0\n",
       "98921       1          0.0\n",
       "98922       0         91.0\n",
       "\n",
       "[98923 rows x 2 columns]"
      ]
     },
     "execution_count": 19,
     "metadata": {},
     "output_type": "execute_result"
    }
   ],
   "source": [
    "config = {\n",
    "    \"s_a_shifted\": lambda bb: (\n",
    "        mask_prev_event(\n",
    "            shift_n_trials_up(\n",
    "                bb[\"s_a\"],\n",
    "                bb.session,\n",
    "                shift_size=1,\n",
    "            ),\n",
    "            bb.violation,\n",
    "            bb.session,\n",
    "        )\n",
    "    )\n",
    "}\n",
    "\n",
    "dmg = DesignMatrixGeneratorPWM(df, config)\n",
    "dmg.create()"
   ]
  },
  {
   "cell_type": "markdown",
   "metadata": {},
   "source": [
    "Next steps:\n",
    "\n",
    "1. base label class\n",
    "2. PWM specific data fxs\n",
    "3. PWM specific label fxs"
   ]
  }
 ],
 "metadata": {
  "kernelspec": {
   "display_name": "an_lrn",
   "language": "python",
   "name": "python3"
  },
  "language_info": {
   "codemirror_mode": {
    "name": "ipython",
    "version": 3
   },
   "file_extension": ".py",
   "mimetype": "text/x-python",
   "name": "python",
   "nbconvert_exporter": "python",
   "pygments_lexer": "ipython3",
   "version": "3.10.0"
  }
 },
 "nbformat": 4,
 "nbformat_minor": 2
}
