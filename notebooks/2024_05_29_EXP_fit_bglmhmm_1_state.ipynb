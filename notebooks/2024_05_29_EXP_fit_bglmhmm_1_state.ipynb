{
 "cells": [
  {
   "cell_type": "markdown",
   "metadata": {},
   "source": [
    "# Fit binary GLM-HMM with 1 state\n",
    "\n",
    "Will fit all animals and make figures in figures/glmhmm/initial_fits"
   ]
  },
  {
   "cell_type": "code",
   "execution_count": 3,
   "metadata": {},
   "outputs": [
    {
     "name": "stdout",
     "output_type": "stream",
     "text": [
      "The autoreload extension is already loaded. To reload it, use:\n",
      "  %reload_ext autoreload\n"
     ]
    }
   ],
   "source": [
    "from multiglm.experiments.experiment_binary_glmhmm import *\n",
    "from multiglm.features.design_matrix_generator_PWM import *\n",
    "from multiglm.data import ANIMAL_IDS\n",
    "\n",
    "\n",
    "\n",
    "%load_ext autoreload\n",
    "%autoreload 2\n",
    "\n",
    "sns.set_context('talk')"
   ]
  },
  {
   "cell_type": "code",
   "execution_count": 5,
   "metadata": {},
   "outputs": [
    {
     "name": "stdout",
     "output_type": "stream",
     "text": [
      "Loading data for animal ids:  ['W051', 'W060', 'W065', 'W066', 'W068', 'W072', 'W073', 'W074', 'W075', 'W078', 'W080', 'W081', 'W082', 'W083', 'W088', 'W089', 'W094']\n",
      "Running GLM-HMM for animal W051\n",
      "DMG: Creating data matrix with columns: dict_keys(['s_a', 's_b', 'bias', 'session'])\n",
      "DMG: Creating labels with column: choice.\n",
      "DMG: Dropping 13570 nan rows from data and labels.\n",
      "DMG: Binary encoding labels.\n",
      "SSM Preprocessing: 273 sessions found.\n"
     ]
    },
    {
     "name": "stderr",
     "output_type": "stream",
     "text": [
      "Converged to LP: -41122.3:   0%|          | 1/200 [00:00<00:46,  4.32it/s]\n",
      "/Users/jessbreda/anaconda3/envs/an_lrn/lib/python3.10/site-packages/seaborn/_oldcore.py:1765: FutureWarning: unique with argument that is not not a Series, Index, ExtensionArray, or np.ndarray is deprecated and will raise in a future version.\n",
      "  order = pd.unique(vector)\n",
      "/Users/jessbreda/anaconda3/envs/an_lrn/lib/python3.10/site-packages/seaborn/categorical.py:645: FutureWarning: When grouping with a length-1 list-like, you will need to pass a length-1 tuple to get_group in a future version of pandas. Pass `(name,)` instead of `name` to silence this warning.\n",
      "  g_vals = grouped_vals.get_group(g)\n"
     ]
    },
    {
     "name": "stdout",
     "output_type": "stream",
     "text": [
      "Summary figure saved\n",
      "\n",
      "\n",
      "\n",
      "Running GLM-HMM for animal W060\n",
      "DMG: Creating data matrix with columns: dict_keys(['s_a', 's_b', 'bias', 'session'])\n",
      "DMG: Creating labels with column: choice.\n",
      "DMG: Dropping 11156 nan rows from data and labels.\n",
      "DMG: Binary encoding labels.\n",
      "SSM Preprocessing: 237 sessions found.\n"
     ]
    },
    {
     "name": "stderr",
     "output_type": "stream",
     "text": [
      "Converged to LP: -31681.4:   0%|          | 1/200 [00:00<00:38,  5.14it/s]\n",
      "/Users/jessbreda/anaconda3/envs/an_lrn/lib/python3.10/site-packages/seaborn/_oldcore.py:1765: FutureWarning: unique with argument that is not not a Series, Index, ExtensionArray, or np.ndarray is deprecated and will raise in a future version.\n",
      "  order = pd.unique(vector)\n",
      "/Users/jessbreda/anaconda3/envs/an_lrn/lib/python3.10/site-packages/seaborn/categorical.py:645: FutureWarning: When grouping with a length-1 list-like, you will need to pass a length-1 tuple to get_group in a future version of pandas. Pass `(name,)` instead of `name` to silence this warning.\n",
      "  g_vals = grouped_vals.get_group(g)\n"
     ]
    },
    {
     "name": "stdout",
     "output_type": "stream",
     "text": [
      "Summary figure saved\n",
      "\n",
      "\n",
      "\n",
      "Running GLM-HMM for animal W065\n",
      "DMG: Creating data matrix with columns: dict_keys(['s_a', 's_b', 'bias', 'session'])\n",
      "DMG: Creating labels with column: choice.\n",
      "DMG: Dropping 20462 nan rows from data and labels.\n",
      "DMG: Binary encoding labels.\n",
      "SSM Preprocessing: 295 sessions found.\n"
     ]
    },
    {
     "name": "stderr",
     "output_type": "stream",
     "text": [
      "Converged to LP: -27889.8:   0%|          | 1/200 [00:00<00:41,  4.77it/s]\n",
      "/Users/jessbreda/anaconda3/envs/an_lrn/lib/python3.10/site-packages/seaborn/_oldcore.py:1765: FutureWarning: unique with argument that is not not a Series, Index, ExtensionArray, or np.ndarray is deprecated and will raise in a future version.\n",
      "  order = pd.unique(vector)\n",
      "/Users/jessbreda/anaconda3/envs/an_lrn/lib/python3.10/site-packages/seaborn/categorical.py:645: FutureWarning: When grouping with a length-1 list-like, you will need to pass a length-1 tuple to get_group in a future version of pandas. Pass `(name,)` instead of `name` to silence this warning.\n",
      "  g_vals = grouped_vals.get_group(g)\n"
     ]
    },
    {
     "name": "stdout",
     "output_type": "stream",
     "text": [
      "Summary figure saved\n",
      "\n",
      "\n",
      "\n",
      "Running GLM-HMM for animal W066\n",
      "DMG: Creating data matrix with columns: dict_keys(['s_a', 's_b', 'bias', 'session'])\n",
      "DMG: Creating labels with column: choice.\n",
      "DMG: Dropping 29994 nan rows from data and labels.\n",
      "DMG: Binary encoding labels.\n",
      "SSM Preprocessing: 364 sessions found.\n"
     ]
    },
    {
     "name": "stderr",
     "output_type": "stream",
     "text": [
      "Converged to LP: -42519.2:   0%|          | 1/200 [00:00<00:55,  3.60it/s]\n",
      "/Users/jessbreda/anaconda3/envs/an_lrn/lib/python3.10/site-packages/seaborn/_oldcore.py:1765: FutureWarning: unique with argument that is not not a Series, Index, ExtensionArray, or np.ndarray is deprecated and will raise in a future version.\n",
      "  order = pd.unique(vector)\n",
      "/Users/jessbreda/anaconda3/envs/an_lrn/lib/python3.10/site-packages/seaborn/categorical.py:645: FutureWarning: When grouping with a length-1 list-like, you will need to pass a length-1 tuple to get_group in a future version of pandas. Pass `(name,)` instead of `name` to silence this warning.\n",
      "  g_vals = grouped_vals.get_group(g)\n"
     ]
    },
    {
     "name": "stdout",
     "output_type": "stream",
     "text": [
      "Summary figure saved\n",
      "\n",
      "\n",
      "\n",
      "Running GLM-HMM for animal W068\n",
      "DMG: Creating data matrix with columns: dict_keys(['s_a', 's_b', 'bias', 'session'])\n",
      "DMG: Creating labels with column: choice.\n",
      "DMG: Dropping 17869 nan rows from data and labels.\n",
      "DMG: Binary encoding labels.\n",
      "SSM Preprocessing: 264 sessions found.\n"
     ]
    },
    {
     "name": "stderr",
     "output_type": "stream",
     "text": [
      "Converged to LP: -46639.5:   0%|          | 1/200 [00:00<00:48,  4.12it/s]\n",
      "/Users/jessbreda/anaconda3/envs/an_lrn/lib/python3.10/site-packages/seaborn/_oldcore.py:1765: FutureWarning: unique with argument that is not not a Series, Index, ExtensionArray, or np.ndarray is deprecated and will raise in a future version.\n",
      "  order = pd.unique(vector)\n",
      "/Users/jessbreda/anaconda3/envs/an_lrn/lib/python3.10/site-packages/seaborn/categorical.py:645: FutureWarning: When grouping with a length-1 list-like, you will need to pass a length-1 tuple to get_group in a future version of pandas. Pass `(name,)` instead of `name` to silence this warning.\n",
      "  g_vals = grouped_vals.get_group(g)\n"
     ]
    },
    {
     "name": "stdout",
     "output_type": "stream",
     "text": [
      "Summary figure saved\n",
      "\n",
      "\n",
      "\n",
      "Running GLM-HMM for animal W072\n",
      "DMG: Creating data matrix with columns: dict_keys(['s_a', 's_b', 'bias', 'session'])\n",
      "DMG: Creating labels with column: choice.\n",
      "DMG: Dropping 14463 nan rows from data and labels.\n",
      "DMG: Binary encoding labels.\n",
      "SSM Preprocessing: 415 sessions found.\n"
     ]
    },
    {
     "name": "stderr",
     "output_type": "stream",
     "text": [
      "Converged to LP: -36789.0:   0%|          | 1/200 [00:00<00:57,  3.44it/s]\n",
      "/Users/jessbreda/anaconda3/envs/an_lrn/lib/python3.10/site-packages/seaborn/_oldcore.py:1765: FutureWarning: unique with argument that is not not a Series, Index, ExtensionArray, or np.ndarray is deprecated and will raise in a future version.\n",
      "  order = pd.unique(vector)\n",
      "/Users/jessbreda/anaconda3/envs/an_lrn/lib/python3.10/site-packages/seaborn/categorical.py:645: FutureWarning: When grouping with a length-1 list-like, you will need to pass a length-1 tuple to get_group in a future version of pandas. Pass `(name,)` instead of `name` to silence this warning.\n",
      "  g_vals = grouped_vals.get_group(g)\n"
     ]
    },
    {
     "name": "stdout",
     "output_type": "stream",
     "text": [
      "Summary figure saved\n",
      "\n",
      "\n",
      "\n",
      "Running GLM-HMM for animal W073\n",
      "DMG: Creating data matrix with columns: dict_keys(['s_a', 's_b', 'bias', 'session'])\n",
      "DMG: Creating labels with column: choice.\n",
      "DMG: Dropping 16513 nan rows from data and labels.\n",
      "DMG: Binary encoding labels.\n",
      "SSM Preprocessing: 400 sessions found.\n"
     ]
    },
    {
     "name": "stderr",
     "output_type": "stream",
     "text": [
      "Converged to LP: -43042.6:   0%|          | 1/200 [00:00<01:04,  3.07it/s]\n",
      "/Users/jessbreda/anaconda3/envs/an_lrn/lib/python3.10/site-packages/seaborn/_oldcore.py:1765: FutureWarning: unique with argument that is not not a Series, Index, ExtensionArray, or np.ndarray is deprecated and will raise in a future version.\n",
      "  order = pd.unique(vector)\n",
      "/Users/jessbreda/anaconda3/envs/an_lrn/lib/python3.10/site-packages/seaborn/categorical.py:645: FutureWarning: When grouping with a length-1 list-like, you will need to pass a length-1 tuple to get_group in a future version of pandas. Pass `(name,)` instead of `name` to silence this warning.\n",
      "  g_vals = grouped_vals.get_group(g)\n"
     ]
    },
    {
     "name": "stdout",
     "output_type": "stream",
     "text": [
      "Summary figure saved\n",
      "\n",
      "\n",
      "\n",
      "Running GLM-HMM for animal W074\n",
      "DMG: Creating data matrix with columns: dict_keys(['s_a', 's_b', 'bias', 'session'])\n",
      "DMG: Creating labels with column: choice.\n",
      "DMG: Dropping 22505 nan rows from data and labels.\n",
      "DMG: Binary encoding labels.\n",
      "SSM Preprocessing: 515 sessions found.\n"
     ]
    },
    {
     "name": "stderr",
     "output_type": "stream",
     "text": [
      "Converged to LP: -71592.6:   0%|          | 1/200 [00:00<01:45,  1.88it/s]\n",
      "/Users/jessbreda/anaconda3/envs/an_lrn/lib/python3.10/site-packages/seaborn/_oldcore.py:1765: FutureWarning: unique with argument that is not not a Series, Index, ExtensionArray, or np.ndarray is deprecated and will raise in a future version.\n",
      "  order = pd.unique(vector)\n",
      "/Users/jessbreda/anaconda3/envs/an_lrn/lib/python3.10/site-packages/seaborn/categorical.py:645: FutureWarning: When grouping with a length-1 list-like, you will need to pass a length-1 tuple to get_group in a future version of pandas. Pass `(name,)` instead of `name` to silence this warning.\n",
      "  g_vals = grouped_vals.get_group(g)\n"
     ]
    },
    {
     "name": "stdout",
     "output_type": "stream",
     "text": [
      "Summary figure saved\n",
      "\n",
      "\n",
      "\n",
      "Running GLM-HMM for animal W075\n",
      "DMG: Creating data matrix with columns: dict_keys(['s_a', 's_b', 'bias', 'session'])\n",
      "DMG: Creating labels with column: choice.\n",
      "DMG: Dropping 39771 nan rows from data and labels.\n",
      "DMG: Binary encoding labels.\n",
      "SSM Preprocessing: 552 sessions found.\n"
     ]
    },
    {
     "name": "stderr",
     "output_type": "stream",
     "text": [
      "Converged to LP: -61303.9:   0%|          | 1/200 [00:00<01:38,  2.03it/s]\n",
      "/Users/jessbreda/anaconda3/envs/an_lrn/lib/python3.10/site-packages/seaborn/_oldcore.py:1765: FutureWarning: unique with argument that is not not a Series, Index, ExtensionArray, or np.ndarray is deprecated and will raise in a future version.\n",
      "  order = pd.unique(vector)\n",
      "/Users/jessbreda/anaconda3/envs/an_lrn/lib/python3.10/site-packages/seaborn/categorical.py:645: FutureWarning: When grouping with a length-1 list-like, you will need to pass a length-1 tuple to get_group in a future version of pandas. Pass `(name,)` instead of `name` to silence this warning.\n",
      "  g_vals = grouped_vals.get_group(g)\n"
     ]
    },
    {
     "name": "stdout",
     "output_type": "stream",
     "text": [
      "Summary figure saved\n",
      "\n",
      "\n",
      "\n",
      "Running GLM-HMM for animal W078\n",
      "DMG: Creating data matrix with columns: dict_keys(['s_a', 's_b', 'bias', 'session'])\n",
      "DMG: Creating labels with column: choice.\n",
      "DMG: Dropping 8254 nan rows from data and labels.\n",
      "DMG: Binary encoding labels.\n",
      "SSM Preprocessing: 259 sessions found.\n"
     ]
    },
    {
     "name": "stderr",
     "output_type": "stream",
     "text": [
      "Converged to LP: -28677.7:   0%|          | 1/200 [00:00<00:41,  4.82it/s]\n",
      "/Users/jessbreda/anaconda3/envs/an_lrn/lib/python3.10/site-packages/seaborn/_oldcore.py:1765: FutureWarning: unique with argument that is not not a Series, Index, ExtensionArray, or np.ndarray is deprecated and will raise in a future version.\n",
      "  order = pd.unique(vector)\n",
      "/Users/jessbreda/anaconda3/envs/an_lrn/lib/python3.10/site-packages/seaborn/categorical.py:645: FutureWarning: When grouping with a length-1 list-like, you will need to pass a length-1 tuple to get_group in a future version of pandas. Pass `(name,)` instead of `name` to silence this warning.\n",
      "  g_vals = grouped_vals.get_group(g)\n"
     ]
    },
    {
     "name": "stdout",
     "output_type": "stream",
     "text": [
      "Summary figure saved\n",
      "\n",
      "\n",
      "\n",
      "Running GLM-HMM for animal W080\n",
      "DMG: Creating data matrix with columns: dict_keys(['s_a', 's_b', 'bias', 'session'])\n",
      "DMG: Creating labels with column: choice.\n",
      "DMG: Dropping 6045 nan rows from data and labels.\n",
      "DMG: Binary encoding labels.\n",
      "SSM Preprocessing: 151 sessions found.\n"
     ]
    },
    {
     "name": "stderr",
     "output_type": "stream",
     "text": [
      "Converged to LP: -19994.3:   0%|          | 1/200 [00:00<00:27,  7.37it/s]\n",
      "/Users/jessbreda/anaconda3/envs/an_lrn/lib/python3.10/site-packages/seaborn/_oldcore.py:1765: FutureWarning: unique with argument that is not not a Series, Index, ExtensionArray, or np.ndarray is deprecated and will raise in a future version.\n",
      "  order = pd.unique(vector)\n",
      "/Users/jessbreda/anaconda3/envs/an_lrn/lib/python3.10/site-packages/seaborn/categorical.py:645: FutureWarning: When grouping with a length-1 list-like, you will need to pass a length-1 tuple to get_group in a future version of pandas. Pass `(name,)` instead of `name` to silence this warning.\n",
      "  g_vals = grouped_vals.get_group(g)\n"
     ]
    },
    {
     "name": "stdout",
     "output_type": "stream",
     "text": [
      "Summary figure saved\n",
      "\n",
      "\n",
      "\n",
      "Running GLM-HMM for animal W081\n",
      "DMG: Creating data matrix with columns: dict_keys(['s_a', 's_b', 'bias', 'session'])\n",
      "DMG: Creating labels with column: choice.\n",
      "DMG: Dropping 8274 nan rows from data and labels.\n",
      "DMG: Binary encoding labels.\n",
      "SSM Preprocessing: 114 sessions found.\n"
     ]
    },
    {
     "name": "stderr",
     "output_type": "stream",
     "text": [
      "Converged to LP: -17018.8:   0%|          | 1/200 [00:00<00:18, 10.51it/s]\n",
      "/Users/jessbreda/anaconda3/envs/an_lrn/lib/python3.10/site-packages/seaborn/_oldcore.py:1765: FutureWarning: unique with argument that is not not a Series, Index, ExtensionArray, or np.ndarray is deprecated and will raise in a future version.\n",
      "  order = pd.unique(vector)\n",
      "/Users/jessbreda/anaconda3/envs/an_lrn/lib/python3.10/site-packages/seaborn/categorical.py:645: FutureWarning: When grouping with a length-1 list-like, you will need to pass a length-1 tuple to get_group in a future version of pandas. Pass `(name,)` instead of `name` to silence this warning.\n",
      "  g_vals = grouped_vals.get_group(g)\n"
     ]
    },
    {
     "name": "stdout",
     "output_type": "stream",
     "text": [
      "Summary figure saved\n",
      "\n",
      "\n",
      "\n",
      "Running GLM-HMM for animal W082\n",
      "DMG: Creating data matrix with columns: dict_keys(['s_a', 's_b', 'bias', 'session'])\n",
      "DMG: Creating labels with column: choice.\n",
      "DMG: Dropping 138175 nan rows from data and labels.\n",
      "DMG: Binary encoding labels.\n",
      "SSM Preprocessing: 527 sessions found.\n"
     ]
    },
    {
     "name": "stderr",
     "output_type": "stream",
     "text": [
      "Converged to LP: -65824.7:   0%|          | 1/200 [00:00<01:26,  2.29it/s]\n",
      "/Users/jessbreda/anaconda3/envs/an_lrn/lib/python3.10/site-packages/seaborn/_oldcore.py:1765: FutureWarning: unique with argument that is not not a Series, Index, ExtensionArray, or np.ndarray is deprecated and will raise in a future version.\n",
      "  order = pd.unique(vector)\n",
      "/Users/jessbreda/anaconda3/envs/an_lrn/lib/python3.10/site-packages/seaborn/categorical.py:645: FutureWarning: When grouping with a length-1 list-like, you will need to pass a length-1 tuple to get_group in a future version of pandas. Pass `(name,)` instead of `name` to silence this warning.\n",
      "  g_vals = grouped_vals.get_group(g)\n"
     ]
    },
    {
     "name": "stdout",
     "output_type": "stream",
     "text": [
      "Summary figure saved\n",
      "\n",
      "\n",
      "\n",
      "Running GLM-HMM for animal W083\n",
      "DMG: Creating data matrix with columns: dict_keys(['s_a', 's_b', 'bias', 'session'])\n",
      "DMG: Creating labels with column: choice.\n",
      "DMG: Dropping 64070 nan rows from data and labels.\n",
      "DMG: Binary encoding labels.\n",
      "SSM Preprocessing: 446 sessions found.\n"
     ]
    },
    {
     "name": "stderr",
     "output_type": "stream",
     "text": [
      "Converged to LP: -59065.6:   0%|          | 1/200 [00:00<01:11,  2.78it/s]\n",
      "/Users/jessbreda/anaconda3/envs/an_lrn/lib/python3.10/site-packages/seaborn/_oldcore.py:1765: FutureWarning: unique with argument that is not not a Series, Index, ExtensionArray, or np.ndarray is deprecated and will raise in a future version.\n",
      "  order = pd.unique(vector)\n",
      "/Users/jessbreda/anaconda3/envs/an_lrn/lib/python3.10/site-packages/seaborn/categorical.py:645: FutureWarning: When grouping with a length-1 list-like, you will need to pass a length-1 tuple to get_group in a future version of pandas. Pass `(name,)` instead of `name` to silence this warning.\n",
      "  g_vals = grouped_vals.get_group(g)\n"
     ]
    },
    {
     "name": "stdout",
     "output_type": "stream",
     "text": [
      "Summary figure saved\n",
      "\n",
      "\n",
      "\n",
      "Running GLM-HMM for animal W088\n",
      "DMG: Creating data matrix with columns: dict_keys(['s_a', 's_b', 'bias', 'session'])\n",
      "DMG: Creating labels with column: choice.\n",
      "DMG: Dropping 21114 nan rows from data and labels.\n",
      "DMG: Binary encoding labels.\n",
      "SSM Preprocessing: 347 sessions found.\n"
     ]
    },
    {
     "name": "stderr",
     "output_type": "stream",
     "text": [
      "Converged to LP: -43489.3:   0%|          | 1/200 [00:00<00:55,  3.56it/s]\n",
      "/Users/jessbreda/anaconda3/envs/an_lrn/lib/python3.10/site-packages/seaborn/_oldcore.py:1765: FutureWarning: unique with argument that is not not a Series, Index, ExtensionArray, or np.ndarray is deprecated and will raise in a future version.\n",
      "  order = pd.unique(vector)\n",
      "/Users/jessbreda/anaconda3/envs/an_lrn/lib/python3.10/site-packages/seaborn/categorical.py:645: FutureWarning: When grouping with a length-1 list-like, you will need to pass a length-1 tuple to get_group in a future version of pandas. Pass `(name,)` instead of `name` to silence this warning.\n",
      "  g_vals = grouped_vals.get_group(g)\n"
     ]
    },
    {
     "name": "stdout",
     "output_type": "stream",
     "text": [
      "Summary figure saved\n",
      "\n",
      "\n",
      "\n",
      "Running GLM-HMM for animal W089\n",
      "DMG: Creating data matrix with columns: dict_keys(['s_a', 's_b', 'bias', 'session'])\n",
      "DMG: Creating labels with column: choice.\n",
      "DMG: Dropping 17385 nan rows from data and labels.\n",
      "DMG: Binary encoding labels.\n",
      "SSM Preprocessing: 439 sessions found.\n"
     ]
    },
    {
     "name": "stderr",
     "output_type": "stream",
     "text": [
      "Converged to LP: -65247.3:   0%|          | 1/200 [00:00<01:13,  2.72it/s]\n",
      "/Users/jessbreda/anaconda3/envs/an_lrn/lib/python3.10/site-packages/seaborn/_oldcore.py:1765: FutureWarning: unique with argument that is not not a Series, Index, ExtensionArray, or np.ndarray is deprecated and will raise in a future version.\n",
      "  order = pd.unique(vector)\n",
      "/Users/jessbreda/anaconda3/envs/an_lrn/lib/python3.10/site-packages/seaborn/categorical.py:645: FutureWarning: When grouping with a length-1 list-like, you will need to pass a length-1 tuple to get_group in a future version of pandas. Pass `(name,)` instead of `name` to silence this warning.\n",
      "  g_vals = grouped_vals.get_group(g)\n"
     ]
    },
    {
     "name": "stdout",
     "output_type": "stream",
     "text": [
      "Summary figure saved\n",
      "\n",
      "\n",
      "\n",
      "Running GLM-HMM for animal W094\n",
      "DMG: Creating data matrix with columns: dict_keys(['s_a', 's_b', 'bias', 'session'])\n",
      "DMG: Creating labels with column: choice.\n",
      "DMG: Dropping 12998 nan rows from data and labels.\n",
      "DMG: Binary encoding labels.\n",
      "SSM Preprocessing: 156 sessions found.\n"
     ]
    },
    {
     "name": "stderr",
     "output_type": "stream",
     "text": [
      "Converged to LP: -24604.2:   0%|          | 1/200 [00:00<00:30,  6.52it/s]\n",
      "/Users/jessbreda/anaconda3/envs/an_lrn/lib/python3.10/site-packages/seaborn/_oldcore.py:1765: FutureWarning: unique with argument that is not not a Series, Index, ExtensionArray, or np.ndarray is deprecated and will raise in a future version.\n",
      "  order = pd.unique(vector)\n",
      "/Users/jessbreda/anaconda3/envs/an_lrn/lib/python3.10/site-packages/seaborn/categorical.py:645: FutureWarning: When grouping with a length-1 list-like, you will need to pass a length-1 tuple to get_group in a future version of pandas. Pass `(name,)` instead of `name` to silence this warning.\n",
      "  g_vals = grouped_vals.get_group(g)\n"
     ]
    },
    {
     "name": "stdout",
     "output_type": "stream",
     "text": [
      "Summary figure saved\n",
      "\n",
      "\n",
      "\n"
     ]
    }
   ],
   "source": [
    "dmg_config = {\n",
    "    \"s_a\": lambda df: (standardize(df.s_a)),\n",
    "    \"s_b\": lambda df: (standardize(df.s_b)),\n",
    "    \"bias\": lambda df: (add_bias_column(df)),\n",
    "    \"session\": lambda df: (copy(df.session)),\n",
    "    \"labels\": binary_choice_labels(),\n",
    "}\n",
    "\n",
    "model_config = {\n",
    "    \"n_states\": 1,\n",
    "    \"n_features\": 3,  # will need to infer from DMG at some point\n",
    "    \"n_categories\": 2,\n",
    "    \"transitions\": \"standard\",\n",
    "}\n",
    "\n",
    "params = {\n",
    "    \"animal_ids\": ANIMAL_IDS,\n",
    "    \"seed\": 0,\n",
    "    \"dmg_config\": dmg_config,\n",
    "    \"model_config\": model_config,\n",
    "    \"save_path\": \"/Users/jessbreda/Desktop/github/animal-learning/figures/glmhmm/initial_fits\",\n",
    "}\n",
    "test = RunBinaryGLMHMM(params)\n",
    "test.run()"
   ]
  }
 ],
 "metadata": {
  "kernelspec": {
   "display_name": "an_lrn",
   "language": "python",
   "name": "python3"
  },
  "language_info": {
   "codemirror_mode": {
    "name": "ipython",
    "version": 3
   },
   "file_extension": ".py",
   "mimetype": "text/x-python",
   "name": "python",
   "nbconvert_exporter": "python",
   "pygments_lexer": "ipython3",
   "version": "3.10.0"
  }
 },
 "nbformat": 4,
 "nbformat_minor": 2
}
