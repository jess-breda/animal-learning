{
 "cells": [
  {
   "cell_type": "code",
   "execution_count": 3,
   "metadata": {},
   "outputs": [],
   "source": [
    "import dynamax\n",
    "from functools import partial\n",
    "\n",
    "import jax.numpy as jnp\n",
    "import jax.random as jr\n",
    "import matplotlib.pyplot as plt\n",
    "from jax import vmap\n",
    "from jax.nn import one_hot\n",
    "import optax\n",
    "from sklearn.preprocessing import StandardScaler\n",
    "\n",
    "\n",
    "from dynamax.hidden_markov_model import LogisticRegressionHMM, CategoricalRegressionHMM"
   ]
  },
  {
   "cell_type": "markdown",
   "metadata": {},
   "source": [
    "## Generate Data for Logistic Regression HMM"
   ]
  },
  {
   "cell_type": "code",
   "execution_count": 5,
   "metadata": {},
   "outputs": [],
   "source": [
    "import jax.numpy as jnp\n",
    "import jax.random as jr\n",
    "from sklearn.preprocessing import StandardScaler\n",
    "\n",
    "\n",
    "def generate_synthetic_data_bernoulli(num_samples=1000, num_states=2, seed=0):\n",
    "    key = jr.PRNGKey(seed)\n",
    "\n",
    "    # Randomly generate stimulus values\n",
    "    stimulus = jr.normal(key, shape=(num_samples, 1))\n",
    "\n",
    "    # Z-score the stimulus values to have a mean of 0 and std of 1\n",
    "    scaler = StandardScaler()\n",
    "    stimulus_scaled = scaler.fit_transform(stimulus)\n",
    "\n",
    "    # Add a bias column (all ones)\n",
    "    bias = jnp.ones((num_samples, 1))\n",
    "    inputs = jnp.hstack([bias, stimulus_scaled])\n",
    "\n",
    "    # Generate random states as a simple example\n",
    "    states = jr.randint(key, (num_samples,), minval=0, maxval=num_states)\n",
    "\n",
    "    # Define emission probabilities based on states (simplified example)\n",
    "    emission_probs = jnp.where(states == 0, 0.3, 0.7)\n",
    "    emissions = jr.bernoulli(key, p=emission_probs)\n",
    "\n",
    "    return inputs, emissions, states\n",
    "\n",
    "\n",
    "inputs, emissions, true_states = generate_synthetic_data_bernoulli()"
   ]
  },
  {
   "cell_type": "code",
   "execution_count": 11,
   "metadata": {},
   "outputs": [
    {
     "name": "stdout",
     "output_type": "stream",
     "text": [
      "\u001b[0;31mInit signature:\u001b[0m\n",
      "\u001b[0mLogisticRegressionHMM\u001b[0m\u001b[0;34m(\u001b[0m\u001b[0;34m\u001b[0m\n",
      "\u001b[0;34m\u001b[0m    \u001b[0mnum_states\u001b[0m\u001b[0;34m:\u001b[0m \u001b[0mint\u001b[0m\u001b[0;34m,\u001b[0m\u001b[0;34m\u001b[0m\n",
      "\u001b[0;34m\u001b[0m    \u001b[0minput_dim\u001b[0m\u001b[0;34m:\u001b[0m \u001b[0mint\u001b[0m\u001b[0;34m,\u001b[0m\u001b[0;34m\u001b[0m\n",
      "\u001b[0;34m\u001b[0m    \u001b[0minitial_probs_concentration\u001b[0m\u001b[0;34m:\u001b[0m \u001b[0mUnion\u001b[0m\u001b[0;34m[\u001b[0m\u001b[0mfloat\u001b[0m\u001b[0;34m,\u001b[0m \u001b[0mjaxFloat\u001b[0m\u001b[0;34m[\u001b[0m\u001b[0mArray\u001b[0m\u001b[0;34m,\u001b[0m \u001b[0;34m''\u001b[0m\u001b[0;34m]\u001b[0m\u001b[0;34m,\u001b[0m \u001b[0mjaxFloat\u001b[0m\u001b[0;34m[\u001b[0m\u001b[0mArray\u001b[0m\u001b[0;34m,\u001b[0m \u001b[0;34m'num_states'\u001b[0m\u001b[0;34m]\u001b[0m\u001b[0;34m]\u001b[0m \u001b[0;34m=\u001b[0m \u001b[0;36m1.1\u001b[0m\u001b[0;34m,\u001b[0m\u001b[0;34m\u001b[0m\n",
      "\u001b[0;34m\u001b[0m    \u001b[0mtransition_matrix_concentration\u001b[0m\u001b[0;34m:\u001b[0m \u001b[0mUnion\u001b[0m\u001b[0;34m[\u001b[0m\u001b[0mfloat\u001b[0m\u001b[0;34m,\u001b[0m \u001b[0mjaxFloat\u001b[0m\u001b[0;34m[\u001b[0m\u001b[0mArray\u001b[0m\u001b[0;34m,\u001b[0m \u001b[0;34m''\u001b[0m\u001b[0;34m]\u001b[0m\u001b[0;34m,\u001b[0m \u001b[0mjaxFloat\u001b[0m\u001b[0;34m[\u001b[0m\u001b[0mArray\u001b[0m\u001b[0;34m,\u001b[0m \u001b[0;34m'num_states'\u001b[0m\u001b[0;34m]\u001b[0m\u001b[0;34m]\u001b[0m \u001b[0;34m=\u001b[0m \u001b[0;36m1.1\u001b[0m\u001b[0;34m,\u001b[0m\u001b[0;34m\u001b[0m\n",
      "\u001b[0;34m\u001b[0m    \u001b[0mtransition_matrix_stickiness\u001b[0m\u001b[0;34m:\u001b[0m \u001b[0mUnion\u001b[0m\u001b[0;34m[\u001b[0m\u001b[0mfloat\u001b[0m\u001b[0;34m,\u001b[0m \u001b[0mjaxFloat\u001b[0m\u001b[0;34m[\u001b[0m\u001b[0mArray\u001b[0m\u001b[0;34m,\u001b[0m \u001b[0;34m''\u001b[0m\u001b[0;34m]\u001b[0m\u001b[0;34m]\u001b[0m \u001b[0;34m=\u001b[0m \u001b[0;36m0.0\u001b[0m\u001b[0;34m,\u001b[0m\u001b[0;34m\u001b[0m\n",
      "\u001b[0;34m\u001b[0m    \u001b[0memission_matrices_scale\u001b[0m\u001b[0;34m:\u001b[0m \u001b[0mUnion\u001b[0m\u001b[0;34m[\u001b[0m\u001b[0mfloat\u001b[0m\u001b[0;34m,\u001b[0m \u001b[0mjaxFloat\u001b[0m\u001b[0;34m[\u001b[0m\u001b[0mArray\u001b[0m\u001b[0;34m,\u001b[0m \u001b[0;34m''\u001b[0m\u001b[0;34m]\u001b[0m\u001b[0;34m]\u001b[0m \u001b[0;34m=\u001b[0m \u001b[0;36m100000000.0\u001b[0m\u001b[0;34m,\u001b[0m\u001b[0;34m\u001b[0m\n",
      "\u001b[0;34m\u001b[0m    \u001b[0mm_step_optimizer\u001b[0m\u001b[0;34m:\u001b[0m \u001b[0moptax\u001b[0m\u001b[0;34m.\u001b[0m\u001b[0m_src\u001b[0m\u001b[0;34m.\u001b[0m\u001b[0mbase\u001b[0m\u001b[0;34m.\u001b[0m\u001b[0mGradientTransformation\u001b[0m \u001b[0;34m=\u001b[0m \u001b[0mGradientTransformationExtraArgs\u001b[0m\u001b[0;34m(\u001b[0m\u001b[0minit\u001b[0m\u001b[0;34m=\u001b[0m\u001b[0;34m<\u001b[0m\u001b[0mfunction\u001b[0m \u001b[0mchain\u001b[0m\u001b[0;34m.\u001b[0m\u001b[0;34m<\u001b[0m\u001b[0mlocals\u001b[0m\u001b[0;34m>\u001b[0m\u001b[0;34m.\u001b[0m\u001b[0minit_fn\u001b[0m \u001b[0mat\u001b[0m \u001b[0;36m0x2c15af130\u001b[0m\u001b[0;34m>\u001b[0m\u001b[0;34m,\u001b[0m \u001b[0mupdate\u001b[0m\u001b[0;34m=\u001b[0m\u001b[0;34m<\u001b[0m\u001b[0mfunction\u001b[0m \u001b[0mchain\u001b[0m\u001b[0;34m.\u001b[0m\u001b[0;34m<\u001b[0m\u001b[0mlocals\u001b[0m\u001b[0;34m>\u001b[0m\u001b[0;34m.\u001b[0m\u001b[0mupdate_fn\u001b[0m \u001b[0mat\u001b[0m \u001b[0;36m0x2c15af2e0\u001b[0m\u001b[0;34m>\u001b[0m\u001b[0;34m)\u001b[0m\u001b[0;34m,\u001b[0m\u001b[0;34m\u001b[0m\n",
      "\u001b[0;34m\u001b[0m    \u001b[0mm_step_num_iters\u001b[0m\u001b[0;34m:\u001b[0m \u001b[0mint\u001b[0m \u001b[0;34m=\u001b[0m \u001b[0;36m50\u001b[0m\u001b[0;34m,\u001b[0m\u001b[0;34m\u001b[0m\n",
      "\u001b[0;34m\u001b[0m\u001b[0;34m)\u001b[0m\u001b[0;34m\u001b[0m\u001b[0;34m\u001b[0m\u001b[0m\n",
      "\u001b[0;31mDocstring:\u001b[0m     \n",
      "An HMM whose emissions come from a logistic regression with state-dependent weights.\n",
      "This is also known as a *switching logistic regression* model.\n",
      "\n",
      "Let $y_t \\in \\{0,1\\}$ and $u_t \\in \\mathbb{R}^M$ denote binary emissions\n",
      "and inputs at time $t$, respectively. In this model, the emission distribution is,\n",
      "\n",
      "$$p(y_t \\mid z_t, u_t, \\theta) = \\mathrm{Bern}(y_{t} \\mid \\sigma(w_{z_t}^\\top u_t + b_{z_t}))$$\n",
      "\n",
      "with *emission weights* $w_k \\in \\mathbb{R}^{M}$ and *emission biases* $b_k \\in \\mathbb{R}$.\n",
      "\n",
      "We use $L_2$ regularization on the emission weights, which can be thought of as a\n",
      "Gaussian prior,\n",
      "\n",
      "$$p(\\theta) \\propto \\prod_{k=1}^K \\prod_{m=1}^M \\mathcal{N}(w_{k,m} \\mid 0, \\varsigma^2)$$\n",
      "\n",
      ":param num_states: number of discrete states $K$\n",
      ":param input_dim: input dimension $M$\n",
      ":param initial_probs_concentration: $\\alpha$\n",
      ":param transition_matrix_concentration: $\\beta$\n",
      ":param transition_matrix_stickiness: optional hyperparameter to boost the concentration on the diagonal of the transition matrix.\n",
      ":param emission_matrices_scale: $\\varsigma$\n",
      ":param m_step_optimizer: ``optax`` optimizer, like Adam.\n",
      ":param m_step_num_iters: number of optimizer steps per M-step.\n",
      "\u001b[0;31mFile:\u001b[0m           ~/anaconda3/envs/an_lrn/lib/python3.10/site-packages/dynamax/hidden_markov_model/models/logreg_hmm.py\n",
      "\u001b[0;31mType:\u001b[0m           ABCMeta\n",
      "\u001b[0;31mSubclasses:\u001b[0m     "
     ]
    }
   ],
   "source": [
    "LogisticRegressionHMM?"
   ]
  },
  {
   "cell_type": "code",
   "execution_count": 12,
   "metadata": {},
   "outputs": [
    {
     "data": {
      "text/html": [
       "\n",
       "<style>\n",
       "    /* Turns off some styling */\n",
       "    progress {\n",
       "        /* gets rid of default border in Firefox and Opera. */\n",
       "        border: none;\n",
       "        /* Needs to be in here for Safari polyfill so background images work as expected. */\n",
       "        background-size: auto;\n",
       "    }\n",
       "    progress:not([value]), progress:not([value])::-webkit-progress-bar {\n",
       "        background: repeating-linear-gradient(45deg, #7e7e7e, #7e7e7e 10px, #5c5c5c 10px, #5c5c5c 20px);\n",
       "    }\n",
       "    .progress-bar-interrupted, .progress-bar-interrupted::-webkit-progress-bar {\n",
       "        background: #F44336;\n",
       "    }\n",
       "</style>\n"
      ],
      "text/plain": [
       "<IPython.core.display.HTML object>"
      ]
     },
     "metadata": {},
     "output_type": "display_data"
    },
    {
     "data": {
      "text/html": [
       "\n",
       "    <div>\n",
       "      <progress value='400' class='' max='400' style='width:300px; height:20px; vertical-align: middle;'></progress>\n",
       "      100.00% [400/400 00:01&lt;00:00]\n",
       "    </div>\n",
       "    "
      ],
      "text/plain": [
       "<IPython.core.display.HTML object>"
      ]
     },
     "metadata": {},
     "output_type": "display_data"
    }
   ],
   "source": [
    "# Define your model parameters\n",
    "num_states = 2\n",
    "input_dim = 2  # For the bias and stimulus columns\n",
    "num_classes = 2  # For binary choices\n",
    "\n",
    "# Initialize your model\n",
    "model = LogisticRegressionHMM(\n",
    "    num_states=num_states,\n",
    "    input_dim=input_dim,\n",
    "    transition_matrix_stickiness=10.0,\n",
    ")\n",
    "\n",
    "# Randomly initialize model parameters\n",
    "key = jr.PRNGKey(0)\n",
    "params, props = model.initialize(key)\n",
    "\n",
    "# Fit the model using EM\n",
    "params, log_probs = model.fit_em(params, props, emissions, inputs=inputs, num_iters=400)"
   ]
  },
  {
   "cell_type": "code",
   "execution_count": null,
   "metadata": {},
   "outputs": [],
   "source": []
  },
  {
   "cell_type": "code",
   "execution_count": 18,
   "metadata": {},
   "outputs": [
    {
     "name": "stdout",
     "output_type": "stream",
     "text": [
      "initial probs:\n",
      "[0.105 0.895]\n",
      "transition matrix:\n",
      "[[0.978 0.022]\n",
      " [0.002 0.998]]\n",
      "emission probs:\n"
     ]
    },
    {
     "ename": "AttributeError",
     "evalue": "'ParamsLogisticRegressionHMMEmissions' object has no attribute 'probs'",
     "output_type": "error",
     "traceback": [
      "\u001b[0;31m---------------------------------------------------------------------------\u001b[0m",
      "\u001b[0;31mAttributeError\u001b[0m                            Traceback (most recent call last)",
      "Cell \u001b[0;32mIn[18], line 1\u001b[0m\n\u001b[0;32m----> 1\u001b[0m \u001b[43mprint_params\u001b[49m\u001b[43m(\u001b[49m\u001b[43mparams\u001b[49m\u001b[43m)\u001b[49m\n",
      "Cell \u001b[0;32mIn[13], line 8\u001b[0m, in \u001b[0;36mprint_params\u001b[0;34m(params)\u001b[0m\n\u001b[1;32m      6\u001b[0m \u001b[38;5;28mprint\u001b[39m(params\u001b[38;5;241m.\u001b[39mtransitions\u001b[38;5;241m.\u001b[39mtransition_matrix)\n\u001b[1;32m      7\u001b[0m \u001b[38;5;28mprint\u001b[39m(\u001b[38;5;124m\"\u001b[39m\u001b[38;5;124memission probs:\u001b[39m\u001b[38;5;124m\"\u001b[39m)\n\u001b[0;32m----> 8\u001b[0m \u001b[38;5;28mprint\u001b[39m(\u001b[43mparams\u001b[49m\u001b[38;5;241;43m.\u001b[39;49m\u001b[43memissions\u001b[49m\u001b[38;5;241;43m.\u001b[39;49m\u001b[43mprobs\u001b[49m[:, \u001b[38;5;241m0\u001b[39m, :])\n",
      "\u001b[0;31mAttributeError\u001b[0m: 'ParamsLogisticRegressionHMMEmissions' object has no attribute 'probs'"
     ]
    }
   ],
   "source": [
    "print_params(params)"
   ]
  },
  {
   "cell_type": "markdown",
   "metadata": {},
   "source": [
    "## Learning Parameters"
   ]
  },
  {
   "cell_type": "code",
   "execution_count": 34,
   "metadata": {},
   "outputs": [
    {
     "name": "stdout",
     "output_type": "stream",
     "text": [
      "batch_states.shape:    (5, 5000)\n",
      "batch_emissions.shape: (5, 5000, 1)\n"
     ]
    }
   ],
   "source": [
    "num_states = 2  # two types of dice (fair and loaded)\n",
    "num_emissions = 1  # only one die is rolled at a time\n",
    "num_classes = 6  # each die has six faces\n",
    "\n",
    "initial_probs = jnp.array([0.5, 0.5])\n",
    "transition_matrix = jnp.array([[0.95, 0.05], [0.10, 0.90]])\n",
    "emission_probs = jnp.array(\n",
    "    [\n",
    "        [1 / 6, 1 / 6, 1 / 6, 1 / 6, 1 / 6, 1 / 6],  # fair die\n",
    "        [1 / 10, 1 / 10, 1 / 10, 1 / 10, 1 / 10, 5 / 10],\n",
    "    ]\n",
    ")  # loaded die\n",
    "\n",
    "\n",
    "# Construct the HMM\n",
    "hmm = CategoricalHMM(num_states, num_emissions, num_classes)\n",
    "\n",
    "# Initialize the parameters struct with known values\n",
    "params, _ = hmm.initialize(\n",
    "    initial_probs=initial_probs,\n",
    "    transition_matrix=transition_matrix,\n",
    "    emission_probs=emission_probs.reshape(num_states, num_emissions, num_classes),\n",
    ")\n",
    "\n",
    "num_batches = 5\n",
    "num_timesteps = 5000\n",
    "hmm = CategoricalHMM(num_states, num_emissions, num_classes)\n",
    "\n",
    "batch_states, batch_emissions = vmap(\n",
    "    partial(hmm.sample, params, num_timesteps=num_timesteps)\n",
    ")(jr.split(jr.PRNGKey(42), num_batches))\n",
    "\n",
    "print(f\"batch_states.shape:    {batch_states.shape}\")\n",
    "print(f\"batch_emissions.shape: {batch_emissions.shape}\")"
   ]
  },
  {
   "cell_type": "markdown",
   "metadata": {},
   "source": [
    "The first step is to randomly initialize new parameters. You can do that by calling hmm.initialize(key), where key is a JAX pseudorandom number generator (PRNG) key. When no other keyword arguments are supplied, this function will return parameters randomly sampled from the prior.\n",
    "\n",
    "Since we expect the states to persist for some time, we add a little stickiness to the prior distribution on transition probabilities via the transition_matrix_stickiness hyperparameter.\n",
    "\n",
    "Notice that initialize returns two things, the parameters and their properties. Among other things, the properties allow you to specify which parameters should be learned. You can set the trainable flag to False if you want to fix certain parmeters."
   ]
  },
  {
   "cell_type": "code",
   "execution_count": 36,
   "metadata": {},
   "outputs": [
    {
     "name": "stdout",
     "output_type": "stream",
     "text": [
      "Randomly initialized parameters\n",
      "initial probs:\n",
      "[0.793 0.207]\n",
      "transition matrix:\n",
      "[[0.978 0.022]\n",
      " [0.252 0.748]]\n",
      "emission probs:\n",
      "[[0.145 0.115 0.024 0.136 0.187 0.393]\n",
      " [0.010 0.119 0.416 0.325 0.068 0.061]]\n"
     ]
    }
   ],
   "source": [
    "hmm = CategoricalHMM(\n",
    "    num_states, num_emissions, num_classes, transition_matrix_stickiness=10.0\n",
    ")\n",
    "\n",
    "key = jr.PRNGKey(0)\n",
    "fbgd_params, fbgd_props = hmm.initialize(key)\n",
    "\n",
    "print(\"Randomly initialized parameters\")\n",
    "print_params(fbgd_params)"
   ]
  },
  {
   "cell_type": "markdown",
   "metadata": {},
   "source": [
    "### SGD"
   ]
  },
  {
   "cell_type": "code",
   "execution_count": 37,
   "metadata": {},
   "outputs": [],
   "source": [
    "# Full batch gradient descent\n",
    "fbgd_key, key = jr.split(key)\n",
    "fbgd_params, fbgd_losses = hmm.fit_sgd(\n",
    "    fbgd_params,\n",
    "    fbgd_props,\n",
    "    batch_emissions,\n",
    "    optimizer=optax.sgd(learning_rate=1e-2, momentum=0.95),\n",
    "    batch_size=num_batches,\n",
    "    num_epochs=400,\n",
    "    key=fbgd_key,\n",
    ")\n",
    "key = jr.PRNGKey(0)\n",
    "\n",
    "\n",
    "# Stochastic gradient descent\n",
    "sgd_params, sgd_param_props = hmm.initialize(key)\n",
    "sgd_key, key = jr.split(key)\n",
    "sgd_params, sgd_losses = hmm.fit_sgd(\n",
    "    sgd_params,\n",
    "    sgd_param_props,\n",
    "    batch_emissions,\n",
    "    optimizer=optax.sgd(learning_rate=1e-2, momentum=0.95),\n",
    "    batch_size=2,\n",
    "    num_epochs=400,\n",
    "    key=sgd_key,\n",
    ")"
   ]
  },
  {
   "cell_type": "code",
   "execution_count": 38,
   "metadata": {},
   "outputs": [
    {
     "data": {
      "image/png": "[encoded data removed]",
      "text/plain": [
       "<Figure size 640x480 with 1 Axes>"
      ]
     },
     "metadata": {},
     "output_type": "display_data"
    }
   ],
   "source": [
    "plt.plot(fbgd_losses, label=\"full batch GD\")\n",
    "plt.plot(sgd_losses, label=\"SGD (mini-batch size = 2)\")\n",
    "plt.legend()\n",
    "plt.xlabel(\"epoch\")\n",
    "plt.ylabel(\"loss\")\n",
    "_ = plt.title(\"Full Batch Gradient Descent Learning Curve\")"
   ]
  },
  {
   "cell_type": "code",
   "execution_count": 39,
   "metadata": {},
   "outputs": [
    {
     "name": "stdout",
     "output_type": "stream",
     "text": [
      "Full batch gradient descent params:\n",
      "initial probs:\n",
      "[0.793 0.207]\n",
      "transition matrix:\n",
      "[[0.961 0.039]\n",
      " [0.292 0.708]]\n",
      "emission probs:\n",
      "[[0.162 0.142 0.115 0.131 0.145 0.306]\n",
      " [0.013 0.170 0.406 0.249 0.093 0.070]]\n",
      "\n",
      "Stochastic gradient descent params:\n",
      "initial probs:\n",
      "[0.793 0.207]\n",
      "transition matrix:\n",
      "[[0.964 0.036]\n",
      " [0.344 0.656]]\n",
      "emission probs:\n",
      "[[0.165 0.143 0.124 0.130 0.150 0.287]\n",
      " [0.014 0.229 0.315 0.258 0.110 0.074]]\n"
     ]
    }
   ],
   "source": [
    "# Print the parameters after learning\n",
    "print(\"Full batch gradient descent params:\")\n",
    "print_params(fbgd_params)\n",
    "print(\"\")\n",
    "print(\"Stochastic gradient descent params:\")\n",
    "print_params(sgd_params)"
   ]
  },
  {
   "cell_type": "markdown",
   "metadata": {},
   "source": [
    "### Expectation Maximization"
   ]
  },
  {
   "cell_type": "code",
   "execution_count": 41,
   "metadata": {},
   "outputs": [
    {
     "data": {
      "text/html": [
       "\n",
       "<style>\n",
       "    /* Turns off some styling */\n",
       "    progress {\n",
       "        /* gets rid of default border in Firefox and Opera. */\n",
       "        border: none;\n",
       "        /* Needs to be in here for Safari polyfill so background images work as expected. */\n",
       "        background-size: auto;\n",
       "    }\n",
       "    progress:not([value]), progress:not([value])::-webkit-progress-bar {\n",
       "        background: repeating-linear-gradient(45deg, #7e7e7e, #7e7e7e 10px, #5c5c5c 10px, #5c5c5c 20px);\n",
       "    }\n",
       "    .progress-bar-interrupted, .progress-bar-interrupted::-webkit-progress-bar {\n",
       "        background: #F44336;\n",
       "    }\n",
       "</style>\n"
      ],
      "text/plain": [
       "<IPython.core.display.HTML object>"
      ]
     },
     "metadata": {},
     "output_type": "display_data"
    },
    {
     "data": {
      "text/html": [
       "\n",
       "    <div>\n",
       "      <progress value='400' class='' max='400' style='width:300px; height:20px; vertical-align: middle;'></progress>\n",
       "      100.00% [400/400 00:01&lt;00:00]\n",
       "    </div>\n",
       "    "
      ],
      "text/plain": [
       "<IPython.core.display.HTML object>"
      ]
     },
     "metadata": {},
     "output_type": "display_data"
    }
   ],
   "source": [
    "key = jr.PRNGKey(0)\n",
    "em_params, em_param_props = hmm.initialize(key)\n",
    "em_params, log_probs = hmm.fit_em(\n",
    "    em_params, em_param_props, batch_emissions, num_iters=400\n",
    ")"
   ]
  },
  {
   "cell_type": "code",
   "execution_count": 42,
   "metadata": {},
   "outputs": [
    {
     "data": {
      "image/png": "[encoded data removed]",
      "text/plain": [
       "<Figure size 640x480 with 1 Axes>"
      ]
     },
     "metadata": {},
     "output_type": "display_data"
    }
   ],
   "source": [
    "# Compute the \"losses\" from EM\n",
    "em_losses = -log_probs / batch_emissions.size\n",
    "\n",
    "# Compute the loss if you used the parameters that generated the data\n",
    "true_loss = vmap(partial(hmm.marginal_log_prob, params))(batch_emissions).sum()\n",
    "true_loss += hmm.log_prior(params)\n",
    "true_loss = -true_loss / batch_emissions.size\n",
    "\n",
    "# Plot the learning curves\n",
    "plt.plot(fbgd_losses, label=\"full batch GD\")\n",
    "plt.plot(sgd_losses, label=\"SGD (mini-batch size = 2)\")\n",
    "plt.plot(em_losses, label=\"EM\")\n",
    "plt.axhline(true_loss, color=\"k\", linestyle=\":\", label=\"True Params\")\n",
    "plt.legend()\n",
    "plt.xlim(-10, 400)\n",
    "plt.xlabel(\"epoch\")\n",
    "plt.ylabel(\"loss\")\n",
    "_ = plt.title(\"Learning Curve Comparison\")"
   ]
  },
  {
   "cell_type": "code",
   "execution_count": 47,
   "metadata": {},
   "outputs": [
    {
     "name": "stdout",
     "output_type": "stream",
     "text": [
      "EM parameters\n",
      "initial probs:\n",
      "[0.628 0.372]\n",
      "transition matrix:\n",
      "[[0.909 0.091]\n",
      " [0.053 0.947]]\n",
      "emission probs:\n",
      "[[0.110 0.106 0.101 0.110 0.105 0.468]\n",
      " [0.171 0.173 0.171 0.164 0.164 0.157]]\n",
      "\n",
      "True Parameters\n",
      "initial probs:\n",
      "[0.500 0.500]\n",
      "transition matrix:\n",
      "[[0.950 0.050]\n",
      " [0.100 0.900]]\n",
      "emission probs:\n",
      "[[0.167 0.167 0.167 0.167 0.167 0.167]\n",
      " [0.100 0.100 0.100 0.100 0.100 0.500]]\n"
     ]
    }
   ],
   "source": [
    "print(\"EM parameters\")\n",
    "print_params(em_params)\n",
    "\n",
    "print(\"\\nTrue Parameters\")\n",
    "print_params(params)"
   ]
  },
  {
   "cell_type": "code",
   "execution_count": 45,
   "metadata": {},
   "outputs": [
    {
     "name": "stdout",
     "output_type": "stream",
     "text": [
      "initial probs:\n",
      "[0.500 0.500]\n",
      "transition matrix:\n",
      "[[0.950 0.050]\n",
      " [0.100 0.900]]\n",
      "emission probs:\n",
      "[[0.167 0.167 0.167 0.167 0.167 0.167]\n",
      " [0.100 0.100 0.100 0.100 0.100 0.500]]\n"
     ]
    }
   ],
   "source": [
    "print_params(params)"
   ]
  },
  {
   "cell_type": "markdown",
   "metadata": {},
   "source": [
    "## Cross Validation- TODO update with Catagorical HMM"
   ]
  },
  {
   "cell_type": "code",
   "execution_count": 50,
   "metadata": {},
   "outputs": [],
   "source": [
    "from dynamax.hidden_markov_model import GaussianHMM\n",
    "\n",
    "num_train_batches = 3\n",
    "num_test_batches = 1\n",
    "num_timesteps = 100\n",
    "\n",
    "# Make an HMM and sample data and true underlying states\n",
    "true_num_states = 5\n",
    "emission_dim = 2\n",
    "hmm = GaussianHMM(true_num_states, emission_dim)\n",
    "\n",
    "# Specify parameters of the HMM\n",
    "initial_probs = jnp.ones(true_num_states) / true_num_states\n",
    "transition_matrix = (\n",
    "    0.80 * jnp.eye(true_num_states)\n",
    "    + 0.15 * jnp.roll(jnp.eye(true_num_states), 1, axis=1)\n",
    "    + 0.05 / true_num_states\n",
    ")\n",
    "emission_means = jnp.column_stack(\n",
    "    [\n",
    "        jnp.cos(jnp.linspace(0, 2 * jnp.pi, true_num_states + 1))[:-1],\n",
    "        jnp.sin(jnp.linspace(0, 2 * jnp.pi, true_num_states + 1))[:-1],\n",
    "        jnp.zeros((true_num_states, emission_dim - 2)),\n",
    "    ]\n",
    ")\n",
    "emission_covs = jnp.tile(0.1**2 * jnp.eye(emission_dim), (true_num_states, 1, 1))\n",
    "\n",
    "true_params, _ = hmm.initialize(\n",
    "    initial_probs=initial_probs,\n",
    "    transition_matrix=transition_matrix,\n",
    "    emission_means=emission_means,\n",
    "    emission_covariances=emission_covs,\n",
    ")\n",
    "\n",
    "# Sample train, validation, and test data\n",
    "train_key, val_key, test_key = jr.split(jr.PRNGKey(0), 3)\n",
    "f = vmap(partial(hmm.sample, true_params, num_timesteps=num_timesteps))\n",
    "train_true_states, train_emissions = f(jr.split(train_key, num_train_batches))\n",
    "test_true_states, test_emissions = f(jr.split(test_key, num_test_batches))"
   ]
  },
  {
   "cell_type": "code",
   "execution_count": 51,
   "metadata": {},
   "outputs": [],
   "source": [
    "def cross_validate_model(model, key, num_iters=100):\n",
    "    # Initialize the parameters using K-Means on the full training set\n",
    "    params, props = model.initialize(\n",
    "        key=key, method=\"kmeans\", emissions=train_emissions\n",
    "    )\n",
    "\n",
    "    # Split the training data into folds.\n",
    "    # Note: this is memory inefficient but it highlights the use of vmap.\n",
    "    folds = jnp.stack(\n",
    "        [\n",
    "            jnp.concatenate([train_emissions[:i], train_emissions[i + 1 :]])\n",
    "            for i in range(num_train_batches)\n",
    "        ]\n",
    "    )\n",
    "\n",
    "    def _fit_fold(y_train, y_val):\n",
    "        fit_params, train_lps = model.fit_em(\n",
    "            params, props, y_train, num_iters=num_iters, verbose=False\n",
    "        )\n",
    "        return model.marginal_log_prob(fit_params, y_val)\n",
    "\n",
    "    val_lls = vmap(_fit_fold)(folds, train_emissions)\n",
    "    return val_lls.mean(), val_lls"
   ]
  },
  {
   "cell_type": "code",
   "execution_count": 52,
   "metadata": {},
   "outputs": [
    {
     "name": "stdout",
     "output_type": "stream",
     "text": [
      "fitting model with 2 states\n"
     ]
    },
    {
     "name": "stderr",
     "output_type": "stream",
     "text": [
      "/Users/jessbreda/anaconda3/envs/an_lrn/lib/python3.10/site-packages/sklearn/cluster/_kmeans.py:870: FutureWarning: The default value of `n_init` will change from 10 to 'auto' in 1.4. Set the value of `n_init` explicitly to suppress the warning\n",
      "  warnings.warn(\n"
     ]
    },
    {
     "name": "stdout",
     "output_type": "stream",
     "text": [
      "fitting model with 3 states\n"
     ]
    },
    {
     "name": "stderr",
     "output_type": "stream",
     "text": [
      "/Users/jessbreda/anaconda3/envs/an_lrn/lib/python3.10/site-packages/sklearn/cluster/_kmeans.py:870: FutureWarning: The default value of `n_init` will change from 10 to 'auto' in 1.4. Set the value of `n_init` explicitly to suppress the warning\n",
      "  warnings.warn(\n"
     ]
    },
    {
     "name": "stdout",
     "output_type": "stream",
     "text": [
      "fitting model with 4 states\n"
     ]
    },
    {
     "name": "stderr",
     "output_type": "stream",
     "text": [
      "/Users/jessbreda/anaconda3/envs/an_lrn/lib/python3.10/site-packages/sklearn/cluster/_kmeans.py:870: FutureWarning: The default value of `n_init` will change from 10 to 'auto' in 1.4. Set the value of `n_init` explicitly to suppress the warning\n",
      "  warnings.warn(\n"
     ]
    },
    {
     "name": "stdout",
     "output_type": "stream",
     "text": [
      "fitting model with 5 states\n"
     ]
    },
    {
     "name": "stderr",
     "output_type": "stream",
     "text": [
      "/Users/jessbreda/anaconda3/envs/an_lrn/lib/python3.10/site-packages/sklearn/cluster/_kmeans.py:870: FutureWarning: The default value of `n_init` will change from 10 to 'auto' in 1.4. Set the value of `n_init` explicitly to suppress the warning\n",
      "  warnings.warn(\n"
     ]
    },
    {
     "name": "stdout",
     "output_type": "stream",
     "text": [
      "fitting model with 6 states\n"
     ]
    },
    {
     "name": "stderr",
     "output_type": "stream",
     "text": [
      "/Users/jessbreda/anaconda3/envs/an_lrn/lib/python3.10/site-packages/sklearn/cluster/_kmeans.py:870: FutureWarning: The default value of `n_init` will change from 10 to 'auto' in 1.4. Set the value of `n_init` explicitly to suppress the warning\n",
      "  warnings.warn(\n"
     ]
    },
    {
     "name": "stdout",
     "output_type": "stream",
     "text": [
      "fitting model with 7 states\n"
     ]
    },
    {
     "name": "stderr",
     "output_type": "stream",
     "text": [
      "/Users/jessbreda/anaconda3/envs/an_lrn/lib/python3.10/site-packages/sklearn/cluster/_kmeans.py:870: FutureWarning: The default value of `n_init` will change from 10 to 'auto' in 1.4. Set the value of `n_init` explicitly to suppress the warning\n",
      "  warnings.warn(\n"
     ]
    },
    {
     "name": "stdout",
     "output_type": "stream",
     "text": [
      "fitting model with 8 states\n"
     ]
    },
    {
     "name": "stderr",
     "output_type": "stream",
     "text": [
      "/Users/jessbreda/anaconda3/envs/an_lrn/lib/python3.10/site-packages/sklearn/cluster/_kmeans.py:870: FutureWarning: The default value of `n_init` will change from 10 to 'auto' in 1.4. Set the value of `n_init` explicitly to suppress the warning\n",
      "  warnings.warn(\n"
     ]
    },
    {
     "name": "stdout",
     "output_type": "stream",
     "text": [
      "fitting model with 9 states\n"
     ]
    },
    {
     "name": "stderr",
     "output_type": "stream",
     "text": [
      "/Users/jessbreda/anaconda3/envs/an_lrn/lib/python3.10/site-packages/sklearn/cluster/_kmeans.py:870: FutureWarning: The default value of `n_init` will change from 10 to 'auto' in 1.4. Set the value of `n_init` explicitly to suppress the warning\n",
      "  warnings.warn(\n"
     ]
    }
   ],
   "source": [
    "# Make a range of Gaussian HMMs\n",
    "all_num_states = list(range(2, 10))\n",
    "test_hmms = [\n",
    "    GaussianHMM(num_states, emission_dim, transition_matrix_stickiness=10.0)\n",
    "    for num_states in all_num_states\n",
    "]\n",
    "results = []\n",
    "for test_hmm in test_hmms:\n",
    "    print(f\"fitting model with {test_hmm.num_states} states\")\n",
    "    results.append(cross_validate_model(test_hmm, jr.PRNGKey(0)))\n",
    "\n",
    "avg_val_lls, all_val_lls = tuple(zip(*results))"
   ]
  },
  {
   "cell_type": "code",
   "execution_count": 53,
   "metadata": {},
   "outputs": [
    {
     "data": {
      "text/plain": [
       "Text(0, 0.5, 'avg. validation log prob.')"
      ]
     },
     "execution_count": 53,
     "metadata": {},
     "output_type": "execute_result"
    },
    {
     "data": {
      "image/png": "[encoded data removed]",
      "text/plain": [
       "<Figure size 640x480 with 1 Axes>"
      ]
     },
     "metadata": {},
     "output_type": "display_data"
    }
   ],
   "source": [
    "plt.plot(all_num_states, avg_val_lls, \"-ko\")\n",
    "for k, per_fold_val_lls in zip(all_num_states, all_val_lls):\n",
    "    plt.plot(k * jnp.ones_like(per_fold_val_lls), per_fold_val_lls, \".\")\n",
    "plt.xlabel(\"num states ($K$)\")\n",
    "plt.ylabel(\"avg. validation log prob.\")"
   ]
  },
  {
   "cell_type": "code",
   "execution_count": 54,
   "metadata": {},
   "outputs": [
    {
     "name": "stdout",
     "output_type": "stream",
     "text": [
      "best number of states: 5\n"
     ]
    }
   ],
   "source": [
    "best_num_states = all_num_states[jnp.argmax(jnp.stack(avg_val_lls))]\n",
    "print(\"best number of states:\", best_num_states)"
   ]
  }
 ],
 "metadata": {
  "kernelspec": {
   "display_name": "an_lrn",
   "language": "python",
   "name": "python3"
  },
  "language_info": {
   "codemirror_mode": {
    "name": "ipython",
    "version": 3
   },
   "file_extension": ".py",
   "mimetype": "text/x-python",
   "name": "python",
   "nbconvert_exporter": "python",
   "pygments_lexer": "ipython3",
   "version": "3.10.0"
  }
 },
 "nbformat": 4,
 "nbformat_minor": 2
}
