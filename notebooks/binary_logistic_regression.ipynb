{
 "cells": [
  {
   "attachments": {},
   "cell_type": "markdown",
   "metadata": {},
   "source": [
    "## Binary logistic regression\n",
    "\n",
    "Written by Jess Breda June 2023"
   ]
  },
  {
   "cell_type": "code",
   "execution_count": 90,
   "metadata": {},
   "outputs": [],
   "source": [
    "import numpy as np\n",
    "from scipy.optimize import minimize\n",
    "from matplotlib import pyplot as plt"
   ]
  },
  {
   "attachments": {},
   "cell_type": "markdown",
   "metadata": {},
   "source": [
    "Steps\n",
    "-----\n",
    "1. generate the dataset\n",
    "2. Define cost & gradient fx\n",
    "3. Initialize weights & run optimization\n",
    "4. Visualize"
   ]
  },
  {
   "cell_type": "code",
   "execution_count": 91,
   "metadata": {},
   "outputs": [],
   "source": [
    "def sigmoid(x):\n",
    "    return 1 / (1 + np.exp(-x))\n",
    "\n",
    "\n",
    "# -- PLOT FUNCTIONS -- #\n",
    "def generate_sigmoids(true_W, optimized_W):\n",
    "    # create a matrix X with bias column to pass\n",
    "    # to the sigmoid function\n",
    "    x_range = np.linspace(-10, 10, 100)\n",
    "    n_features = len(true_W) - 1\n",
    "    X_with_bias = np.tile(x_range, (n_features, 1)).T\n",
    "    X_with_bias = np.c_[np.ones_like(x_range), X_with_bias]  # add bias column\n",
    "\n",
    "    true_logits = X_with_bias @ true_W\n",
    "    true_probabilities = sigmoid(true_logits)\n",
    "\n",
    "    optimized_logits = X_with_bias @ optimized_W\n",
    "    optimized_probabilities = sigmoid(optimized_logits)\n",
    "\n",
    "    return x_range, true_probabilities, optimized_probabilities\n",
    "\n",
    "\n",
    "def plot_sigmoids(x_range, true_probabilities, optimized_probabilities):\n",
    "    fig, ax = plt.subplots(figsize=(5, 4))\n",
    "    ax.plot(x_range, true_probabilities, label=\"true\", color=\"gray\")\n",
    "    ax.plot(\n",
    "        x_range,\n",
    "        optimized_probabilities,\n",
    "        label=\"optimized\",\n",
    "        color=\"gray\",\n",
    "        linestyle=\"--\",\n",
    "    )\n",
    "    ax.legend()\n",
    "    ax.set(title=\"Sigmoid Functions\", xlabel=\"Logits\", ylabel=\"Probability\")\n",
    "\n",
    "\n",
    "def plot_weights(true_W, optimized_W):\n",
    "    fig, ax = plt.subplots(figsize=(6, 4))\n",
    "\n",
    "    feature_and_bias_labels = np.arange(len(true_W))\n",
    "\n",
    "    ax.plot(feature_and_bias_labels, true_W, label=\"true\", color=\"gray\", marker=\"o\")\n",
    "    ax.plot(\n",
    "        feature_and_bias_labels,\n",
    "        optimized_W,\n",
    "        label=\"optimized\",\n",
    "        color=\"gray\",\n",
    "        marker=\"o\",\n",
    "        linestyle=\"dashed\",\n",
    "    )\n",
    "\n",
    "    # Set the x-axis tick labels\n",
    "    _ = ax.set_xticks(feature_and_bias_labels)\n",
    "    ax.set(xlabel=\"Feature\", ylabel=\"Weight\", title=\"Recovered Weights\")\n",
    "    ax.legend()"
   ]
  },
  {
   "attachments": {},
   "cell_type": "markdown",
   "metadata": {},
   "source": [
    "### 1. Generate Data"
   ]
  },
  {
   "cell_type": "code",
   "execution_count": 116,
   "metadata": {},
   "outputs": [],
   "source": [
    "N = 100000  # Number of samples\n",
    "D = 2  # Number of features\n",
    "\n",
    "# Generate random feature values\n",
    "# X = np.random.randn(N, D)  ## convert to Normal\n",
    "X = np.random.normal(size=(N, D))\n",
    "\n",
    "# Generate random true weights (including the bias coefficient)\n",
    "# true_W = np.random.rand(D + 1)\n",
    "true_W = np.random.normal(loc=0, scale=1, size=(D + 1))\n",
    "\n",
    "# Add bias column to the dataset\n",
    "X_with_bias = np.c_[np.ones(N), X]\n",
    "\n",
    "# Generate target labels using logistic function\n",
    "logits = X_with_bias @ true_W\n",
    "probabilities = sigmoid(logits)\n",
    "y = np.random.binomial(1, probabilities)"
   ]
  },
  {
   "attachments": {},
   "cell_type": "markdown",
   "metadata": {},
   "source": [
    "### 2. Define cost & gradient functions\n",
    "\n",
    "These are passed into scipys' `minimize` function. Note `X` includes a first bias column of 1s.\n",
    "\n",
    "$$ \\text{{logits}} = X \\cdot W $$\n",
    "\n",
    "1. Logistic Regression Cost Function:\n",
    "\n",
    "$$ \\text{{nll}} = \\frac{1}{n} \\sum_{i=1} ^{n}(y \\cdot \\log(\\text{logits}) - \\log(1 + \\exp(\\text{logits})))$$\n",
    "\n",
    "$$ \\text{{nll}} = \\frac{1}{n} \\sum_{i=1} ^{n}(y \\cdot \\log(\\text{a}) - \\log(1 + \\exp(\\text{a})))$$\n",
    "\n",
    "2. Logistic Regression Gradient Function:\n",
    "\n",
    "$$p(y) = 1 - \\frac{1}{1 + \\exp(\\text{logits})}$$\n",
    "\n",
    "$$\\nabla \\text{nll}_W = \\frac{{X^T \\cdot (\\text{{p(y)}} - y)}}{N}$$\n",
    "\n",
    "\n",
    "3. Logistic Regression Hessian Function:\n",
    "\n",
    "$$ \\text{Hess} = \\frac{1}{n} \\sum_{i=1} ^{n} (p(y_i) (1 - p(y_i)) x_i x_i^T )"
   ]
  },
  {
   "cell_type": "code",
   "execution_count": 117,
   "metadata": {},
   "outputs": [],
   "source": [
    "def logistic_regression_cost(w, X, y, sigma=None):\n",
    "    \"\"\"\n",
    "    Compute the negative log-likelihood for binary\n",
    "    logistic regression with L2 regularization (or MAP).\n",
    "\n",
    "    params\n",
    "    ------\n",
    "    w : weights\n",
    "    X : data (with bias column)\n",
    "    Y : target labels, not used but keeping scipy minimize happy\n",
    "    sigma : float (defualt: None)\n",
    "        Standard deviation of Gaussian prior, if None\n",
    "        no regularization is applied.\n",
    "\n",
    "    returns\n",
    "    -------\n",
    "    nll : (regularized) negative log-likelihood\n",
    "    \"\"\"\n",
    "    logits = X @ w\n",
    "\n",
    "    if sigma:\n",
    "        penalty = 1 / (2 * sigma**2) * np.sum(w**2)\n",
    "    else:\n",
    "        penalty = 0\n",
    "\n",
    "    nll = -np.mean(y * logits - np.log(1 + np.exp(logits))) + penalty\n",
    "    return nll\n",
    "\n",
    "\n",
    "def logistic_regression_gradient(w, X, y, sigma=None):\n",
    "    \"\"\"\n",
    "    Gradient of the cost function for logistic regression using negative log-likelihood\n",
    "\n",
    "    w: weights\n",
    "    X : data (with bias column)\n",
    "    y : target labels (0,1)\n",
    "    \"\"\"\n",
    "    logits = X @ w\n",
    "    p = 1 - 1 / (1 + np.exp(logits))\n",
    "\n",
    "    if sigma:\n",
    "        penalty_gradient = w / sigma**2\n",
    "        penalty_gradient[0] = 0  # No penalty for bias\n",
    "    else:\n",
    "        penalty_gradient = 0\n",
    "\n",
    "    gradient = (np.dot(X.T, (p - y)) / len(y)) + penalty_gradient\n",
    "    return gradient\n",
    "\n",
    "\n",
    "def compute_logistic_regression_hessian(W, X, y):\n",
    "    \"\"\"\n",
    "    Hessian matrix of the cost function for logistic regression using negative log-likelihood.\n",
    "\n",
    "    W : weights\n",
    "    X : data (with bias column)\n",
    "    y : target labels (0,1)\n",
    "\n",
    "    NOTE: needs to be checked\n",
    "    \"\"\"\n",
    "    logits = X @ W\n",
    "    probabilities = 1 - 1 / (1 + np.exp(logits))\n",
    "    # Outer product for each data point's feature vector and summing them up\n",
    "    hessian = sum(\n",
    "        [(prob * (1 - prob) * np.outer(xi, xi)) for xi, prob in zip(X, probabilities)]\n",
    "    )\n",
    "    return hessian / len(y)  # Average over all data points"
   ]
  },
  {
   "attachments": {},
   "cell_type": "markdown",
   "metadata": {},
   "source": [
    "### 3. Initialize Weights & Optimize"
   ]
  },
  {
   "cell_type": "markdown",
   "metadata": {},
   "source": [
    "L-BFGS-B versus L-BFGS versus BFGS.\n",
    "\n",
    "**BFGS:** is a quasi-newton method used for optimization that avoids the costly computation of the Hessian. It approximates the inverse Hessian via gradient updates.\n",
    "\n",
    "**L-BFGS**: is the limited-memory version of BFGS, doesn't store the full Hessian matrix (or inverse), but instead a subset of vectors that represent this matrix\n",
    "\n",
    "**L-BFGS-B**: is limited memory version + \"bounds\". You can implemented bound constraints on the variables being optimized to help minimized the search space. If this is implemented without the `bounds` argument, it is the same as L-BFGS."
   ]
  },
  {
   "cell_type": "code",
   "execution_count": 124,
   "metadata": {},
   "outputs": [
    {
     "name": "stdout",
     "output_type": "stream",
     "text": [
      "Optimization terminated successfully.\n",
      "         Current function value: 0.510978\n",
      "         Iterations: 13\n",
      "         Function evaluations: 14\n",
      "         Gradient evaluations: 14\n"
     ]
    }
   ],
   "source": [
    "initial_W = np.zeros(D + 1)  # Initial guess for weights\n",
    "\n",
    "# optimize using L-BFGS-B algorithm\n",
    "result = minimize(\n",
    "    logistic_regression_cost,\n",
    "    initial_W,\n",
    "    args=(X_with_bias, y),\n",
    "    method=\"BFGS\",\n",
    "    jac=logistic_regression_gradient,\n",
    "    options={\"disp\": True},\n",
    ")\n",
    "optimized_W = result.x"
   ]
  },
  {
   "cell_type": "code",
   "execution_count": 125,
   "metadata": {},
   "outputs": [
    {
     "name": "stdout",
     "output_type": "stream",
     "text": [
      "Status : Optimization terminated successfully.\n",
      "Total Evaluations: 14\n",
      "True weights: [ 1.04159195  1.08438686 -0.4638284 ]\n",
      "Optimized weights: [ 1.03964335  1.08709876 -0.47097824]\n"
     ]
    }
   ],
   "source": [
    "# summarize the result\n",
    "print(\"Status : %s\" % result[\"message\"])\n",
    "print(\"Total Evaluations: %d\" % result[\"nfev\"])\n",
    "\n",
    "print(\"True weights:\", true_W)\n",
    "print(\"Optimized weights:\", optimized_W)"
   ]
  },
  {
   "cell_type": "code",
   "execution_count": 126,
   "metadata": {},
   "outputs": [
    {
     "data": {
      "text/plain": [
       "  message: Optimization terminated successfully.\n",
       "  success: True\n",
       "   status: 0\n",
       "      fun: 0.5109775715031334\n",
       "        x: [ 1.040e+00  1.087e+00 -4.710e-01]\n",
       "      nit: 13\n",
       "      jac: [ 2.960e-06 -3.449e-06  4.223e-06]\n",
       " hess_inv: [[ 6.507e+00  2.822e+00 -1.446e+00]\n",
       "            [ 2.822e+00  7.134e+00  2.239e-01]\n",
       "            [-1.446e+00  2.239e-01  4.962e+00]]\n",
       "     nfev: 14\n",
       "     njev: 14"
      ]
     },
     "execution_count": 126,
     "metadata": {},
     "output_type": "execute_result"
    }
   ],
   "source": [
    "result"
   ]
  },
  {
   "attachments": {},
   "cell_type": "markdown",
   "metadata": {},
   "source": [
    "### 5. Visualize the results"
   ]
  },
  {
   "cell_type": "code",
   "execution_count": 120,
   "metadata": {},
   "outputs": [
    {
     "data": {
      "image/png": "[encoded data removed]",
      "text/plain": [
       "<Figure size 500x400 with 1 Axes>"
      ]
     },
     "metadata": {},
     "output_type": "display_data"
    }
   ],
   "source": [
    "x_range, true_sig, optimized_sig = generate_sigmoids(true_W, optimized_W)\n",
    "plot_sigmoids(x_range, true_sig, optimized_sig)"
   ]
  },
  {
   "cell_type": "code",
   "execution_count": 121,
   "metadata": {},
   "outputs": [
    {
     "data": {
      "image/png": "[encoded data removed]",
      "text/plain": [
       "<Figure size 600x400 with 1 Axes>"
      ]
     },
     "metadata": {},
     "output_type": "display_data"
    }
   ],
   "source": [
    "plot_weights(true_W, optimized_W)"
   ]
  },
  {
   "cell_type": "markdown",
   "metadata": {},
   "source": [
    "## Validation of MAP $\\sigma$"
   ]
  },
  {
   "cell_type": "code",
   "execution_count": 127,
   "metadata": {},
   "outputs": [
    {
     "name": "stdout",
     "output_type": "stream",
     "text": [
      "Generated 2500 samples with 50 features\n",
      "w is (3,) \n",
      "X is (2500, 51) \n",
      "y is (2500,)\n",
      "w has mean 0.069 and std 2.119 with set sigma of 2\n"
     ]
    }
   ],
   "source": [
    "N = 2500  # Number of samples\n",
    "D = 50  # Number of features\n",
    "\n",
    "# Generate random feature values\n",
    "X = np.random.normal(size=(N, D))\n",
    "X_with_bias = np.c_[np.ones(N), X]  # bias column\n",
    "\n",
    "\n",
    "# Generate random true weights given true sigma (including the bias coefficient)\n",
    "true_sigma = 2\n",
    "true_w = np.random.normal(loc=0, scale=true_sigma, size=D + 1)\n",
    "\n",
    "\n",
    "# Generate target labels using logistic function\n",
    "logits = X_with_bias @ true_w\n",
    "probabilities = sigmoid(logits)\n",
    "y = np.random.binomial(1, probabilities)\n",
    "\n",
    "print(f\"Generated {N} samples with {D} features\")\n",
    "print(f\"w is {true_W.shape} \\nX is {X_with_bias.shape} \\ny is {y.shape}\")\n",
    "\n",
    "print(\n",
    "    f\"w has mean {np.mean(true_w):.3f} and std {np.std(true_w):.3f} with set sigma of {true_sigma}\"\n",
    ")"
   ]
  },
  {
   "cell_type": "code",
   "execution_count": 89,
   "metadata": {},
   "outputs": [
    {
     "data": {
      "text/plain": [
       "(2500,)"
      ]
     },
     "execution_count": 89,
     "metadata": {},
     "output_type": "execute_result"
    }
   ],
   "source": [
    "logits.shape"
   ]
  },
  {
   "cell_type": "code",
   "execution_count": 128,
   "metadata": {},
   "outputs": [
    {
     "name": "stdout",
     "output_type": "stream",
     "text": [
      "Generated train-test split of sample size 25 and 2475\n"
     ]
    }
   ],
   "source": [
    "from sklearn.model_selection import train_test_split\n",
    "\n",
    "X_train, X_test, y_train, y_test = train_test_split(\n",
    "    X_with_bias, y, test_size=0.99, random_state=42\n",
    ")\n",
    "\n",
    "print(f\"Generated train-test split of sample size {len(X_train)} and {len(X_test)}\")"
   ]
  },
  {
   "cell_type": "markdown",
   "metadata": {},
   "source": [
    "### 2. Compute test nll over sigmas\n"
   ]
  },
  {
   "cell_type": "code",
   "execution_count": 129,
   "metadata": {},
   "outputs": [
    {
     "data": {
      "text/plain": [
       "(2500,)"
      ]
     },
     "execution_count": 129,
     "metadata": {},
     "output_type": "execute_result"
    }
   ],
   "source": [
    "y.shape"
   ]
  },
  {
   "cell_type": "code",
   "execution_count": 130,
   "metadata": {},
   "outputs": [
    {
     "name": "stdout",
     "output_type": "stream",
     "text": [
      "Warning: Desired error not necessarily achieved due to precision loss.\n",
      "         Current function value: 0.690259\n",
      "         Iterations: 1\n",
      "         Function evaluations: 46\n",
      "         Gradient evaluations: 35\n",
      "Warning: Desired error not necessarily achieved due to precision loss.\n",
      "         Current function value: 0.681824\n",
      "         Iterations: 1\n",
      "         Function evaluations: 53\n",
      "         Gradient evaluations: 42\n",
      "Warning: Desired error not necessarily achieved due to precision loss.\n",
      "         Current function value: 0.668494\n",
      "         Iterations: 1\n",
      "         Function evaluations: 56\n",
      "         Gradient evaluations: 45\n",
      "Warning: Desired error not necessarily achieved due to precision loss.\n",
      "         Current function value: 0.651212\n",
      "         Iterations: 1\n",
      "         Function evaluations: 51\n",
      "         Gradient evaluations: 40\n",
      "Warning: Desired error not necessarily achieved due to precision loss.\n",
      "         Current function value: 0.631054\n",
      "         Iterations: 1\n",
      "         Function evaluations: 45\n",
      "         Gradient evaluations: 34\n",
      "Warning: Desired error not necessarily achieved due to precision loss.\n",
      "         Current function value: 0.609073\n",
      "         Iterations: 1\n",
      "         Function evaluations: 48\n",
      "         Gradient evaluations: 37\n",
      "Warning: Desired error not necessarily achieved due to precision loss.\n",
      "         Current function value: 0.586008\n",
      "         Iterations: 2\n",
      "         Function evaluations: 76\n",
      "         Gradient evaluations: 64\n",
      "Warning: Desired error not necessarily achieved due to precision loss.\n",
      "         Current function value: 0.562619\n",
      "         Iterations: 2\n",
      "         Function evaluations: 70\n",
      "         Gradient evaluations: 58\n",
      "Warning: Desired error not necessarily achieved due to precision loss.\n",
      "         Current function value: 0.562912\n",
      "         Iterations: 3\n",
      "         Function evaluations: 60\n",
      "         Gradient evaluations: 48\n",
      "Warning: Desired error not necessarily achieved due to precision loss.\n",
      "         Current function value: 0.522303\n",
      "         Iterations: 2\n",
      "         Function evaluations: 65\n",
      "         Gradient evaluations: 53\n",
      "Warning: Desired error not necessarily achieved due to precision loss.\n",
      "         Current function value: 0.498699\n",
      "         Iterations: 2\n",
      "         Function evaluations: 52\n",
      "         Gradient evaluations: 40\n",
      "Warning: Desired error not necessarily achieved due to precision loss.\n",
      "         Current function value: 0.476428\n",
      "         Iterations: 2\n",
      "         Function evaluations: 62\n",
      "         Gradient evaluations: 50\n",
      "Warning: Desired error not necessarily achieved due to precision loss.\n",
      "         Current function value: 0.455461\n",
      "         Iterations: 2\n",
      "         Function evaluations: 67\n",
      "         Gradient evaluations: 55\n",
      "Warning: Desired error not necessarily achieved due to precision loss.\n",
      "         Current function value: 0.435768\n",
      "         Iterations: 2\n",
      "         Function evaluations: 63\n",
      "         Gradient evaluations: 51\n",
      "Warning: Desired error not necessarily achieved due to precision loss.\n",
      "         Current function value: 0.417313\n",
      "         Iterations: 2\n",
      "         Function evaluations: 63\n",
      "         Gradient evaluations: 51\n",
      "Warning: Desired error not necessarily achieved due to precision loss.\n",
      "         Current function value: 0.400056\n",
      "         Iterations: 2\n",
      "         Function evaluations: 57\n",
      "         Gradient evaluations: 45\n",
      "Warning: Desired error not necessarily achieved due to precision loss.\n",
      "         Current function value: 0.383928\n",
      "         Iterations: 3\n",
      "         Function evaluations: 69\n",
      "         Gradient evaluations: 57\n",
      "Warning: Desired error not necessarily achieved due to precision loss.\n",
      "         Current function value: 0.368715\n",
      "         Iterations: 3\n",
      "         Function evaluations: 63\n",
      "         Gradient evaluations: 51\n",
      "Warning: Desired error not necessarily achieved due to precision loss.\n",
      "         Current function value: 0.354447\n",
      "         Iterations: 3\n",
      "         Function evaluations: 47\n",
      "         Gradient evaluations: 35\n",
      "Warning: Desired error not necessarily achieved due to precision loss.\n",
      "         Current function value: 0.341421\n",
      "         Iterations: 3\n",
      "         Function evaluations: 53\n",
      "         Gradient evaluations: 41\n",
      "Warning: Desired error not necessarily achieved due to precision loss.\n",
      "         Current function value: 0.328357\n",
      "         Iterations: 3\n",
      "         Function evaluations: 69\n",
      "         Gradient evaluations: 57\n",
      "Warning: Desired error not necessarily achieved due to precision loss.\n",
      "         Current function value: 0.316117\n",
      "         Iterations: 3\n",
      "         Function evaluations: 67\n",
      "         Gradient evaluations: 55\n",
      "Warning: Desired error not necessarily achieved due to precision loss.\n",
      "         Current function value: 0.304625\n",
      "         Iterations: 3\n",
      "         Function evaluations: 65\n",
      "         Gradient evaluations: 53\n",
      "Warning: Desired error not necessarily achieved due to precision loss.\n",
      "         Current function value: 0.293819\n",
      "         Iterations: 3\n",
      "         Function evaluations: 65\n",
      "         Gradient evaluations: 53\n",
      "Warning: Desired error not necessarily achieved due to precision loss.\n",
      "         Current function value: 0.283647\n",
      "         Iterations: 3\n",
      "         Function evaluations: 69\n",
      "         Gradient evaluations: 57\n",
      "Warning: Desired error not necessarily achieved due to precision loss.\n",
      "         Current function value: 0.274053\n",
      "         Iterations: 4\n",
      "         Function evaluations: 64\n",
      "         Gradient evaluations: 52\n",
      "Warning: Desired error not necessarily achieved due to precision loss.\n",
      "         Current function value: 0.264941\n",
      "         Iterations: 4\n",
      "         Function evaluations: 53\n",
      "         Gradient evaluations: 43\n",
      "Warning: Desired error not necessarily achieved due to precision loss.\n",
      "         Current function value: 0.256335\n",
      "         Iterations: 4\n",
      "         Function evaluations: 50\n",
      "         Gradient evaluations: 38\n",
      "Warning: Desired error not necessarily achieved due to precision loss.\n",
      "         Current function value: 0.248336\n",
      "         Iterations: 4\n",
      "         Function evaluations: 56\n",
      "         Gradient evaluations: 44\n",
      "Warning: Desired error not necessarily achieved due to precision loss.\n",
      "         Current function value: 0.240498\n",
      "         Iterations: 4\n",
      "         Function evaluations: 60\n",
      "         Gradient evaluations: 48\n",
      "Warning: Desired error not necessarily achieved due to precision loss.\n",
      "         Current function value: 0.233070\n",
      "         Iterations: 4\n",
      "         Function evaluations: 65\n",
      "         Gradient evaluations: 53\n",
      "Warning: Desired error not necessarily achieved due to precision loss.\n",
      "         Current function value: 0.226021\n",
      "         Iterations: 4\n",
      "         Function evaluations: 65\n",
      "         Gradient evaluations: 53\n",
      "Warning: Desired error not necessarily achieved due to precision loss.\n",
      "         Current function value: 0.219323\n",
      "         Iterations: 4\n",
      "         Function evaluations: 68\n",
      "         Gradient evaluations: 56\n",
      "Warning: Desired error not necessarily achieved due to precision loss.\n",
      "         Current function value: 0.212954\n",
      "         Iterations: 4\n",
      "         Function evaluations: 57\n",
      "         Gradient evaluations: 46\n",
      "Warning: Desired error not necessarily achieved due to precision loss.\n",
      "         Current function value: 0.206890\n",
      "         Iterations: 4\n",
      "         Function evaluations: 49\n",
      "         Gradient evaluations: 38\n",
      "Warning: Desired error not necessarily achieved due to precision loss.\n",
      "         Current function value: 0.201094\n",
      "         Iterations: 5\n",
      "         Function evaluations: 54\n",
      "         Gradient evaluations: 44\n",
      "Warning: Desired error not necessarily achieved due to precision loss.\n",
      "         Current function value: 0.195541\n",
      "         Iterations: 6\n",
      "         Function evaluations: 57\n",
      "         Gradient evaluations: 46\n",
      "Warning: Desired error not necessarily achieved due to precision loss.\n",
      "         Current function value: 0.190248\n",
      "         Iterations: 6\n",
      "         Function evaluations: 63\n",
      "         Gradient evaluations: 52\n",
      "Warning: Desired error not necessarily achieved due to precision loss.\n",
      "         Current function value: 0.185189\n",
      "         Iterations: 6\n",
      "         Function evaluations: 55\n",
      "         Gradient evaluations: 44\n",
      "Warning: Desired error not necessarily achieved due to precision loss.\n",
      "         Current function value: 0.180477\n",
      "         Iterations: 5\n",
      "         Function evaluations: 59\n",
      "         Gradient evaluations: 47\n",
      "Warning: Desired error not necessarily achieved due to precision loss.\n",
      "         Current function value: 0.175838\n",
      "         Iterations: 5\n",
      "         Function evaluations: 67\n",
      "         Gradient evaluations: 55\n",
      "Warning: Desired error not necessarily achieved due to precision loss.\n",
      "         Current function value: 0.171397\n",
      "         Iterations: 5\n",
      "         Function evaluations: 54\n",
      "         Gradient evaluations: 43\n",
      "Warning: Desired error not necessarily achieved due to precision loss.\n",
      "         Current function value: 0.167142\n",
      "         Iterations: 5\n",
      "         Function evaluations: 48\n",
      "         Gradient evaluations: 37\n",
      "Warning: Desired error not necessarily achieved due to precision loss.\n",
      "         Current function value: 0.163059\n",
      "         Iterations: 6\n",
      "         Function evaluations: 57\n",
      "         Gradient evaluations: 45\n",
      "Warning: Desired error not necessarily achieved due to precision loss.\n",
      "         Current function value: 0.159133\n",
      "         Iterations: 7\n",
      "         Function evaluations: 64\n",
      "         Gradient evaluations: 53\n",
      "Warning: Desired error not necessarily achieved due to precision loss.\n",
      "         Current function value: 0.155372\n",
      "         Iterations: 7\n",
      "         Function evaluations: 76\n",
      "         Gradient evaluations: 65\n",
      "Warning: Desired error not necessarily achieved due to precision loss.\n",
      "         Current function value: 0.151764\n",
      "         Iterations: 7\n",
      "         Function evaluations: 62\n",
      "         Gradient evaluations: 53\n",
      "Warning: Desired error not necessarily achieved due to precision loss.\n",
      "         Current function value: 0.148292\n",
      "         Iterations: 6\n",
      "         Function evaluations: 57\n",
      "         Gradient evaluations: 46\n",
      "Warning: Desired error not necessarily achieved due to precision loss.\n",
      "         Current function value: 0.144932\n",
      "         Iterations: 7\n",
      "         Function evaluations: 59\n",
      "         Gradient evaluations: 47\n",
      "Warning: Desired error not necessarily achieved due to precision loss.\n",
      "         Current function value: 0.141740\n",
      "         Iterations: 6\n",
      "         Function evaluations: 56\n",
      "         Gradient evaluations: 45\n",
      "Warning: Desired error not necessarily achieved due to precision loss.\n",
      "         Current function value: 0.138601\n",
      "         Iterations: 8\n",
      "         Function evaluations: 70\n",
      "         Gradient evaluations: 59\n",
      "Warning: Desired error not necessarily achieved due to precision loss.\n",
      "         Current function value: 0.135593\n",
      "         Iterations: 8\n",
      "         Function evaluations: 68\n",
      "         Gradient evaluations: 56\n",
      "Warning: Desired error not necessarily achieved due to precision loss.\n",
      "         Current function value: 0.132699\n",
      "         Iterations: 8\n",
      "         Function evaluations: 72\n",
      "         Gradient evaluations: 60\n",
      "Warning: Desired error not necessarily achieved due to precision loss.\n",
      "         Current function value: 0.129913\n",
      "         Iterations: 9\n",
      "         Function evaluations: 62\n",
      "         Gradient evaluations: 52\n",
      "Warning: Desired error not necessarily achieved due to precision loss.\n",
      "         Current function value: 0.127220\n",
      "         Iterations: 9\n",
      "         Function evaluations: 65\n",
      "         Gradient evaluations: 53\n",
      "Warning: Desired error not necessarily achieved due to precision loss.\n",
      "         Current function value: 0.124639\n",
      "         Iterations: 9\n",
      "         Function evaluations: 65\n",
      "         Gradient evaluations: 54\n",
      "Warning: Desired error not necessarily achieved due to precision loss.\n",
      "         Current function value: 0.122008\n",
      "         Iterations: 9\n",
      "         Function evaluations: 69\n",
      "         Gradient evaluations: 58\n",
      "Warning: Desired error not necessarily achieved due to precision loss.\n",
      "         Current function value: 0.119586\n",
      "         Iterations: 9\n",
      "         Function evaluations: 79\n",
      "         Gradient evaluations: 67\n",
      "Warning: Desired error not necessarily achieved due to precision loss.\n",
      "         Current function value: 0.117177\n",
      "         Iterations: 9\n",
      "         Function evaluations: 71\n",
      "         Gradient evaluations: 60\n"
     ]
    }
   ],
   "source": [
    "# initalize\n",
    "initial_w_flat = np.zeros(D + 1)\n",
    "sigmas = np.arange(0.1, 6, 0.1)\n",
    "test_nlls = []\n",
    "optimized_w_sigma = []\n",
    "mses = []\n",
    "\n",
    "# iterate over sigmas, find optimal W, and compute test NLL\n",
    "for sigma in sigmas:\n",
    "    result = minimize(\n",
    "        fun=logistic_regression_cost,\n",
    "        x0=initial_w_flat,\n",
    "        args=(X_train, y_train, sigma),\n",
    "        method=\"BFGS\",\n",
    "        jac=logistic_regression_gradient,\n",
    "        options={\"disp\": True, \"maxiter\": 10000},\n",
    "    )\n",
    "\n",
    "    optimized_w = result.x\n",
    "\n",
    "    # store out\n",
    "    optimized_w_sigma.append(np.std(optimized_w))\n",
    "    test_nlls.append(logistic_regression_cost(optimized_w, X_test, y_test, sigma=None))\n",
    "    mses.append(np.mean((optimized_w - true_w) ** 2))"
   ]
  },
  {
   "cell_type": "code",
   "execution_count": 131,
   "metadata": {},
   "outputs": [
    {
     "data": {
      "text/plain": [
       "<matplotlib.legend.Legend at 0x28fc99c90>"
      ]
     },
     "execution_count": 131,
     "metadata": {},
     "output_type": "execute_result"
    },
    {
     "data": {
      "image/png": "[encoded data removed]",
      "text/plain": [
       "<Figure size 600x400 with 1 Axes>"
      ]
     },
     "metadata": {},
     "output_type": "display_data"
    }
   ],
   "source": [
    "fig, ax = plt.subplots(figsize=(6, 4))\n",
    "ax.plot(sigmas, test_nlls, marker=\"o\")\n",
    "ax.axvline(x=np.std(true_w), color=\"k\", linestyle=\"--\", label=\"true\")\n",
    "ax.axvline(x=sigmas[np.argmin(test_nlls)], color=\"red\", linestyle=\"--\", label=\"fit\")\n",
    "\n",
    "ax.set(\n",
    "    xlabel=\"sigma\",\n",
    "    ylabel=\"test negative log-likelihood\",\n",
    "    title=f\"N train: {len(X_train)}, N test: {len(X_test)}, W: {true_w.shape}\",\n",
    ")\n",
    "ax.legend()"
   ]
  },
  {
   "cell_type": "code",
   "execution_count": 79,
   "metadata": {},
   "outputs": [
    {
     "data": {
      "text/plain": [
       "<matplotlib.legend.Legend at 0x2bffe7580>"
      ]
     },
     "execution_count": 79,
     "metadata": {},
     "output_type": "execute_result"
    },
    {
     "data": {
      "image/png": "[encoded data removed]",
      "text/plain": [
       "<Figure size 600x400 with 1 Axes>"
      ]
     },
     "metadata": {},
     "output_type": "display_data"
    }
   ],
   "source": [
    "fig, ax = plt.subplots(figsize=(6, 4))\n",
    "ax.plot(sigmas, mses, marker=\"o\")\n",
    "ax.axvline(x=np.std(true_w), color=\"k\", linestyle=\"--\", label=\"true\")\n",
    "ax.axvline(x=sigmas[np.argmin(mses)], color=\"red\", linestyle=\"--\", label=\"fit\")\n",
    "\n",
    "ax.set(\n",
    "    xlabel=\"sigma\",\n",
    "    ylabel=\"MSE\",\n",
    "    title=f\"N train: {len(X_train)}, N test: {len(X_test)}, W: {true_w.shape}\",\n",
    ")\n",
    "ax.legend()"
   ]
  }
 ],
 "metadata": {
  "kernelspec": {
   "display_name": "an_lrn",
   "language": "python",
   "name": "python3"
  },
  "language_info": {
   "codemirror_mode": {
    "name": "ipython",
    "version": 3
   },
   "file_extension": ".py",
   "mimetype": "text/x-python",
   "name": "python",
   "nbconvert_exporter": "python",
   "pygments_lexer": "ipython3",
   "version": "3.10.0"
  },
  "orig_nbformat": 4
 },
 "nbformat": 4,
 "nbformat_minor": 2
}
