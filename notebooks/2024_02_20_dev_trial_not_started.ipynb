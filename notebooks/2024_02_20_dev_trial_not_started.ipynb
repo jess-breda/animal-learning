{
 "cells": [
  {
   "cell_type": "markdown",
   "metadata": {},
   "source": [
    "# Dev: Trial Not Started\n",
    "\n",
    "**Goal**: Development code for using the n_previous_trial_not_started feature as a regressor.\n",
    "\n",
    "Approach: add to base DMG for now as an argument "
   ]
  },
  {
   "cell_type": "code",
   "execution_count": 1,
   "metadata": {},
   "outputs": [],
   "source": [
    "import seaborn as sns\n",
    "import matplotlib.pyplot as plt\n",
    "import pandas as pd\n",
    "import numpy as np\n",
    "\n",
    "from multiglm.experiments.experiment_sigma_sweep import ExperimentSigmaSweep\n",
    "from multiglm.features.design_matrix_generator import *\n",
    "from multiglm.models.multiclass_logistic_regression import MultiClassLogisticRegression\n",
    "from multiglm.data import ANIMAL_IDS\n",
    "\n",
    "from multiglm.data.dataset_loader import DatasetLoader\n",
    "\n",
    "sns.set_context(\"talk\")\n",
    "%load_ext autoreload\n",
    "%autoreload 2"
   ]
  },
  {
   "cell_type": "code",
   "execution_count": 25,
   "metadata": {},
   "outputs": [
    {
     "name": "stdout",
     "output_type": "stream",
     "text": [
      "Loading data for animal ids:  ['W051', 'W060', 'W065', 'W066', 'W068', 'W072', 'W073', 'W074', 'W075', 'W078', 'W080', 'W081', 'W082', 'W083', 'W088', 'W089', 'W094']\n"
     ]
    }
   ],
   "source": [
    "df_all = DatasetLoader(data_type=\"new_trained\").load_data()"
   ]
  },
  {
   "cell_type": "code",
   "execution_count": 29,
   "metadata": {},
   "outputs": [
    {
     "data": {
      "text/plain": [
       "0.034178431935407615"
      ]
     },
     "execution_count": 29,
     "metadata": {},
     "output_type": "execute_result"
    }
   ],
   "source": [
    "df_all.groupby(\"animal_id\").n_prev_trial_not_started.mean().mean()"
   ]
  },
  {
   "cell_type": "code",
   "execution_count": 2,
   "metadata": {},
   "outputs": [
    {
     "name": "stdout",
     "output_type": "stream",
     "text": [
      "Loading data for animal ids:  ['W078']\n"
     ]
    }
   ],
   "source": [
    "df = DatasetLoader([\"W078\"], data_type=\"new_trained\").load_data()"
   ]
  },
  {
   "cell_type": "code",
   "execution_count": 7,
   "metadata": {},
   "outputs": [
    {
     "data": {
      "text/plain": [
       "Index(['animal_id', 'session_date', 'session_file_counter', 'rig_id',\n",
       "       'training_stage', 's_a', 's_b', 'hit', 'violation', 'trial_not_started',\n",
       "       's_a_sigma', 'rule', 'correct_side', 'violation_penalty_time',\n",
       "       'error_penalty_time', 'delayed_reward_time', 'pre_stim_time',\n",
       "       's_a_time', 'delay_time', 's_b_time', 'post_s_b_to_go_cue_time',\n",
       "       'go_cue_time', 'fixation_time', 'trial_start_wait_time', 'l_water_vol',\n",
       "       'r_water_vol', 'antibias_beta', 'antibias_right_prob',\n",
       "       'using_psychometric_pairs', 'choice', 'session',\n",
       "       'session_relative_to_old', 'n_prev_trial_not_started', 'trial'],\n",
       "      dtype='object')"
      ]
     },
     "execution_count": 7,
     "metadata": {},
     "output_type": "execute_result"
    }
   ],
   "source": [
    "df.columns"
   ]
  },
  {
   "cell_type": "code",
   "execution_count": 3,
   "metadata": {},
   "outputs": [],
   "source": [
    "def calculate_prev_violation(group):\n",
    "    session_boundaries_mask = group[\"session\"].diff() == 0\n",
    "    group[\"prev_violation\"] = (\n",
    "        group[\"violation\"].shift() * session_boundaries_mask\n",
    "    ).fillna(0)\n",
    "    return group\n",
    "\n",
    "\n",
    "df = df.groupby(\"animal_id\").apply(calculate_prev_violation).reset_index(drop=True)"
   ]
  },
  {
   "cell_type": "code",
   "execution_count": 20,
   "metadata": {},
   "outputs": [],
   "source": [
    "df[\"prev_trial_not_started\"] = df.n_prev_trial_not_started != 0"
   ]
  },
  {
   "cell_type": "code",
   "execution_count": 16,
   "metadata": {},
   "outputs": [],
   "source": [
    "df[\"prev_disengaged\"] = (df.n_prev_trial_not_started != 0) | (\n",
    "    df.prev_violation == 1\n",
    ").astype(int)"
   ]
  },
  {
   "cell_type": "code",
   "execution_count": 19,
   "metadata": {},
   "outputs": [],
   "source": [
    "X, y = DesignMatrixGeneratorFilteredHistory().generate_design_matrix(\n",
    "    df, filter_params={\"prev_violation\": 0}, prev_disengaged=True\n",
    ")"
   ]
  },
  {
   "cell_type": "code",
   "execution_count": 20,
   "metadata": {},
   "outputs": [
    {
     "data": {
      "text/plain": [
       "Index(['bias', 'session', 's_a', 's_b', 'prev_sound_avg', 'prev_correct',\n",
       "       'prev_choice', 'prev_disengaged'],\n",
       "      dtype='object')"
      ]
     },
     "execution_count": 20,
     "metadata": {},
     "output_type": "execute_result"
    }
   ],
   "source": [
    "X.columns"
   ]
  },
  {
   "cell_type": "code",
   "execution_count": 18,
   "metadata": {},
   "outputs": [
    {
     "data": {
      "text/plain": [
       "count    80582.000000\n",
       "mean         0.000919\n",
       "std          0.013260\n",
       "min          0.000000\n",
       "25%          0.000000\n",
       "50%          0.000000\n",
       "75%          0.000000\n",
       "max          1.000000\n",
       "Name: prev_trial_not_started, dtype: float64"
      ]
     },
     "execution_count": 18,
     "metadata": {},
     "output_type": "execute_result"
    }
   ],
   "source": [
    "X.prev_trial_not_started.describe()"
   ]
  }
 ],
 "metadata": {
  "kernelspec": {
   "display_name": "an_lrn",
   "language": "python",
   "name": "python3"
  },
  "language_info": {
   "codemirror_mode": {
    "name": "ipython",
    "version": 3
   },
   "file_extension": ".py",
   "mimetype": "text/x-python",
   "name": "python",
   "nbconvert_exporter": "python",
   "pygments_lexer": "ipython3",
   "version": "3.10.0"
  }
 },
 "nbformat": 4,
 "nbformat_minor": 2
}
