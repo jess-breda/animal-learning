{
 "cells": [
  {
   "cell_type": "markdown",
   "metadata": {},
   "source": [
    "## Multi-class Model Development with PWM\n",
    "\n",
    "> Written by Jess Breda August 2023\n",
    "\n",
    "For this notebook, I'm going to focus on fitting a single animal (W065) since they are \"trained\" before the violations stopped being tracked, and they have 50K trials pre-violation cutoff. See `create_violation_dataset.ipynb` for supporting figures"
   ]
  },
  {
   "cell_type": "code",
   "execution_count": 19,
   "metadata": {},
   "outputs": [],
   "source": [
    "import pathlib\n",
    "import platform\n",
    "\n",
    "import numpy as np\n",
    "from matplotlib import pyplot as plt\n",
    "import seaborn as sns\n",
    "import pandas as pd\n",
    "\n",
    "sns.set_context(\"talk\")\n",
    "\n",
    "from scipy.optimize import minimize\n",
    "from sklearn.model_selection import KFold, train_test_split\n",
    "\n",
    "MODE = \"local\""
   ]
  },
  {
   "cell_type": "markdown",
   "metadata": {},
   "source": [
    "### Data Load "
   ]
  },
  {
   "cell_type": "code",
   "execution_count": 2,
   "metadata": {},
   "outputs": [],
   "source": [
    "if platform.system() == \"Windows\":\n",
    "    DATA_PATH = pathlib.Path(\"X:\\jbreda\\learning_project\\data\")\n",
    "else:\n",
    "    if MODE == \"cup\":\n",
    "        DATA_PATH = pathlib.Path(\"/Volumes/brody/jbreda/learning_project/data\")\n",
    "    elif MODE == \"local\":\n",
    "        DATA_PATH = pathlib.Path(\"/Users/jessbreda/Desktop/github/animal-learning/data\")\n",
    "F_NAME = \"processed/violation_data.csv\"\n",
    "ANIMAL_ID = \"W065\""
   ]
  },
  {
   "cell_type": "code",
   "execution_count": 20,
   "metadata": {},
   "outputs": [],
   "source": [
    "RAT_DF = pd.read_csv(DATA_PATH / F_NAME)\n",
    "df = RAT_DF.query(\"animal_id == @ANIMAL_ID\").reset_index().copy()"
   ]
  },
  {
   "cell_type": "markdown",
   "metadata": {},
   "source": [
    "### Create Design Matrix"
   ]
  },
  {
   "cell_type": "code",
   "execution_count": 4,
   "metadata": {},
   "outputs": [],
   "source": [
    "# def create_features_and_targets(df, animal_id, n_trials):\n",
    "#     animal_df = df.query(\"animal_id == @animal_id\").copy()\n",
    "#     animal_df = animal_df[:n_trials]\n",
    "\n",
    "#     X = pd.DataFrame()\n",
    "\n",
    "#     return X, y"
   ]
  },
  {
   "cell_type": "code",
   "execution_count": 21,
   "metadata": {},
   "outputs": [],
   "source": [
    "X = pd.DataFrame()\n",
    "\n",
    "# normalize sa/sb to standard normal\n",
    "X[\"s_a\"] = (df.s_a - df.s_a.mean()) / df.s_a.std()\n",
    "X[\"s_b\"] = (df.s_b - df.s_b.mean()) / df.s_b.std()\n",
    "\n",
    "# determine session boundaries\n",
    "session_boundaries_mask = df[\"session\"].diff() == 0\n",
    "\n",
    "# get average stimulus loudness from previous trial (if exists)\n",
    "X[\"s_avg\"] = df[[\"s_a\", \"s_b\"]].shift().mean(axis=1)\n",
    "X[\"s_avg\"] = (X.s_avg - X.s_avg.mean()) / X.s_avg.std()\n",
    "X[\"s_avg\"] = X.s_avg * session_boundaries_mask\n",
    "\n",
    "# prev correct side (L, R) (0, 1) -> (-1, 1) [h in psytrack]\n",
    "X[\"prev_correct\"] = (df[\"correct_side\"] * 2 - 1).astype(int).shift()\n",
    "X[\"prev_correct\"] = X.prev_correct * session_boundaries_mask\n",
    "\n",
    "X.fillna(0, inplace=True)\n",
    "X.insert(0, \"bias\", 1)\n",
    "\n",
    "# prev choice- idk!\n",
    "\n",
    "Y = pd.get_dummies(df[\"choice\"], \"choice\", dummy_na=True).to_numpy(copy=True)"
   ]
  },
  {
   "cell_type": "code",
   "execution_count": 7,
   "metadata": {},
   "outputs": [
    {
     "data": {
      "text/plain": [
       "((50105, 5), (50105, 3))"
      ]
     },
     "execution_count": 7,
     "metadata": {},
     "output_type": "execute_result"
    }
   ],
   "source": [
    "X.shape, Y.shape"
   ]
  },
  {
   "cell_type": "code",
   "execution_count": null,
   "metadata": {},
   "outputs": [],
   "source": [
    "## NICKS CODE\n",
    "df = df[:first]  # restrict to \"first\" trials of data\n",
    "# remove sessions with fewer than \"cutoff\" valid trials\n",
    "df = df.groupby('session').filter(lambda x: len(x) >= cutoff)   \n",
    "\n",
    "# Normalize the stimuli to standard normal\n",
    "s_a = (df[\"s_a\"] - np.mean(df[\"s_a\"]))/np.std(df[\"s_a\"])\n",
    "s_b = (df[\"s_b\"] - np.mean(df[\"s_b\"]))/np.std(df[\"s_b\"])\n",
    "\n",
    "# Determine which trials do not have a valid previous trial (mistrial or session boundary)\n",
    "t = np.array(df[\"trial\"])\n",
    "prior = ((t[1:] - t[:-1]) == 1).astype(int)\n",
    "prior = np.hstack(([0], prior))\n",
    "\n",
    "# Calculate previous average tone value\n",
    "s_avg = (df[\"s_a\"][:-1] + df[\"s_b\"][:-1])/2\n",
    "s_avg = (s_avg - np.mean(s_avg))/np.std(s_avg)\n",
    "s_avg = np.hstack(([0], s_avg))\n",
    "s_avg = s_avg * prior  # for trials without a valid previous trial, set to 0\n",
    "\n",
    "# Calculate previous correct answer\n",
    "h = (df[\"correct_side\"][:-1] * 2 - 1).astype(int)   # map from (0,1) to (-1,1)\n",
    "h = np.hstack(([0], h))\n",
    "h = h * prior  # for trials without a valid previous trial, set to 0\n",
    "\n",
    "# Calculate previous choice\n",
    "c = (df[\"choice\"][:-1] * 2 - 1).astype(int)   # map from (0,1) to (-1,1)\n",
    "c = np.hstack(([0], c))\n",
    "c = c * prior  # for trials without a valid previous trial, set to 0"
   ]
  },
  {
   "cell_type": "markdown",
   "metadata": {},
   "source": [
    "### Fit Data"
   ]
  },
  {
   "cell_type": "code",
   "execution_count": 10,
   "metadata": {},
   "outputs": [],
   "source": [
    "## Function for Multi-class Logistic Regression\n",
    "def log_sum_exp(logits):\n",
    "    \"\"\"\n",
    "    Compute the log of the sum of exponentials in a\n",
    "    numerically stable way by subtracting off the largest\n",
    "    logit.\n",
    "    \"\"\"\n",
    "    max_logits = np.max(logits, axis=1, keepdims=True)\n",
    "    return (\n",
    "        np.log(np.sum(np.exp(logits - max_logits), axis=1, keepdims=True)) + max_logits\n",
    "    )\n",
    "\n",
    "\n",
    "def stable_softmax(logits):\n",
    "    # use log-sum-exp for numerical stability\n",
    "    exp_logits = np.exp(logits - np.max(logits, axis=1, keepdims=True))\n",
    "\n",
    "    # sum over classes & normalize\n",
    "    sum_exp = np.sum(exp_logits, axis=1, keepdims=True)\n",
    "    return exp_logits / sum_exp\n",
    "\n",
    "\n",
    "def multiclass_logistic_cost(W, X, Y, sigma=None):\n",
    "    \"\"\"\n",
    "    Compute the negative log-likelihood for multi-class\n",
    "    logistic regression with L2 regularization (or MAP).\n",
    "\n",
    "    params:\n",
    "    ------\n",
    "    W: Weights matrix of shape (D+1, C)\n",
    "    X: Data matrix of shape (N, D+1)\n",
    "    Y: One-hot encoded labels of shape (N, C)\n",
    "    sigma : float (default: None)\n",
    "        Standard deviation of Gaussian prior, if None\n",
    "        no regularization is applied.\n",
    "\n",
    "    Returns:\n",
    "    - nll: Regularized negative log-likelihood\n",
    "    \"\"\"\n",
    "\n",
    "    logits = X @ W\n",
    "\n",
    "    if sigma:\n",
    "        # print(f\"running with {sigma}!\")\n",
    "        penalty = 1 / (2 * (sigma**2)) * np.trace(W[1:, :].T @ W[1:, :])\n",
    "    else:\n",
    "        penalty = 0\n",
    "        # print(\"skipping sigma!\")\n",
    "\n",
    "    nll = (-np.sum(Y * logits) + np.sum(log_sum_exp(logits))) + penalty\n",
    "    return nll\n",
    "\n",
    "\n",
    "def multiclass_logistic_gradient(W, X, Y, sigma=None):\n",
    "    \"\"\"\n",
    "    Compute the gradient of the negative log-likelihood for\n",
    "    multi-class logistic regression with L2 regularization (or MAP).\n",
    "\n",
    "    params:\n",
    "    ------\n",
    "    W: Weights matrix of shape (D+1, C)\n",
    "    X: Data matrix of shape (N, D+1)\n",
    "    Y: One-hot encoded labels of shape (N, C)\n",
    "    sigma : float (default: None)\n",
    "        Standard deviation of Gaussian prior, if None\n",
    "        no regularization is applied.\n",
    "\n",
    "    Returns:\n",
    "    - gradient : Gradient of shape (D+1, C)\n",
    "    \"\"\"\n",
    "\n",
    "    logits = X @ W\n",
    "    P = stable_softmax(logits)\n",
    "\n",
    "    if sigma:\n",
    "        penalty_gradient = W / (sigma**2)\n",
    "        penalty_gradient[0, :] = 0  # No penalty for bias\n",
    "    else:\n",
    "        penalty_gradient = 0\n",
    "\n",
    "    gradient = X.T @ (P - Y) + penalty_gradient\n",
    "    return gradient\n",
    "\n",
    "\n",
    "def cost_function_to_minimize(W_flat, X, Y, sigma=None):\n",
    "    W_matrix = W_flat.reshape(D + 1, C)\n",
    "    return multiclass_logistic_cost(W_matrix, X, Y, sigma)\n",
    "\n",
    "\n",
    "def gradient_function_to_minimize(W_flat, X, Y, sigma=None):\n",
    "    W_matrix = W_flat.reshape(D + 1, C)\n",
    "    grad_matrix = multiclass_logistic_gradient(W_matrix, X, Y, sigma)\n",
    "    return grad_matrix.flatten()"
   ]
  },
  {
   "cell_type": "code",
   "execution_count": 8,
   "metadata": {},
   "outputs": [],
   "source": [
    "N = len(X)\n",
    "D = X.shape[1] - 1\n",
    "C = Y.shape[1]"
   ]
  },
  {
   "cell_type": "code",
   "execution_count": 12,
   "metadata": {},
   "outputs": [
    {
     "name": "stdout",
     "output_type": "stream",
     "text": [
      "RUNNING THE L-BFGS-B CODE\n",
      "\n",
      "           * * *\n",
      "\n",
      "Machine precision = 2.220D-16\n",
      " N =           15     M =           10\n",
      "\n",
      "At X0         0 variables are exactly at the bounds\n",
      "\n",
      "At iterate    0    f=  5.50460D+04    |proj g|=  8.06550D+03\n",
      "\n",
      "At iterate    1    f=  5.16365D+04    |proj g|=  5.71682D+03\n",
      "\n",
      "At iterate    2    f=  4.97524D+04    |proj g|=  2.57935D+03\n",
      "\n",
      "At iterate    3    f=  4.90532D+04    |proj g|=  1.44652D+03\n",
      "\n",
      "At iterate    4    f=  4.86696D+04    |proj g|=  8.87372D+02\n",
      "\n",
      "At iterate    5    f=  4.85901D+04    |proj g|=  4.66415D+02\n",
      "\n",
      "At iterate    6    f=  4.85718D+04    |proj g|=  1.33511D+02\n",
      "\n",
      "At iterate    7    f=  4.85697D+04    |proj g|=  3.90932D+01\n",
      "\n",
      "At iterate    8    f=  4.85696D+04    |proj g|=  1.77883D+01\n",
      "\n",
      "At iterate    9    f=  4.85695D+04    |proj g|=  1.48390D+01\n",
      "\n",
      "At iterate   10    f=  4.85695D+04    |proj g|=  4.41245D+00\n",
      "\n",
      "At iterate   11    f=  4.85695D+04    |proj g|=  1.60689D+00\n",
      "\n",
      "At iterate   12    f=  4.85695D+04    |proj g|=  2.27370D-01\n",
      "\n",
      "At iterate   13    f=  4.85695D+04    |proj g|=  3.24122D-02\n",
      "\n",
      "           * * *\n",
      "\n",
      "Tit   = total number of iterations\n",
      "Tnf   = total number of function evaluations\n",
      "Tnint = total number of segments explored during Cauchy searches\n",
      "Skip  = number of BFGS updates skipped\n",
      "Nact  = number of active bounds at final generalized Cauchy point\n",
      "Projg = norm of the final projected gradient\n",
      "F     = final function value\n",
      "\n",
      "           * * *\n",
      "\n",
      "   N    Tit     Tnf  Tnint  Skip  Nact     Projg        F\n",
      "   15     13     14      1     0     0   3.241D-02   4.857D+04\n",
      "  F =   48569.454521531610     \n",
      "\n",
      "CONVERGENCE: REL_REDUCTION_OF_F_<=_FACTR*EPSMCH             \n"
     ]
    },
    {
     "name": "stderr",
     "output_type": "stream",
     "text": [
      " This problem is unconstrained.\n"
     ]
    }
   ],
   "source": [
    "# Initial weights\n",
    "initial_W_flat = np.zeros((D + 1) * C)\n",
    "sigma = 0.2\n",
    "\n",
    "# Optimization using L-BFGS-B\n",
    "result = minimize(\n",
    "    fun=cost_function_to_minimize,\n",
    "    x0=initial_W_flat,\n",
    "    args=(X.to_numpy(), Y, sigma),\n",
    "    method=\"L-BFGS-B\",\n",
    "    jac=gradient_function_to_minimize,\n",
    "    options={\"disp\": True, \"maxiter\": 10000},\n",
    ")\n",
    "optimized_W = result.x.reshape(D + 1, C)"
   ]
  },
  {
   "cell_type": "markdown",
   "metadata": {},
   "source": [
    "### Visualize"
   ]
  },
  {
   "cell_type": "code",
   "execution_count": 14,
   "metadata": {},
   "outputs": [],
   "source": [
    "def plot_weight_differences(X, optimized_W):\n",
    "    \"\"\"\n",
    "    Plot the differences between consecutive as bar charts.\n",
    "\n",
    "    Parameters:\n",
    "    - X: data frame of design matrix\n",
    "    - optimized_W: weights obtained after optimization\n",
    "\n",
    "    Returns:\n",
    "    - plots the differences.\n",
    "    \"\"\"\n",
    "\n",
    "    # Number of classes\n",
    "    D_w_bias = optimized_W.shape[0]\n",
    "    C = optimized_W.shape[1]\n",
    "\n",
    "    # Prepare data for Seaborn\n",
    "    diff_data = []\n",
    "    for c in range(C - 1):\n",
    "        differences = optimized_W[:, c] - optimized_W[:, c + 1]\n",
    "        for i, diff in enumerate(differences):\n",
    "            diff_data.append(\n",
    "                {\n",
    "                    \"Difference\": diff,\n",
    "                    \"Feature\": X.columns[i],\n",
    "                    \"Pairing\": f\"Weights {c+1} - {c+2}\",\n",
    "                }\n",
    "            )\n",
    "\n",
    "    df_diff = pd.DataFrame(diff_data)\n",
    "\n",
    "    # Plot using Seaborn\n",
    "    fig, ax = plt.subplots(figsize=(10, 6))\n",
    "    sns.barplot(x=\"Feature\", y=\"Difference\", hue=\"Pairing\", data=df_diff, ax=ax)\n",
    "    ax.axhline(y=0, color=\"black\")\n",
    "    plt.xticks(rotation=90)\n",
    "    plt.legend(loc=\"upper right\")\n",
    "\n",
    "\n",
    "def plot_class_weights(X, optimized_W):\n",
    "    \"\"\"\n",
    "    Plot the weights for each feature and class as bar charts.\n",
    "\n",
    "    Parameters:\n",
    "    - X: data frame of design matrix (N x D)\n",
    "    - optimized_W: weights obtained after optimization (D x C)\n",
    "\n",
    "    Returns:\n",
    "    - plots the weights.\n",
    "    \"\"\"\n",
    "\n",
    "    # Extract shape details\n",
    "    D, C = optimized_W.shape\n",
    "    classes = [\"L\", \"R\", \"V\"]\n",
    "\n",
    "    # Prepare data for Seaborn\n",
    "    weight_data = []\n",
    "    for c in range(C):\n",
    "        for d in range(D):\n",
    "            weight_data.append(\n",
    "                {\n",
    "                    \"Weight\": optimized_W[d, c],\n",
    "                    \"Feature\": X.columns[d],\n",
    "                    \"Class\": classes[c],\n",
    "                }\n",
    "            )\n",
    "\n",
    "    df_weights = pd.DataFrame(weight_data)\n",
    "\n",
    "    # Plot using Seaborn\n",
    "    plt.figure(figsize=(15, 6))\n",
    "    sns.barplot(x=\"Feature\", y=\"Weight\", hue=\"Class\", data=df_weights)\n",
    "    plt.xticks(rotation=90)\n",
    "    plt.legend(loc=\"upper right\")\n",
    "    plt.show()"
   ]
  },
  {
   "cell_type": "code",
   "execution_count": 17,
   "metadata": {},
   "outputs": [
    {
     "data": {
      "image/png": "[encoded data removed]",
      "text/plain": [
       "<Figure size 1500x600 with 1 Axes>"
      ]
     },
     "metadata": {},
     "output_type": "display_data"
    }
   ],
   "source": [
    "# Call the function\n",
    "plot_class_weights(X, optimized_W)"
   ]
  },
  {
   "cell_type": "code",
   "execution_count": 16,
   "metadata": {},
   "outputs": [
    {
     "data": {
      "image/png": "[encoded data removed]",
      "text/plain": [
       "<Figure size 1000x600 with 1 Axes>"
      ]
     },
     "metadata": {},
     "output_type": "display_data"
    }
   ],
   "source": [
    "plot_weight_differences(X, optimized_W)"
   ]
  }
 ],
 "metadata": {
  "kernelspec": {
   "display_name": "an_lrn",
   "language": "python",
   "name": "python3"
  },
  "language_info": {
   "codemirror_mode": {
    "name": "ipython",
    "version": 3
   },
   "file_extension": ".py",
   "mimetype": "text/x-python",
   "name": "python",
   "nbconvert_exporter": "python",
   "pygments_lexer": "ipython3",
   "version": "3.10.0"
  },
  "orig_nbformat": 4
 },
 "nbformat": 4,
 "nbformat_minor": 2
}
