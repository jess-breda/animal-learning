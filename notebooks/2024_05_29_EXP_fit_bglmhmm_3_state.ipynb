{
 "cells": [
  {
   "cell_type": "markdown",
   "metadata": {},
   "source": [
    "# Fit binary GLM-HMM with 3 states\n",
    "\n",
    "Will fit all animals and make figures in figures/glmhmm/initial_fits"
   ]
  },
  {
   "cell_type": "code",
   "execution_count": 1,
   "metadata": {},
   "outputs": [
    {
     "name": "stderr",
     "output_type": "stream",
     "text": [
      "/Users/jessbreda/anaconda3/envs/an_lrn/lib/python3.10/site-packages/tqdm/auto.py:21: TqdmWarning: IProgress not found. Please update jupyter and ipywidgets. See https://ipywidgets.readthedocs.io/en/stable/user_install.html\n",
      "  from .autonotebook import tqdm as notebook_tqdm\n"
     ]
    }
   ],
   "source": [
    "from multiglm.experiments.experiment_binary_glmhmm import *\n",
    "from multiglm.features.design_matrix_generator_PWM import *\n",
    "from multiglm.data import ANIMAL_IDS\n",
    "\n",
    "\n",
    "\n",
    "%load_ext autoreload\n",
    "%autoreload 2\n",
    "\n",
    "sns.set_context('talk')"
   ]
  },
  {
   "cell_type": "code",
   "execution_count": 2,
   "metadata": {},
   "outputs": [
    {
     "name": "stdout",
     "output_type": "stream",
     "text": [
      "Loading data for animal ids:  ['W051', 'W060', 'W065', 'W066', 'W068', 'W072', 'W073', 'W074', 'W075', 'W078', 'W080', 'W081', 'W082', 'W083', 'W088', 'W089', 'W094']\n",
      "Running GLM-HMM for animal W051\n",
      "DMG: Creating data matrix with columns: dict_keys(['s_a', 's_b', 'bias', 'session'])\n",
      "DMG: Creating labels with column: choice.\n",
      "DMG: Dropping 13570 nan rows from data and labels.\n",
      "DMG: Binary encoding labels.\n",
      "SSM Preprocessing: 273 sessions found.\n"
     ]
    },
    {
     "name": "stderr",
     "output_type": "stream",
     "text": [
      "LP: -38842.6: 100%|██████████| 200/200 [01:09<00:00,  2.88it/s]\n",
      "/Users/jessbreda/anaconda3/envs/an_lrn/lib/python3.10/site-packages/seaborn/_oldcore.py:1765: FutureWarning: unique with argument that is not not a Series, Index, ExtensionArray, or np.ndarray is deprecated and will raise in a future version.\n",
      "  order = pd.unique(vector)\n"
     ]
    },
    {
     "name": "stdout",
     "output_type": "stream",
     "text": [
      "VIZ: Summary figure saved\n",
      "-----------\n",
      "\n",
      "Running GLM-HMM for animal W060\n",
      "DMG: Creating data matrix with columns: dict_keys(['s_a', 's_b', 'bias', 'session'])\n",
      "DMG: Creating labels with column: choice.\n",
      "DMG: Dropping 11156 nan rows from data and labels.\n",
      "DMG: Binary encoding labels.\n",
      "SSM Preprocessing: 237 sessions found.\n"
     ]
    },
    {
     "name": "stderr",
     "output_type": "stream",
     "text": [
      "LP: -31308.7: 100%|██████████| 200/200 [00:50<00:00,  3.93it/s]\n",
      "/Users/jessbreda/anaconda3/envs/an_lrn/lib/python3.10/site-packages/seaborn/_oldcore.py:1765: FutureWarning: unique with argument that is not not a Series, Index, ExtensionArray, or np.ndarray is deprecated and will raise in a future version.\n",
      "  order = pd.unique(vector)\n"
     ]
    },
    {
     "name": "stdout",
     "output_type": "stream",
     "text": [
      "VIZ: Summary figure saved\n",
      "-----------\n",
      "\n",
      "Running GLM-HMM for animal W065\n",
      "DMG: Creating data matrix with columns: dict_keys(['s_a', 's_b', 'bias', 'session'])\n",
      "DMG: Creating labels with column: choice.\n",
      "DMG: Dropping 20462 nan rows from data and labels.\n",
      "DMG: Binary encoding labels.\n",
      "SSM Preprocessing: 295 sessions found.\n"
     ]
    },
    {
     "name": "stderr",
     "output_type": "stream",
     "text": [
      "LP: -26441.7: 100%|██████████| 200/200 [00:57<00:00,  3.47it/s]\n",
      "/Users/jessbreda/anaconda3/envs/an_lrn/lib/python3.10/site-packages/seaborn/_oldcore.py:1765: FutureWarning: unique with argument that is not not a Series, Index, ExtensionArray, or np.ndarray is deprecated and will raise in a future version.\n",
      "  order = pd.unique(vector)\n"
     ]
    },
    {
     "name": "stdout",
     "output_type": "stream",
     "text": [
      "VIZ: Summary figure saved\n",
      "-----------\n",
      "\n",
      "Running GLM-HMM for animal W066\n",
      "DMG: Creating data matrix with columns: dict_keys(['s_a', 's_b', 'bias', 'session'])\n",
      "DMG: Creating labels with column: choice.\n",
      "DMG: Dropping 29994 nan rows from data and labels.\n",
      "DMG: Binary encoding labels.\n",
      "SSM Preprocessing: 364 sessions found.\n"
     ]
    },
    {
     "name": "stderr",
     "output_type": "stream",
     "text": [
      "LP: -41591.3: 100%|██████████| 200/200 [01:24<00:00,  2.36it/s]\n",
      "/Users/jessbreda/anaconda3/envs/an_lrn/lib/python3.10/site-packages/seaborn/_oldcore.py:1765: FutureWarning: unique with argument that is not not a Series, Index, ExtensionArray, or np.ndarray is deprecated and will raise in a future version.\n",
      "  order = pd.unique(vector)\n"
     ]
    },
    {
     "name": "stdout",
     "output_type": "stream",
     "text": [
      "VIZ: Summary figure saved\n",
      "-----------\n",
      "\n",
      "Running GLM-HMM for animal W068\n",
      "DMG: Creating data matrix with columns: dict_keys(['s_a', 's_b', 'bias', 'session'])\n",
      "DMG: Creating labels with column: choice.\n",
      "DMG: Dropping 17869 nan rows from data and labels.\n",
      "DMG: Binary encoding labels.\n",
      "SSM Preprocessing: 264 sessions found.\n"
     ]
    },
    {
     "name": "stderr",
     "output_type": "stream",
     "text": [
      "LP: -45076.2: 100%|██████████| 200/200 [01:09<00:00,  2.89it/s]\n",
      "/Users/jessbreda/anaconda3/envs/an_lrn/lib/python3.10/site-packages/seaborn/_oldcore.py:1765: FutureWarning: unique with argument that is not not a Series, Index, ExtensionArray, or np.ndarray is deprecated and will raise in a future version.\n",
      "  order = pd.unique(vector)\n"
     ]
    },
    {
     "name": "stdout",
     "output_type": "stream",
     "text": [
      "VIZ: Summary figure saved\n",
      "-----------\n",
      "\n",
      "Running GLM-HMM for animal W072\n",
      "DMG: Creating data matrix with columns: dict_keys(['s_a', 's_b', 'bias', 'session'])\n",
      "DMG: Creating labels with column: choice.\n",
      "DMG: Dropping 14463 nan rows from data and labels.\n",
      "DMG: Binary encoding labels.\n",
      "SSM Preprocessing: 415 sessions found.\n"
     ]
    },
    {
     "name": "stderr",
     "output_type": "stream",
     "text": [
      "LP: -34533.5: 100%|██████████| 200/200 [01:19<00:00,  2.51it/s]\n",
      "/Users/jessbreda/anaconda3/envs/an_lrn/lib/python3.10/site-packages/seaborn/_oldcore.py:1765: FutureWarning: unique with argument that is not not a Series, Index, ExtensionArray, or np.ndarray is deprecated and will raise in a future version.\n",
      "  order = pd.unique(vector)\n"
     ]
    },
    {
     "name": "stdout",
     "output_type": "stream",
     "text": [
      "VIZ: Summary figure saved\n",
      "-----------\n",
      "\n",
      "Running GLM-HMM for animal W073\n",
      "DMG: Creating data matrix with columns: dict_keys(['s_a', 's_b', 'bias', 'session'])\n",
      "DMG: Creating labels with column: choice.\n",
      "DMG: Dropping 16513 nan rows from data and labels.\n",
      "DMG: Binary encoding labels.\n",
      "SSM Preprocessing: 400 sessions found.\n"
     ]
    },
    {
     "name": "stderr",
     "output_type": "stream",
     "text": [
      "LP: -41676.3: 100%|██████████| 200/200 [01:34<00:00,  2.13it/s]\n",
      "/Users/jessbreda/anaconda3/envs/an_lrn/lib/python3.10/site-packages/seaborn/_oldcore.py:1765: FutureWarning: unique with argument that is not not a Series, Index, ExtensionArray, or np.ndarray is deprecated and will raise in a future version.\n",
      "  order = pd.unique(vector)\n"
     ]
    },
    {
     "name": "stdout",
     "output_type": "stream",
     "text": [
      "VIZ: Summary figure saved\n",
      "-----------\n",
      "\n",
      "Running GLM-HMM for animal W074\n",
      "DMG: Creating data matrix with columns: dict_keys(['s_a', 's_b', 'bias', 'session'])\n",
      "DMG: Creating labels with column: choice.\n",
      "DMG: Dropping 22505 nan rows from data and labels.\n",
      "DMG: Binary encoding labels.\n",
      "SSM Preprocessing: 515 sessions found.\n"
     ]
    },
    {
     "name": "stderr",
     "output_type": "stream",
     "text": [
      "LP: -67295.7: 100%|██████████| 200/200 [02:19<00:00,  1.43it/s]\n",
      "/Users/jessbreda/anaconda3/envs/an_lrn/lib/python3.10/site-packages/seaborn/_oldcore.py:1765: FutureWarning: unique with argument that is not not a Series, Index, ExtensionArray, or np.ndarray is deprecated and will raise in a future version.\n",
      "  order = pd.unique(vector)\n"
     ]
    },
    {
     "name": "stdout",
     "output_type": "stream",
     "text": [
      "VIZ: Summary figure saved\n",
      "-----------\n",
      "\n",
      "Running GLM-HMM for animal W075\n",
      "DMG: Creating data matrix with columns: dict_keys(['s_a', 's_b', 'bias', 'session'])\n",
      "DMG: Creating labels with column: choice.\n",
      "DMG: Dropping 39771 nan rows from data and labels.\n",
      "DMG: Binary encoding labels.\n",
      "SSM Preprocessing: 552 sessions found.\n"
     ]
    },
    {
     "name": "stderr",
     "output_type": "stream",
     "text": [
      "LP: -58209.7: 100%|██████████| 200/200 [01:58<00:00,  1.69it/s]\n",
      "/Users/jessbreda/anaconda3/envs/an_lrn/lib/python3.10/site-packages/seaborn/_oldcore.py:1765: FutureWarning: unique with argument that is not not a Series, Index, ExtensionArray, or np.ndarray is deprecated and will raise in a future version.\n",
      "  order = pd.unique(vector)\n"
     ]
    },
    {
     "name": "stdout",
     "output_type": "stream",
     "text": [
      "VIZ: Summary figure saved\n",
      "-----------\n",
      "\n",
      "Running GLM-HMM for animal W078\n",
      "DMG: Creating data matrix with columns: dict_keys(['s_a', 's_b', 'bias', 'session'])\n",
      "DMG: Creating labels with column: choice.\n",
      "DMG: Dropping 8254 nan rows from data and labels.\n",
      "DMG: Binary encoding labels.\n",
      "SSM Preprocessing: 259 sessions found.\n"
     ]
    },
    {
     "name": "stderr",
     "output_type": "stream",
     "text": [
      "LP: -26342.7: 100%|██████████| 200/200 [00:56<00:00,  3.53it/s]\n",
      "/Users/jessbreda/anaconda3/envs/an_lrn/lib/python3.10/site-packages/seaborn/_oldcore.py:1765: FutureWarning: unique with argument that is not not a Series, Index, ExtensionArray, or np.ndarray is deprecated and will raise in a future version.\n",
      "  order = pd.unique(vector)\n"
     ]
    },
    {
     "name": "stdout",
     "output_type": "stream",
     "text": [
      "VIZ: Summary figure saved\n",
      "-----------\n",
      "\n",
      "Running GLM-HMM for animal W080\n",
      "DMG: Creating data matrix with columns: dict_keys(['s_a', 's_b', 'bias', 'session'])\n",
      "DMG: Creating labels with column: choice.\n",
      "DMG: Dropping 6045 nan rows from data and labels.\n",
      "DMG: Binary encoding labels.\n",
      "SSM Preprocessing: 151 sessions found.\n"
     ]
    },
    {
     "name": "stderr",
     "output_type": "stream",
     "text": [
      "LP: -19094.3: 100%|██████████| 200/200 [00:31<00:00,  6.35it/s]\n",
      "/Users/jessbreda/anaconda3/envs/an_lrn/lib/python3.10/site-packages/seaborn/_oldcore.py:1765: FutureWarning: unique with argument that is not not a Series, Index, ExtensionArray, or np.ndarray is deprecated and will raise in a future version.\n",
      "  order = pd.unique(vector)\n"
     ]
    },
    {
     "name": "stdout",
     "output_type": "stream",
     "text": [
      "VIZ: Summary figure saved\n",
      "-----------\n",
      "\n",
      "Running GLM-HMM for animal W081\n",
      "DMG: Creating data matrix with columns: dict_keys(['s_a', 's_b', 'bias', 'session'])\n",
      "DMG: Creating labels with column: choice.\n",
      "DMG: Dropping 8274 nan rows from data and labels.\n",
      "DMG: Binary encoding labels.\n",
      "SSM Preprocessing: 114 sessions found.\n"
     ]
    },
    {
     "name": "stderr",
     "output_type": "stream",
     "text": [
      "LP: -16589.7: 100%|██████████| 200/200 [00:25<00:00,  7.90it/s]\n",
      "/Users/jessbreda/anaconda3/envs/an_lrn/lib/python3.10/site-packages/seaborn/_oldcore.py:1765: FutureWarning: unique with argument that is not not a Series, Index, ExtensionArray, or np.ndarray is deprecated and will raise in a future version.\n",
      "  order = pd.unique(vector)\n"
     ]
    },
    {
     "name": "stdout",
     "output_type": "stream",
     "text": [
      "VIZ: Summary figure saved\n",
      "-----------\n",
      "\n",
      "Running GLM-HMM for animal W082\n",
      "DMG: Creating data matrix with columns: dict_keys(['s_a', 's_b', 'bias', 'session'])\n",
      "DMG: Creating labels with column: choice.\n",
      "DMG: Dropping 138175 nan rows from data and labels.\n",
      "DMG: Binary encoding labels.\n",
      "SSM Preprocessing: 527 sessions found.\n"
     ]
    },
    {
     "name": "stderr",
     "output_type": "stream",
     "text": [
      "LP: -64990.5: 100%|██████████| 200/200 [01:33<00:00,  2.14it/s]\n",
      "/Users/jessbreda/anaconda3/envs/an_lrn/lib/python3.10/site-packages/seaborn/_oldcore.py:1765: FutureWarning: unique with argument that is not not a Series, Index, ExtensionArray, or np.ndarray is deprecated and will raise in a future version.\n",
      "  order = pd.unique(vector)\n"
     ]
    },
    {
     "name": "stdout",
     "output_type": "stream",
     "text": [
      "VIZ: Summary figure saved\n",
      "-----------\n",
      "\n",
      "Running GLM-HMM for animal W083\n",
      "DMG: Creating data matrix with columns: dict_keys(['s_a', 's_b', 'bias', 'session'])\n",
      "DMG: Creating labels with column: choice.\n",
      "DMG: Dropping 64070 nan rows from data and labels.\n",
      "DMG: Binary encoding labels.\n",
      "SSM Preprocessing: 446 sessions found.\n"
     ]
    },
    {
     "name": "stderr",
     "output_type": "stream",
     "text": [
      "LP: -57432.1: 100%|██████████| 200/200 [01:31<00:00,  2.18it/s]\n",
      "/Users/jessbreda/anaconda3/envs/an_lrn/lib/python3.10/site-packages/seaborn/_oldcore.py:1765: FutureWarning: unique with argument that is not not a Series, Index, ExtensionArray, or np.ndarray is deprecated and will raise in a future version.\n",
      "  order = pd.unique(vector)\n"
     ]
    },
    {
     "name": "stdout",
     "output_type": "stream",
     "text": [
      "VIZ: Summary figure saved\n",
      "-----------\n",
      "\n",
      "Running GLM-HMM for animal W088\n",
      "DMG: Creating data matrix with columns: dict_keys(['s_a', 's_b', 'bias', 'session'])\n",
      "DMG: Creating labels with column: choice.\n",
      "DMG: Dropping 21114 nan rows from data and labels.\n",
      "DMG: Binary encoding labels.\n",
      "SSM Preprocessing: 347 sessions found.\n"
     ]
    },
    {
     "name": "stderr",
     "output_type": "stream",
     "text": [
      "LP: -42156.5: 100%|██████████| 200/200 [01:16<00:00,  2.63it/s]\n",
      "/Users/jessbreda/anaconda3/envs/an_lrn/lib/python3.10/site-packages/seaborn/_oldcore.py:1765: FutureWarning: unique with argument that is not not a Series, Index, ExtensionArray, or np.ndarray is deprecated and will raise in a future version.\n",
      "  order = pd.unique(vector)\n"
     ]
    },
    {
     "name": "stdout",
     "output_type": "stream",
     "text": [
      "VIZ: Summary figure saved\n",
      "-----------\n",
      "\n",
      "Running GLM-HMM for animal W089\n",
      "DMG: Creating data matrix with columns: dict_keys(['s_a', 's_b', 'bias', 'session'])\n",
      "DMG: Creating labels with column: choice.\n",
      "DMG: Dropping 17385 nan rows from data and labels.\n",
      "DMG: Binary encoding labels.\n",
      "SSM Preprocessing: 439 sessions found.\n"
     ]
    },
    {
     "name": "stderr",
     "output_type": "stream",
     "text": [
      "LP: -62753.9: 100%|██████████| 200/200 [01:48<00:00,  1.84it/s]\n",
      "/Users/jessbreda/anaconda3/envs/an_lrn/lib/python3.10/site-packages/seaborn/_oldcore.py:1765: FutureWarning: unique with argument that is not not a Series, Index, ExtensionArray, or np.ndarray is deprecated and will raise in a future version.\n",
      "  order = pd.unique(vector)\n"
     ]
    },
    {
     "name": "stdout",
     "output_type": "stream",
     "text": [
      "VIZ: Summary figure saved\n",
      "-----------\n",
      "\n",
      "Running GLM-HMM for animal W094\n",
      "DMG: Creating data matrix with columns: dict_keys(['s_a', 's_b', 'bias', 'session'])\n",
      "DMG: Creating labels with column: choice.\n",
      "DMG: Dropping 12998 nan rows from data and labels.\n",
      "DMG: Binary encoding labels.\n",
      "SSM Preprocessing: 156 sessions found.\n"
     ]
    },
    {
     "name": "stderr",
     "output_type": "stream",
     "text": [
      "LP: -23417.6: 100%|██████████| 200/200 [00:42<00:00,  4.69it/s]\n",
      "/Users/jessbreda/anaconda3/envs/an_lrn/lib/python3.10/site-packages/seaborn/_oldcore.py:1765: FutureWarning: unique with argument that is not not a Series, Index, ExtensionArray, or np.ndarray is deprecated and will raise in a future version.\n",
      "  order = pd.unique(vector)\n"
     ]
    },
    {
     "name": "stdout",
     "output_type": "stream",
     "text": [
      "VIZ: Summary figure saved\n",
      "-----------\n",
      "\n"
     ]
    }
   ],
   "source": [
    "dmg_config = {\n",
    "    \"s_a\": lambda df: (standardize(df.s_a)),\n",
    "    \"s_b\": lambda df: (standardize(df.s_b)),\n",
    "    \"bias\": lambda df: (add_bias_column(df)),\n",
    "    \"session\": lambda df: (copy(df.session)),\n",
    "    \"labels\": binary_choice_labels(),\n",
    "}\n",
    "\n",
    "model_config = {\n",
    "    \"n_states\": 3,\n",
    "    \"n_features\": 3,  # will need to infer from DMG at some point\n",
    "    \"n_categories\": 2,\n",
    "    \"transitions\": \"standard\",\n",
    "}\n",
    "\n",
    "params = {\n",
    "    \"animal_ids\": ANIMAL_IDS,\n",
    "    \"seed\": 0,\n",
    "    \"dmg_config\": dmg_config,\n",
    "    \"model_config\": model_config,\n",
    "    \"save_path\": \"/Users/jessbreda/Desktop/github/animal-learning/figures/glmhmm/initial_fits\",\n",
    "}\n",
    "test = RunBinaryGLMHMM(params)\n",
    "test.run()"
   ]
  },
  {
   "cell_type": "code",
   "execution_count": 3,
   "metadata": {},
   "outputs": [
    {
     "name": "stdout",
     "output_type": "stream",
     "text": [
      "Loading data for animal ids:  ['W051', 'W060', 'W065', 'W066', 'W068', 'W072', 'W073', 'W074', 'W075', 'W078', 'W080', 'W081', 'W082', 'W083', 'W088', 'W089', 'W094']\n",
      "Running GLM-HMM for animal W051\n",
      "DMG: Creating data matrix with columns: dict_keys(['s_a', 's_b', 'bias', 'prev_viol', 'session'])\n",
      "DMG: Creating labels with column: choice.\n",
      "DMG: Dropping 13570 nan rows from data and labels.\n",
      "DMG: Binary encoding labels.\n",
      "SSM Preprocessing: 273 sessions found.\n"
     ]
    },
    {
     "name": "stderr",
     "output_type": "stream",
     "text": [
      "LP: -38818.5: 100%|██████████| 200/200 [01:32<00:00,  2.16it/s]\n",
      "/Users/jessbreda/anaconda3/envs/an_lrn/lib/python3.10/site-packages/seaborn/_oldcore.py:1765: FutureWarning: unique with argument that is not not a Series, Index, ExtensionArray, or np.ndarray is deprecated and will raise in a future version.\n",
      "  order = pd.unique(vector)\n"
     ]
    },
    {
     "name": "stdout",
     "output_type": "stream",
     "text": [
      "VIZ: Summary figure saved\n",
      "-----------\n",
      "\n",
      "Running GLM-HMM for animal W060\n",
      "DMG: Creating data matrix with columns: dict_keys(['s_a', 's_b', 'bias', 'prev_viol', 'session'])\n",
      "DMG: Creating labels with column: choice.\n",
      "DMG: Dropping 11156 nan rows from data and labels.\n",
      "DMG: Binary encoding labels.\n",
      "SSM Preprocessing: 237 sessions found.\n"
     ]
    },
    {
     "name": "stderr",
     "output_type": "stream",
     "text": [
      "LP: -31322.1: 100%|██████████| 200/200 [01:01<00:00,  3.26it/s]\n",
      "/Users/jessbreda/anaconda3/envs/an_lrn/lib/python3.10/site-packages/seaborn/_oldcore.py:1765: FutureWarning: unique with argument that is not not a Series, Index, ExtensionArray, or np.ndarray is deprecated and will raise in a future version.\n",
      "  order = pd.unique(vector)\n"
     ]
    },
    {
     "name": "stdout",
     "output_type": "stream",
     "text": [
      "VIZ: Summary figure saved\n",
      "-----------\n",
      "\n",
      "Running GLM-HMM for animal W065\n",
      "DMG: Creating data matrix with columns: dict_keys(['s_a', 's_b', 'bias', 'prev_viol', 'session'])\n",
      "DMG: Creating labels with column: choice.\n",
      "DMG: Dropping 20462 nan rows from data and labels.\n",
      "DMG: Binary encoding labels.\n",
      "SSM Preprocessing: 295 sessions found.\n"
     ]
    },
    {
     "name": "stderr",
     "output_type": "stream",
     "text": [
      "LP: -26404.7: 100%|██████████| 200/200 [01:17<00:00,  2.58it/s]\n",
      "/Users/jessbreda/anaconda3/envs/an_lrn/lib/python3.10/site-packages/seaborn/_oldcore.py:1765: FutureWarning: unique with argument that is not not a Series, Index, ExtensionArray, or np.ndarray is deprecated and will raise in a future version.\n",
      "  order = pd.unique(vector)\n"
     ]
    },
    {
     "name": "stdout",
     "output_type": "stream",
     "text": [
      "VIZ: Summary figure saved\n",
      "-----------\n",
      "\n",
      "Running GLM-HMM for animal W066\n",
      "DMG: Creating data matrix with columns: dict_keys(['s_a', 's_b', 'bias', 'prev_viol', 'session'])\n",
      "DMG: Creating labels with column: choice.\n",
      "DMG: Dropping 29994 nan rows from data and labels.\n",
      "DMG: Binary encoding labels.\n",
      "SSM Preprocessing: 364 sessions found.\n"
     ]
    },
    {
     "name": "stderr",
     "output_type": "stream",
     "text": [
      "LP: -41895.3: 100%|██████████| 200/200 [02:05<00:00,  1.60it/s]\n",
      "/Users/jessbreda/anaconda3/envs/an_lrn/lib/python3.10/site-packages/seaborn/_oldcore.py:1765: FutureWarning: unique with argument that is not not a Series, Index, ExtensionArray, or np.ndarray is deprecated and will raise in a future version.\n",
      "  order = pd.unique(vector)\n"
     ]
    },
    {
     "name": "stdout",
     "output_type": "stream",
     "text": [
      "VIZ: Summary figure saved\n",
      "-----------\n",
      "\n",
      "Running GLM-HMM for animal W068\n",
      "DMG: Creating data matrix with columns: dict_keys(['s_a', 's_b', 'bias', 'prev_viol', 'session'])\n",
      "DMG: Creating labels with column: choice.\n",
      "DMG: Dropping 17869 nan rows from data and labels.\n",
      "DMG: Binary encoding labels.\n",
      "SSM Preprocessing: 264 sessions found.\n"
     ]
    },
    {
     "name": "stderr",
     "output_type": "stream",
     "text": [
      "LP: -45069.7: 100%|██████████| 200/200 [01:40<00:00,  1.99it/s]\n",
      "/Users/jessbreda/anaconda3/envs/an_lrn/lib/python3.10/site-packages/seaborn/_oldcore.py:1765: FutureWarning: unique with argument that is not not a Series, Index, ExtensionArray, or np.ndarray is deprecated and will raise in a future version.\n",
      "  order = pd.unique(vector)\n"
     ]
    },
    {
     "name": "stdout",
     "output_type": "stream",
     "text": [
      "VIZ: Summary figure saved\n",
      "-----------\n",
      "\n",
      "Running GLM-HMM for animal W072\n",
      "DMG: Creating data matrix with columns: dict_keys(['s_a', 's_b', 'bias', 'prev_viol', 'session'])\n",
      "DMG: Creating labels with column: choice.\n",
      "DMG: Dropping 14463 nan rows from data and labels.\n",
      "DMG: Binary encoding labels.\n",
      "SSM Preprocessing: 415 sessions found.\n"
     ]
    },
    {
     "name": "stderr",
     "output_type": "stream",
     "text": [
      "LP: -34524.0: 100%|██████████| 200/200 [01:55<00:00,  1.74it/s]\n",
      "/Users/jessbreda/anaconda3/envs/an_lrn/lib/python3.10/site-packages/seaborn/_oldcore.py:1765: FutureWarning: unique with argument that is not not a Series, Index, ExtensionArray, or np.ndarray is deprecated and will raise in a future version.\n",
      "  order = pd.unique(vector)\n"
     ]
    },
    {
     "name": "stdout",
     "output_type": "stream",
     "text": [
      "VIZ: Summary figure saved\n",
      "-----------\n",
      "\n",
      "Running GLM-HMM for animal W073\n",
      "DMG: Creating data matrix with columns: dict_keys(['s_a', 's_b', 'bias', 'prev_viol', 'session'])\n",
      "DMG: Creating labels with column: choice.\n",
      "DMG: Dropping 16513 nan rows from data and labels.\n",
      "DMG: Binary encoding labels.\n",
      "SSM Preprocessing: 400 sessions found.\n"
     ]
    },
    {
     "name": "stderr",
     "output_type": "stream",
     "text": [
      "LP: -41699.3: 100%|██████████| 200/200 [02:06<00:00,  1.58it/s]\n",
      "/Users/jessbreda/anaconda3/envs/an_lrn/lib/python3.10/site-packages/seaborn/_oldcore.py:1765: FutureWarning: unique with argument that is not not a Series, Index, ExtensionArray, or np.ndarray is deprecated and will raise in a future version.\n",
      "  order = pd.unique(vector)\n"
     ]
    },
    {
     "name": "stdout",
     "output_type": "stream",
     "text": [
      "VIZ: Summary figure saved\n",
      "-----------\n",
      "\n",
      "Running GLM-HMM for animal W074\n",
      "DMG: Creating data matrix with columns: dict_keys(['s_a', 's_b', 'bias', 'prev_viol', 'session'])\n",
      "DMG: Creating labels with column: choice.\n",
      "DMG: Dropping 22505 nan rows from data and labels.\n",
      "DMG: Binary encoding labels.\n",
      "SSM Preprocessing: 515 sessions found.\n"
     ]
    },
    {
     "name": "stderr",
     "output_type": "stream",
     "text": [
      "LP: -66099.3: 100%|██████████| 200/200 [13:21<00:00,  4.01s/it]   \n",
      "/Users/jessbreda/anaconda3/envs/an_lrn/lib/python3.10/site-packages/seaborn/_oldcore.py:1765: FutureWarning: unique with argument that is not not a Series, Index, ExtensionArray, or np.ndarray is deprecated and will raise in a future version.\n",
      "  order = pd.unique(vector)\n"
     ]
    },
    {
     "name": "stdout",
     "output_type": "stream",
     "text": [
      "VIZ: Summary figure saved\n",
      "-----------\n",
      "\n",
      "Running GLM-HMM for animal W075\n",
      "DMG: Creating data matrix with columns: dict_keys(['s_a', 's_b', 'bias', 'prev_viol', 'session'])\n",
      "DMG: Creating labels with column: choice.\n",
      "DMG: Dropping 39771 nan rows from data and labels.\n",
      "DMG: Binary encoding labels.\n",
      "SSM Preprocessing: 552 sessions found.\n"
     ]
    },
    {
     "name": "stderr",
     "output_type": "stream",
     "text": [
      "LP: -58190.6: 100%|██████████| 200/200 [02:39<00:00,  1.25it/s]\n",
      "/Users/jessbreda/anaconda3/envs/an_lrn/lib/python3.10/site-packages/seaborn/_oldcore.py:1765: FutureWarning: unique with argument that is not not a Series, Index, ExtensionArray, or np.ndarray is deprecated and will raise in a future version.\n",
      "  order = pd.unique(vector)\n"
     ]
    },
    {
     "name": "stdout",
     "output_type": "stream",
     "text": [
      "VIZ: Summary figure saved\n",
      "-----------\n",
      "\n",
      "Running GLM-HMM for animal W078\n",
      "DMG: Creating data matrix with columns: dict_keys(['s_a', 's_b', 'bias', 'prev_viol', 'session'])\n",
      "DMG: Creating labels with column: choice.\n",
      "DMG: Dropping 8254 nan rows from data and labels.\n",
      "DMG: Binary encoding labels.\n",
      "SSM Preprocessing: 259 sessions found.\n"
     ]
    },
    {
     "name": "stderr",
     "output_type": "stream",
     "text": [
      "LP: -26345.4: 100%|██████████| 200/200 [01:14<00:00,  2.69it/s]\n",
      "/Users/jessbreda/anaconda3/envs/an_lrn/lib/python3.10/site-packages/seaborn/_oldcore.py:1765: FutureWarning: unique with argument that is not not a Series, Index, ExtensionArray, or np.ndarray is deprecated and will raise in a future version.\n",
      "  order = pd.unique(vector)\n"
     ]
    },
    {
     "name": "stdout",
     "output_type": "stream",
     "text": [
      "VIZ: Summary figure saved\n",
      "-----------\n",
      "\n",
      "Running GLM-HMM for animal W080\n",
      "DMG: Creating data matrix with columns: dict_keys(['s_a', 's_b', 'bias', 'prev_viol', 'session'])\n",
      "DMG: Creating labels with column: choice.\n",
      "DMG: Dropping 6045 nan rows from data and labels.\n",
      "DMG: Binary encoding labels.\n",
      "SSM Preprocessing: 151 sessions found.\n"
     ]
    },
    {
     "name": "stderr",
     "output_type": "stream",
     "text": [
      "LP: -19101.6: 100%|██████████| 200/200 [00:46<00:00,  4.34it/s]\n",
      "/Users/jessbreda/anaconda3/envs/an_lrn/lib/python3.10/site-packages/seaborn/_oldcore.py:1765: FutureWarning: unique with argument that is not not a Series, Index, ExtensionArray, or np.ndarray is deprecated and will raise in a future version.\n",
      "  order = pd.unique(vector)\n"
     ]
    },
    {
     "name": "stdout",
     "output_type": "stream",
     "text": [
      "VIZ: Summary figure saved\n",
      "-----------\n",
      "\n",
      "Running GLM-HMM for animal W081\n",
      "DMG: Creating data matrix with columns: dict_keys(['s_a', 's_b', 'bias', 'prev_viol', 'session'])\n",
      "DMG: Creating labels with column: choice.\n",
      "DMG: Dropping 8274 nan rows from data and labels.\n",
      "DMG: Binary encoding labels.\n",
      "SSM Preprocessing: 114 sessions found.\n"
     ]
    },
    {
     "name": "stderr",
     "output_type": "stream",
     "text": [
      "LP: -16594.1: 100%|██████████| 200/200 [00:36<00:00,  5.55it/s]\n",
      "/Users/jessbreda/anaconda3/envs/an_lrn/lib/python3.10/site-packages/seaborn/_oldcore.py:1765: FutureWarning: unique with argument that is not not a Series, Index, ExtensionArray, or np.ndarray is deprecated and will raise in a future version.\n",
      "  order = pd.unique(vector)\n"
     ]
    },
    {
     "name": "stdout",
     "output_type": "stream",
     "text": [
      "VIZ: Summary figure saved\n",
      "-----------\n",
      "\n",
      "Running GLM-HMM for animal W082\n",
      "DMG: Creating data matrix with columns: dict_keys(['s_a', 's_b', 'bias', 'prev_viol', 'session'])\n",
      "DMG: Creating labels with column: choice.\n",
      "DMG: Dropping 138175 nan rows from data and labels.\n",
      "DMG: Binary encoding labels.\n",
      "SSM Preprocessing: 527 sessions found.\n"
     ]
    },
    {
     "name": "stderr",
     "output_type": "stream",
     "text": [
      "LP: -64950.9: 100%|██████████| 200/200 [05:47<00:00,  1.74s/it]  \n",
      "/Users/jessbreda/anaconda3/envs/an_lrn/lib/python3.10/site-packages/seaborn/_oldcore.py:1765: FutureWarning: unique with argument that is not not a Series, Index, ExtensionArray, or np.ndarray is deprecated and will raise in a future version.\n",
      "  order = pd.unique(vector)\n"
     ]
    },
    {
     "name": "stdout",
     "output_type": "stream",
     "text": [
      "VIZ: Summary figure saved\n",
      "-----------\n",
      "\n",
      "Running GLM-HMM for animal W083\n",
      "DMG: Creating data matrix with columns: dict_keys(['s_a', 's_b', 'bias', 'prev_viol', 'session'])\n",
      "DMG: Creating labels with column: choice.\n",
      "DMG: Dropping 64070 nan rows from data and labels.\n",
      "DMG: Binary encoding labels.\n",
      "SSM Preprocessing: 446 sessions found.\n"
     ]
    },
    {
     "name": "stderr",
     "output_type": "stream",
     "text": [
      "LP: -57445.8: 100%|██████████| 200/200 [02:29<00:00,  1.33it/s]\n",
      "/Users/jessbreda/anaconda3/envs/an_lrn/lib/python3.10/site-packages/seaborn/_oldcore.py:1765: FutureWarning: unique with argument that is not not a Series, Index, ExtensionArray, or np.ndarray is deprecated and will raise in a future version.\n",
      "  order = pd.unique(vector)\n"
     ]
    },
    {
     "name": "stdout",
     "output_type": "stream",
     "text": [
      "VIZ: Summary figure saved\n",
      "-----------\n",
      "\n",
      "Running GLM-HMM for animal W088\n",
      "DMG: Creating data matrix with columns: dict_keys(['s_a', 's_b', 'bias', 'prev_viol', 'session'])\n",
      "DMG: Creating labels with column: choice.\n",
      "DMG: Dropping 21114 nan rows from data and labels.\n",
      "DMG: Binary encoding labels.\n",
      "SSM Preprocessing: 347 sessions found.\n"
     ]
    },
    {
     "name": "stderr",
     "output_type": "stream",
     "text": [
      "LP: -42038.7: 100%|██████████| 200/200 [01:53<00:00,  1.77it/s]\n",
      "/Users/jessbreda/anaconda3/envs/an_lrn/lib/python3.10/site-packages/seaborn/_oldcore.py:1765: FutureWarning: unique with argument that is not not a Series, Index, ExtensionArray, or np.ndarray is deprecated and will raise in a future version.\n",
      "  order = pd.unique(vector)\n"
     ]
    },
    {
     "name": "stdout",
     "output_type": "stream",
     "text": [
      "VIZ: Summary figure saved\n",
      "-----------\n",
      "\n",
      "Running GLM-HMM for animal W089\n",
      "DMG: Creating data matrix with columns: dict_keys(['s_a', 's_b', 'bias', 'prev_viol', 'session'])\n",
      "DMG: Creating labels with column: choice.\n",
      "DMG: Dropping 17385 nan rows from data and labels.\n",
      "DMG: Binary encoding labels.\n",
      "SSM Preprocessing: 439 sessions found.\n"
     ]
    },
    {
     "name": "stderr",
     "output_type": "stream",
     "text": [
      "LP: -62826.7: 100%|██████████| 200/200 [02:29<00:00,  1.34it/s]\n",
      "/Users/jessbreda/anaconda3/envs/an_lrn/lib/python3.10/site-packages/seaborn/_oldcore.py:1765: FutureWarning: unique with argument that is not not a Series, Index, ExtensionArray, or np.ndarray is deprecated and will raise in a future version.\n",
      "  order = pd.unique(vector)\n"
     ]
    },
    {
     "name": "stdout",
     "output_type": "stream",
     "text": [
      "VIZ: Summary figure saved\n",
      "-----------\n",
      "\n",
      "Running GLM-HMM for animal W094\n",
      "DMG: Creating data matrix with columns: dict_keys(['s_a', 's_b', 'bias', 'prev_viol', 'session'])\n",
      "DMG: Creating labels with column: choice.\n",
      "DMG: Dropping 12998 nan rows from data and labels.\n",
      "DMG: Binary encoding labels.\n",
      "SSM Preprocessing: 156 sessions found.\n"
     ]
    },
    {
     "name": "stderr",
     "output_type": "stream",
     "text": [
      "LP: -23359.9: 100%|██████████| 200/200 [00:57<00:00,  3.47it/s]\n",
      "/Users/jessbreda/anaconda3/envs/an_lrn/lib/python3.10/site-packages/seaborn/_oldcore.py:1765: FutureWarning: unique with argument that is not not a Series, Index, ExtensionArray, or np.ndarray is deprecated and will raise in a future version.\n",
      "  order = pd.unique(vector)\n"
     ]
    },
    {
     "name": "stdout",
     "output_type": "stream",
     "text": [
      "VIZ: Summary figure saved\n",
      "-----------\n",
      "\n"
     ]
    }
   ],
   "source": [
    "dmg_config = {\n",
    "    \"s_a\": lambda df: (standardize(df.s_a)),\n",
    "    \"s_b\": lambda df: (standardize(df.s_b)),\n",
    "    \"bias\": lambda df: (add_bias_column(df)),\n",
    "    \"prev_viol\": lambda df: (prev_violation(df)),\n",
    "    \"session\": lambda df: (copy(df.session)),\n",
    "    \"labels\": binary_choice_labels(),\n",
    "}\n",
    "\n",
    "model_config = {\n",
    "    \"n_states\": 3,\n",
    "    \"n_features\": len(\n",
    "        [key for key in dmg_config.keys() if key not in [\"session\", \"labels\"]]\n",
    "    ),\n",
    "    \"n_categories\": 2,\n",
    "    \"transitions\": \"standard\",\n",
    "}\n",
    "\n",
    "params = {\n",
    "    \"animal_ids\": ANIMAL_IDS,\n",
    "    \"seed\": 0,\n",
    "    \"dmg_config\": dmg_config,\n",
    "    \"model_config\": model_config,\n",
    "    \"save_path\": \"/Users/jessbreda/Desktop/github/animal-learning/figures/glmhmm/initial_fits/prev_violation\",\n",
    "}\n",
    "test = RunBinaryGLMHMM(params)\n",
    "test.run()"
   ]
  }
 ],
 "metadata": {
  "kernelspec": {
   "display_name": "an_lrn",
   "language": "python",
   "name": "python3"
  },
  "language_info": {
   "codemirror_mode": {
    "name": "ipython",
    "version": 3
   },
   "file_extension": ".py",
   "mimetype": "text/x-python",
   "name": "python",
   "nbconvert_exporter": "python",
   "pygments_lexer": "ipython3",
   "version": "3.10.0"
  }
 },
 "nbformat": 4,
 "nbformat_minor": 2
}
