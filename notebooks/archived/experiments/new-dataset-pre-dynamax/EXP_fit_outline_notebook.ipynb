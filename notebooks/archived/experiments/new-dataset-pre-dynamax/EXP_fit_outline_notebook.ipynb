{
 "cells": [
  {
   "cell_type": "markdown",
   "metadata": {},
   "source": [
    "# Experiment: NAME HERE\n",
    "\n",
    "**Goal**:\n",
    "\n",
    "Additional Notes\n",
    "\n",
    "Related notebooks:\n",
    "\n",
    "* `XX`\n",
    "\n",
    "> Written by Jess Breda "
   ]
  },
  {
   "cell_type": "markdown",
   "metadata": {},
   "source": [
    "## Imports"
   ]
  },
  {
   "cell_type": "code",
   "execution_count": 2,
   "metadata": {},
   "outputs": [
    {
     "name": "stdout",
     "output_type": "stream",
     "text": [
      "The autoreload extension is already loaded. To reload it, use:\n",
      "  %reload_ext autoreload\n"
     ]
    }
   ],
   "source": [
    "import seaborn as sns\n",
    "import matplotlib.pyplot as plt\n",
    "\n",
    "from multiglm.experiments.experiment import load_experiment\n",
    "\n",
    "from multiglm.experiments.experiment_sigma_sweep import ExperimentSigmaSweep\n",
    "\n",
    "from multiglm.features.design_matrix_generator import *\n",
    "from multiglm.features.design_matrix_generator_PWM import *\n",
    "\n",
    "from multiglm.models.binary_logistic_regression import BinaryLogisticRegression\n",
    "from multiglm.models.multiclass_logistic_regression import MultiClassLogisticRegression\n",
    "\n",
    "from multiglm.visualizations.model_visualizer import ModelVisualizer\n",
    "\n",
    "from multiglm.data import ANIMAL_IDS\n",
    "from multiglm.experiments import STANDARD_SIGMAS\n",
    "\n",
    "\n",
    "sns.set_context(\"talk\")\n",
    "%load_ext autoreload\n",
    "%autoreload 2"
   ]
  },
  {
   "cell_type": "markdown",
   "metadata": {},
   "source": [
    "## Model Configs"
   ]
  },
  {
   "cell_type": "markdown",
   "metadata": {},
   "source": [
    "### Sigma Sweep\n",
    "\n"
   ]
  },
  {
   "cell_type": "code",
   "execution_count": 3,
   "metadata": {},
   "outputs": [],
   "source": [
    "# design matrix columns\n",
    "dmg_config = (\n",
    "    {\n",
    "        \"session\": lambda df: (copy(df.session)),\n",
    "        \"bias\": lambda df: (add_bias_column(df)),\n",
    "        \"s_a\": lambda df: (standardize(df.s_a)),\n",
    "        \"s_b\": lambda df: (standardize(df.s_b)),\n",
    "        \"prev_correct\": lambda df: (prev_correct_side(df)),\n",
    "        \"prev_choice\": lambda df: (prev_choice(df)),\n",
    "        \"prev_violation_filt\": lambda df: (\n",
    "            filtered_prev_viol(df, get_animals_tau(df, \"prev_violation\"))\n",
    "        ),\n",
    "        \"prev_avg_stim\": lambda df: prev_avg_stim(df, mask_prev_violation=True),\n",
    "        \"labels\": multi_choice_labels(), #binary_choice_labels(),\n",
    "    },\n",
    ")\n",
    "\n",
    "model_config = {\n",
    "    \"model_name_1\": {\n",
    "        \"model_class\": MultiClassLogisticRegression, #BinaryLogisticRegression,\n",
    "        \"dmg_config\": dmg_config,\n",
    "    },\n",
    "}\n",
    "\n",
    "\n",
    "params = {\n",
    "    \"animals\": ANIMAL_IDS,\n",
    "    \"data_type\": \"new_trained\",\n",
    "    \"sigmas\": STANDARD_SIGMAS,\n",
    "    \"random_state\": 47,\n",
    "    \"eval_train\": True,\n",
    "    \"model_config\": model_config,\n",
    "}\n",
    "\n",
    "save_name = \"DATE_compare_model_1_2.pkl\"\n",
    "\n",
    "ORDER = [\"feature order here\"]"
   ]
  },
  {
   "cell_type": "markdown",
   "metadata": {},
   "source": [
    "## Run"
   ]
  },
  {
   "cell_type": "code",
   "execution_count": null,
   "metadata": {},
   "outputs": [],
   "source": [
    "experiment = ExperimentSigmaSweep(params)\n",
    "experiment.run()\n",
    "experiment.save(save_name)"
   ]
  },
  {
   "cell_type": "markdown",
   "metadata": {},
   "source": [
    "## Visualize"
   ]
  },
  {
   "cell_type": "code",
   "execution_count": null,
   "metadata": {},
   "outputs": [],
   "source": [
    "experiment = load_experiment(save_name)\n",
    "palette = \"Set2\"\n",
    "mv = ModelVisualizer(experiment)"
   ]
  },
  {
   "cell_type": "code",
   "execution_count": null,
   "metadata": {},
   "outputs": [],
   "source": [
    "mv.plot_sigma_summary()"
   ]
  },
  {
   "cell_type": "code",
   "execution_count": null,
   "metadata": {},
   "outputs": [],
   "source": [
    "mv.plot_weights_summary(palette=palette)"
   ]
  },
  {
   "cell_type": "code",
   "execution_count": null,
   "metadata": {},
   "outputs": [],
   "source": [
    "mv.plot_nll_over_sigmas_by_animal()"
   ]
  },
  {
   "cell_type": "code",
   "execution_count": null,
   "metadata": {},
   "outputs": [],
   "source": [
    "mv.plot_weights_by_animal(palette=palette)"
   ]
  }
 ],
 "metadata": {
  "kernelspec": {
   "display_name": "an_lrn",
   "language": "python",
   "name": "python3"
  },
  "language_info": {
   "codemirror_mode": {
    "name": "ipython",
    "version": 3
   },
   "file_extension": ".py",
   "mimetype": "text/x-python",
   "name": "python",
   "nbconvert_exporter": "python",
   "pygments_lexer": "ipython3",
   "version": "3.10.0"
  }
 },
 "nbformat": 4,
 "nbformat_minor": 2
}
