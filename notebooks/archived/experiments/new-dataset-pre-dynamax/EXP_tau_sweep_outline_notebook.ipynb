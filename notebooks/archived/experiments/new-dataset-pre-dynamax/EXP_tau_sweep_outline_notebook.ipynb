{
 "cells": [
  {
   "cell_type": "markdown",
   "metadata": {},
   "source": [
    "# Experiment: NAME HERE\n",
    "\n",
    "**Goal**:\n",
    "\n",
    "Additional Notes\n",
    "\n",
    "Related notebooks:\n",
    "\n",
    "* `XX`\n",
    "\n",
    "> Written by Jess Breda "
   ]
  },
  {
   "cell_type": "markdown",
   "metadata": {},
   "source": [
    "## Imports"
   ]
  },
  {
   "cell_type": "code",
   "execution_count": 1,
   "metadata": {},
   "outputs": [],
   "source": [
    "import seaborn as sns\n",
    "import matplotlib.pyplot as plt\n",
    "\n",
    "from multiglm.experiments.experiment import load_experiment\n",
    "\n",
    "from multiglm.experiments.experiment_tau_sweep import ExperimentTauSweep\n",
    "\n",
    "from multiglm.features.design_matrix_generator import *\n",
    "from multiglm.features.design_matrix_generator_PWM import *\n",
    "\n",
    "from multiglm.models.binary_logistic_regression import BinaryLogisticRegression\n",
    "from multiglm.models.multiclass_logistic_regression import MultiClassLogisticRegression\n",
    "\n",
    "from multiglm.visualizations.model_visualizer import ModelVisualizerTauSweep\n",
    "\n",
    "from multiglm.data import ANIMAL_IDS\n",
    "from multiglm.experiments import STANDARD_SIGMAS\n",
    "\n",
    "\n",
    "sns.set_context(\"talk\")\n",
    "%load_ext autoreload\n",
    "%autoreload 2"
   ]
  },
  {
   "cell_type": "markdown",
   "metadata": {},
   "source": [
    "## Model Configs"
   ]
  },
  {
   "cell_type": "code",
   "execution_count": 4,
   "metadata": {},
   "outputs": [],
   "source": [
    "standard_cols = {\n",
    "    \"session\": lambda df: (copy(df.session)),\n",
    "    \"bias\": lambda df: (add_bias_column(df)),\n",
    "    \"s_a\": lambda df: (standardize(df.s_a)),\n",
    "    \"s_b\": lambda df: (standardize(df.s_b)),\n",
    "    \"prev_avg_stim\": lambda df: (prev_avg_stim(df, mask_prev_violation=True)),\n",
    "    \"prev_correct\": lambda df: (prev_correct_side(df)),\n",
    "    \"prev_choice\": lambda df: (prev_choice(df)),\n",
    "    \"labels\": {\"column_name\": \"choice\"},\n",
    "}\n",
    "\n",
    "sweep_col = {\n",
    "    \"tau_sweep\": {\n",
    "        \"taus\": [1, 2, 3, 4, 5],\n",
    "        \"col_name\": \"filt_prev_viol\",\n",
    "        \"col_func\": lambda df: (prev_violation(df)),\n",
    "        \"current_idx\": 0,\n",
    "    },\n",
    "}\n",
    "\n",
    "model_config = {\n",
    "    \"example_model_name\": {\n",
    "        \"model_class\": MultiClassLogisticRegression,\n",
    "        \"dmg_config\": {**standard_cols, **sweep_col},\n",
    "    }\n",
    "}\n",
    "\n",
    "\n",
    "params = {\n",
    "    \"animals\": ANIMAL_IDS,  # all animals\n",
    "    \"data_type\": \"new_trained\",\n",
    "    \"sigmas\": STANDARD_SIGMAS,\n",
    "    \"random_state\": 47,\n",
    "    \"eval_train\": True,\n",
    "    \"model_config\": model_config,\n",
    "}\n",
    "save_name = \"DATE_tau_sweep_SWEEPCOL.pkl\"\n",
    "\n",
    "order = [\n",
    "    \"bias\",\n",
    "    \"filt_prev_viol\",\n",
    "    \"s_a\",\n",
    "    \"s_b\",\n",
    "    \"prev_avg_stim\",\n",
    "    \"prev_correct\",\n",
    "    \"prev_choice\",\n",
    "]"
   ]
  },
  {
   "cell_type": "markdown",
   "metadata": {},
   "source": [
    "## Run"
   ]
  },
  {
   "cell_type": "code",
   "execution_count": null,
   "metadata": {},
   "outputs": [],
   "source": [
    "experiment = ExperimentTauSweep(params)\n",
    "experiment.run()\n",
    "experiment.save(save_name)"
   ]
  },
  {
   "cell_type": "markdown",
   "metadata": {},
   "source": [
    "## Visualize"
   ]
  },
  {
   "cell_type": "code",
   "execution_count": null,
   "metadata": {},
   "outputs": [],
   "source": [
    "experiment = load_experiment(save_name)\n",
    "mvt = ModelVisualizerTauSweep(experiment)"
   ]
  },
  {
   "cell_type": "code",
   "execution_count": null,
   "metadata": {},
   "outputs": [],
   "source": [
    "mvt.plot_sigma_summary()"
   ]
  },
  {
   "cell_type": "code",
   "execution_count": null,
   "metadata": {},
   "outputs": [],
   "source": [
    "mvt.plot_tau_summary()"
   ]
  },
  {
   "cell_type": "code",
   "execution_count": null,
   "metadata": {},
   "outputs": [],
   "source": [
    "mvt.plot_nll_over_taus_by_animal(group=\"tau\", color=\"gray\")"
   ]
  },
  {
   "cell_type": "code",
   "execution_count": null,
   "metadata": {},
   "outputs": [],
   "source": [
    "\n",
    "mvt.plot_weights_summary(palette=\"Set2\", order=order)"
   ]
  },
  {
   "cell_type": "code",
   "execution_count": null,
   "metadata": {},
   "outputs": [],
   "source": [
    "mvt.plot_weights_by_animal(palette=\"Set2\", order=order)"
   ]
  },
  {
   "cell_type": "code",
   "execution_count": null,
   "metadata": {},
   "outputs": [],
   "source": [
    "mvt.plot_tau_histogram(column=\"prev_violation_tau\", binwidth=1)"
   ]
  },
  {
   "cell_type": "markdown",
   "metadata": {},
   "source": []
  },
  {
   "cell_type": "code",
   "execution_count": null,
   "metadata": {},
   "outputs": [],
   "source": [
    "mvt.save_best_fit_tau()"
   ]
  },
  {
   "cell_type": "markdown",
   "metadata": {},
   "source": [
    "## Special Fxs"
   ]
  },
  {
   "cell_type": "code",
   "execution_count": null,
   "metadata": {},
   "outputs": [],
   "source": [
    "plot_weight_by_tau(\"feature_colume_name\", \"weight_class\")"
   ]
  }
 ],
 "metadata": {
  "kernelspec": {
   "display_name": "an_lrn",
   "language": "python",
   "name": "python3"
  },
  "language_info": {
   "codemirror_mode": {
    "name": "ipython",
    "version": 3
   },
   "file_extension": ".py",
   "mimetype": "text/x-python",
   "name": "python",
   "nbconvert_exporter": "python",
   "pygments_lexer": "ipython3",
   "version": "3.10.0"
  }
 },
 "nbformat": 4,
 "nbformat_minor": 2
}
