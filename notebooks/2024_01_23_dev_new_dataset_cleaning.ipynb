{
 "cells": [
  {
   "cell_type": "markdown",
   "metadata": {},
   "source": [
    "## New Dataset Cleaning\n",
    "\n",
    "**Goal**: This notebook will create functions that will clean the new datasets coming in from extract_AthenaDelayComp_dat.m. I want to manipulate the new df such that it can easily be used with existing design matrix generators.\n",
    "\n",
    "For context, this is a script written by me and Chuck to get violation data from all sessions of a trained PWM animal (not just up to session 200). It appears that Athena encoded timeout trials as whenever the \"wait_for_cpoke\" Tuped after 2 minutes. In the old dataset, these were counted as violations. I want to remove them from the current dataset and reset the trial counters. I will store information though on how many timeouts in a row. Finding sessions with high timeout rates would be good- they will have a large change in total trial counts."
   ]
  },
  {
   "cell_type": "code",
   "execution_count": 1,
   "metadata": {},
   "outputs": [],
   "source": [
    "import pathlib\n",
    "import sys\n",
    "\n",
    "[\n",
    "    sys.path.append(str(folder))\n",
    "    for folder in pathlib.Path(\"../src/\").iterdir()\n",
    "    if folder.is_dir()\n",
    "]\n",
    "\n",
    "import pandas as pd\n",
    "import numpy as np"
   ]
  },
  {
   "cell_type": "markdown",
   "metadata": {},
   "source": [
    "**What is expexted by design matrix generator**\n",
    "\n",
    "`animal_id` : str <-- `rat_name`\n",
    "\n",
    "`session`:  int  <-- `session_counter`\n",
    "\n",
    "`trial` : int <-- MAKE\n",
    "\n",
    "`s_a`: float 64 <-- `A1_dB`\n",
    "\n",
    "`s_b`: float 64 <-- `A2_dB`\n",
    "\n",
    "\n",
    "\n"
   ]
  },
  {
   "cell_type": "code",
   "execution_count": 15,
   "metadata": {},
   "outputs": [],
   "source": [
    "renaming_map = {\n",
    "    \"rat_name\": \"animal_id\",\n",
    "    \"session_counter\": \"session_id\",\n",
    "    \"A1_dB\": \"s_a\",\n",
    "    \"A2_dB\": \"s_b\",\n",
    "    \"hit_history\": \"hit\",\n",
    "    \"violation_history\": \"violation\",\n",
    "    \"timeout_history\": \"trial_not_started\",\n",
    "    \"A1_sigma\": \"s_a_sigma\",  # not sure why i kept this since db mapping is done in matlab\n",
    "    \"Rule\": \"rule\",\n",
    "    \"violation_iti\": \"violation_penalty_time\",\n",
    "    \"error_iti\": \"error_penalty_time\",\n",
    "    \"secondhit_delay\": \"delayed_reward_time\",\n",
    "    \"PreStim_time\": \"pre_stim_time\",\n",
    "    \"A1_time\": \"s_a_time\",\n",
    "    \"Del_time\": \"delay_time\",\n",
    "    \"A2_time\": \"s_b_time\",\n",
    "    \"time_bet_aud2_gocue\": \"post_s_b_to_go_cue_time\",\n",
    "    \"time_go_cue\": \"go_cue_time\",\n",
    "    \"CP_duration\": \"fixation_time\",\n",
    "    \"Left_volume\": \"l_water_vol\",\n",
    "    \"Right_volume\": \"r_water_vol\",\n",
    "    \"Beta\": \"antibias_beta\",  # higher = stronger antibias\n",
    "    \"RtProb\": \"antibias_right_prob\",  # higher = more likely for a right trial to occur\n",
    "    \"pysch_pairs\": \"using_psychometric_pairs\",\n",
    "    # \"THIS_SIDE\": \"correct_side\", TODO\n",
    "    # \"CenterLED_duration\" : \"trial_start_wait_time\" TODO\n",
    "}"
   ]
  },
  {
   "cell_type": "code",
   "execution_count": 17,
   "metadata": {},
   "outputs": [],
   "source": [
    "# TODO:\n",
    "# in python:\n",
    "# -- confirm dB nan if stimuli off\n",
    "# -- map correct side were correct side is Left=0 and Right=1\n",
    "# -- map of cohice where choice made **by** the rat, where Left=0 and Right=1 (and Violation=NaN)\n",
    "# -- compute delay len (subtract go or not?)\n",
    "# -- drop timeouts but maintain dur\n",
    "# -- make trial counter"
   ]
  },
  {
   "cell_type": "code",
   "execution_count": 13,
   "metadata": {},
   "outputs": [
    {
     "name": "stdout",
     "output_type": "stream",
     "text": [
      "<class 'pandas.core.frame.DataFrame'>\n",
      "RangeIndex: 108475 entries, 0 to 108474\n",
      "Data columns (total 26 columns):\n",
      " #   Column               Non-Null Count   Dtype  \n",
      "---  ------               --------------   -----  \n",
      " 0   rat_name             108475 non-null  object \n",
      " 1   session_date         108475 non-null  int64  \n",
      " 2   session_counter      108475 non-null  int64  \n",
      " 3   rig_id               108475 non-null  int64  \n",
      " 4   training_stage       108475 non-null  int64  \n",
      " 5   A1_dB                102034 non-null  float64\n",
      " 6   A2_dB                102034 non-null  float64\n",
      " 7   hit_history          91273 non-null   float64\n",
      " 8   violation_history    108475 non-null  int64  \n",
      " 9   timeout_history      108475 non-null  int64  \n",
      " 10  A1_sigma             108475 non-null  float64\n",
      " 11  Rule                 108475 non-null  object \n",
      " 12  violation_iti        108475 non-null  int64  \n",
      " 13  error_iti            108475 non-null  int64  \n",
      " 14  secondhit_delay      108475 non-null  int64  \n",
      " 15  PreStim_time         108475 non-null  float64\n",
      " 16  A1_time              108475 non-null  float64\n",
      " 17  Del_time             108475 non-null  float64\n",
      " 18  A2_time              108475 non-null  float64\n",
      " 19  time_bet_aud2_gocue  108475 non-null  float64\n",
      " 20  time_go_cue          108475 non-null  float64\n",
      " 21  CP_duration          108475 non-null  float64\n",
      " 22  Left_volume          108475 non-null  float64\n",
      " 23  Right_volume         108475 non-null  float64\n",
      " 24  Beta                 108475 non-null  int64  \n",
      " 25  psych_pairs          108475 non-null  int64  \n",
      "dtypes: float64(13), int64(11), object(2)\n",
      "memory usage: 21.5+ MB\n"
     ]
    }
   ],
   "source": [
    "ndf = pd.read_csv(\"/Volumes/brody/jbreda/PWM_data_scrape/W078_trials_data.csv\")\n",
    "\n",
    "ndf.info()"
   ]
  },
  {
   "cell_type": "code",
   "execution_count": 9,
   "metadata": {},
   "outputs": [],
   "source": [
    "rdf = pd.read_csv(\n",
    "    \"/Users/jessbreda/Desktop/github/animal-learning/data/raw/rat_behavior.csv\"\n",
    ")"
   ]
  },
  {
   "cell_type": "code",
   "execution_count": 10,
   "metadata": {},
   "outputs": [
    {
     "name": "stdout",
     "output_type": "stream",
     "text": [
      "<class 'pandas.core.frame.DataFrame'>\n",
      "RangeIndex: 2540006 entries, 0 to 2540005\n",
      "Data columns (total 10 columns):\n",
      " #   Column          Dtype  \n",
      "---  ------          -----  \n",
      " 0   subject_id      object \n",
      " 1   session         int64  \n",
      " 2   trial           int64  \n",
      " 3   s_a             float64\n",
      " 4   s_b             float64\n",
      " 5   choice          float64\n",
      " 6   correct_side    int64  \n",
      " 7   hit             float64\n",
      " 8   delay           float64\n",
      " 9   training_stage  int64  \n",
      "dtypes: float64(5), int64(4), object(1)\n",
      "memory usage: 193.8+ MB\n"
     ]
    }
   ],
   "source": [
    "rdf.info()"
   ]
  },
  {
   "cell_type": "code",
   "execution_count": 6,
   "metadata": {},
   "outputs": [
    {
     "name": "stdout",
     "output_type": "stream",
     "text": [
      "returning viol data for W078\n",
      "<class 'pandas.core.frame.DataFrame'>\n",
      "RangeIndex: 53299 entries, 0 to 53298\n",
      "Data columns (total 13 columns):\n",
      " #   Column              Non-Null Count  Dtype  \n",
      "---  ------              --------------  -----  \n",
      " 0   animal_id           53299 non-null  object \n",
      " 1   session             53299 non-null  int64  \n",
      " 2   trial               53299 non-null  int64  \n",
      " 3   s_a                 40115 non-null  float64\n",
      " 4   s_b                 40115 non-null  float64\n",
      " 5   choice              43481 non-null  float64\n",
      " 6   correct_side        53299 non-null  int64  \n",
      " 7   hit                 43481 non-null  float64\n",
      " 8   delay               53299 non-null  float64\n",
      " 9   training_stage      53299 non-null  int64  \n",
      " 10  violation           53299 non-null  bool   \n",
      " 11  n_trial             53299 non-null  int64  \n",
      " 12  training_stage_cat  53299 non-null  int64  \n",
      "dtypes: bool(1), float64(5), int64(6), object(1)\n",
      "memory usage: 4.9+ MB\n"
     ]
    }
   ],
   "source": [
    "from get_rat_data import *\n",
    "\n",
    "df = get_rat_viol_data(animal_ids=\"W078\")\n",
    "\n",
    "df.info()"
   ]
  },
  {
   "cell_type": "code",
   "execution_count": 8,
   "metadata": {},
   "outputs": [
    {
     "name": "stdout",
     "output_type": "stream",
     "text": [
      "<class 'pandas.core.frame.DataFrame'>\n",
      "RangeIndex: 108475 entries, 0 to 108474\n",
      "Data columns (total 26 columns):\n",
      " #   Column               Non-Null Count   Dtype  \n",
      "---  ------               --------------   -----  \n",
      " 0   rat_name             108475 non-null  object \n",
      " 1   session_date         108475 non-null  int64  \n",
      " 2   session_counter      108475 non-null  int64  \n",
      " 3   rig_id               108475 non-null  int64  \n",
      " 4   training_stage       108475 non-null  int64  \n",
      " 5   A1_dB                102034 non-null  float64\n",
      " 6   A2_dB                102034 non-null  float64\n",
      " 7   hit_history          91273 non-null   float64\n",
      " 8   violation_history    108475 non-null  int64  \n",
      " 9   timeout_history      108475 non-null  int64  \n",
      " 10  A1_sigma             108475 non-null  float64\n",
      " 11  Rule                 108475 non-null  object \n",
      " 12  violation_iti        108475 non-null  int64  \n",
      " 13  error_iti            108475 non-null  int64  \n",
      " 14  secondhit_delay      108475 non-null  int64  \n",
      " 15  PreStim_time         108475 non-null  float64\n",
      " 16  A1_time              108475 non-null  float64\n",
      " 17  Del_time             108475 non-null  float64\n",
      " 18  A2_time              108475 non-null  float64\n",
      " 19  time_bet_aud2_gocue  108475 non-null  float64\n",
      " 20  time_go_cue          108475 non-null  float64\n",
      " 21  CP_duration          108475 non-null  float64\n",
      " 22  Left_volume          108475 non-null  float64\n",
      " 23  Right_volume         108475 non-null  float64\n",
      " 24  Beta                 108475 non-null  int64  \n",
      " 25  psych_pairs          108475 non-null  int64  \n",
      "dtypes: float64(13), int64(11), object(2)\n",
      "memory usage: 21.5+ MB\n"
     ]
    }
   ],
   "source": [
    "ndf = pd.read_csv(\"/Volumes/brody/jbreda/PWM_data_scrape/W078_trials_data.csv\")\n",
    "\n",
    "ndf.info()"
   ]
  },
  {
   "cell_type": "code",
   "execution_count": null,
   "metadata": {},
   "outputs": [],
   "source": [
    "def load_raw_animal_df(animal_id):\n",
    "    pass\n",
    "\n",
    "def rename_columns(raw_df):\n",
    "    pass\n",
    "\n",
    "def format_dtypes(raw_df):\n",
    "    pass\n",
    "\n",
    "def drop_and_account_for_timeouts(raw_df):\n",
    "    pass\n",
    "\n",
    "def add_trial_counter(raw_df):\n",
    "    pass"
   ]
  }
 ],
 "metadata": {
  "kernelspec": {
   "display_name": "an_lrn",
   "language": "python",
   "name": "python3"
  },
  "language_info": {
   "codemirror_mode": {
    "name": "ipython",
    "version": 3
   },
   "file_extension": ".py",
   "mimetype": "text/x-python",
   "name": "python",
   "nbconvert_exporter": "python",
   "pygments_lexer": "ipython3",
   "version": "3.10.0"
  }
 },
 "nbformat": 4,
 "nbformat_minor": 2
}
