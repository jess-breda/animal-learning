{
 "cells": [
  {
   "cell_type": "markdown",
   "metadata": {},
   "source": [
    "# Exploratory Data Analysis on PWM Behavioral Data\n",
    "\n",
    "**Goal** This notebook will explore the new dataset to see what trends are present now that violations are properly tracked and timeouts are not incorrectly marked as violations."
   ]
  },
  {
   "cell_type": "markdown",
   "metadata": {},
   "source": [
    "## Load In"
   ]
  },
  {
   "cell_type": "code",
   "execution_count": null,
   "metadata": {
    "vscode": {
     "languageId": "plaintext"
    }
   },
   "outputs": [],
   "source": []
  },
  {
   "cell_type": "markdown",
   "metadata": {},
   "source": [
    "## Hit Rates\n",
    "\n",
    "* over stages by animal (save data out)"
   ]
  },
  {
   "cell_type": "markdown",
   "metadata": {},
   "source": [
    "## Violation Rates\n",
    "\n",
    "- over stages by animal (save data out)"
   ]
  },
  {
   "cell_type": "markdown",
   "metadata": {},
   "source": [
    "## Number of Delays\n"
   ]
  },
  {
   "cell_type": "code",
   "execution_count": null,
   "metadata": {},
   "outputs": [],
   "source": [
    "# get unique delay values for each animal\n",
    "unique_delays = (\n",
    "    RAT_DF.groupby([\"subject_id\", \"training_stage_cat\"]).delay.unique().reset_index()\n",
    ")\n",
    "\n",
    "# get the number of unique delay values for each animal\n",
    "unique_delays[\"n_unique_delays\"] = unique_delays.delay.apply(lambda x: len(x))"
   ]
  },
  {
   "cell_type": "code",
   "execution_count": null,
   "metadata": {},
   "outputs": [],
   "source": [
    "g = sns.FacetGrid(\n",
    "    data=RAT_DF,\n",
    "    row=\"subject_id\",\n",
    "    col=\"training_stage_cat\",\n",
    "    hue=\"training_stage_cat\",\n",
    "    sharey=\"col\",\n",
    "    sharex=\"col\",\n",
    "    height=4,\n",
    "    aspect=1.3,\n",
    ")\n",
    "g.map(sns.histplot, \"delay\")\n",
    "g.set_titles(\"{row_name} stage {col_name}\")"
   ]
  },
  {
   "cell_type": "code",
   "execution_count": null,
   "metadata": {},
   "outputs": [],
   "source": [
    "g = sns.catplot(\n",
    "    x=\"training_stage_cat\",\n",
    "    y=\"n_unique_delays\",\n",
    "    col=\"subject_id\",\n",
    "    col_wrap=4,\n",
    "    hue=\"subject_id\",\n",
    "    data=unique_delays.query(\"training_stage_cat != 1\"),\n",
    "    kind=\"bar\",\n",
    "    dodge=False,\n",
    "    sharey=False,\n",
    ")"
   ]
  },
  {
   "cell_type": "markdown",
   "metadata": {},
   "source": [
    "## Performance ~ Delay"
   ]
  },
  {
   "cell_type": "markdown",
   "metadata": {},
   "source": [
    "### Hits"
   ]
  },
  {
   "cell_type": "code",
   "execution_count": null,
   "metadata": {},
   "outputs": [],
   "source": [
    "fig,ax = plt.subplots(figsize=(12, 4))\n",
    "sns.barplot(data=RAT_DF.query(\"training_stage >=  3\"), x=\"delay\", y=\"hit\", color='green',ax=ax)\n",
    "_ = ax.set_xticklabels(ax.get_xticklabels(), rotation=90)\n",
    "ax.set(title=\"Stage 3+ Hit Rates ~ Delay\", ylim=(0, 1))"
   ]
  },
  {
   "cell_type": "code",
   "execution_count": null,
   "metadata": {},
   "outputs": [],
   "source": [
    "g = sns.catplot(\n",
    "    x=\"delay\",\n",
    "    y=\"hit\",\n",
    "    col=\"subject_id\",\n",
    "    col_wrap=4,\n",
    "    hue=\"subject_id\",\n",
    "    data=RAT_DF.query(\"training_stage >=  3\"),\n",
    "    kind=\"bar\",\n",
    "    dodge=False,\n",
    "    sharey=True,\n",
    "    sharex=False,\n",
    ")\n",
    "\n",
    "g.set(ylim=(0.5, 1))"
   ]
  },
  {
   "cell_type": "markdown",
   "metadata": {},
   "source": [
    "### Violations"
   ]
  },
  {
   "cell_type": "code",
   "execution_count": null,
   "metadata": {},
   "outputs": [],
   "source": [
    "discrete_delay_df = RAT_DF.query(\"training_stage >=  3\").groupby([\"delay\"]).hit.mean().reset_index()\n",
    "discrete_delay_df['viol'] =  RAT_DF.query(\"training_stage >=  3\").groupby([\"delay\"]).violation.mean().values\n",
    "discrete_delay_df.plot(kind=\"bar\", x=\"delay\", y=[\"hit\", \"viol\"], color=[\"green\", \"orange\"], figsize=(12, 4))"
   ]
  },
  {
   "cell_type": "markdown",
   "metadata": {},
   "source": [
    "Next notebook: EDA_02_predict_perf\n",
    "\n",
    "\n",
    "This requires making a large data frame with \n",
    "\n",
    "animal id, n delays, viol stage 1-4, hit stage 1-4\n",
    "Predict time to train\n",
    "\n",
    "Predict final hit rate"
   ]
  }
 ],
 "metadata": {
  "language_info": {
   "name": "python"
  }
 },
 "nbformat": 4,
 "nbformat_minor": 2
}
