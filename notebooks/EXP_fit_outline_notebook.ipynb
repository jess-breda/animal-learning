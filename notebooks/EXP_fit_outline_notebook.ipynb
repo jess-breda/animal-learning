{
 "cells": [
  {
   "cell_type": "markdown",
   "metadata": {},
   "source": [
    "# Experiment: NAME HERE\n",
    "\n",
    "**Goal**:\n",
    "\n",
    "Additional Notes\n",
    "\n",
    "Related notebooks:\n",
    "\n",
    "* `XX`\n",
    "\n",
    "> Written by Jess Breda "
   ]
  },
  {
   "cell_type": "markdown",
   "metadata": {},
   "source": [
    "## Imports"
   ]
  },
  {
   "cell_type": "code",
   "execution_count": 1,
   "metadata": {},
   "outputs": [],
   "source": [
    "import seaborn as sns\n",
    "import matplotlib.pyplot as plt\n",
    "\n",
    "from multiglm.experiments.experiment import load_experiment\n",
    "\n",
    "from multiglm.experiments.experiment_sigma_sweep import ExperimentSigmaSweep\n",
    "from multiglm.experiments.experiment_tau_sweep import ExperimentTauSweep\n",
    "from multiglm.experiments.experiment_compare_models import ExperimentCompareModels\n",
    "\n",
    "from multiglm.features.design_matrix_generator import *\n",
    "from multiglm.features.design_matrix_generator_PWM import *\n",
    "\n",
    "from multiglm.models.binary_logistic_regression import BinaryLogisticRegression\n",
    "from multiglm.models.multiclass_logistic_regression import MultiClassLogisticRegression\n",
    "\n",
    "from multiglm.visualizations.model_visualizer import *\n",
    "\n",
    "from multiglm.data import ANIMAL_IDS\n",
    "from multiglm.experiments import STANDARD_SIGMAS\n",
    "\n",
    "\n",
    "sns.set_context(\"talk\")\n",
    "%load_ext autoreload\n",
    "%autoreload 2"
   ]
  },
  {
   "cell_type": "markdown",
   "metadata": {},
   "source": [
    "## Model Configs"
   ]
  },
  {
   "cell_type": "markdown",
   "metadata": {},
   "source": [
    "### Sigma Sweep\n",
    "\n"
   ]
  },
  {
   "cell_type": "markdown",
   "metadata": {},
   "source": [
    "### Compare "
   ]
  },
  {
   "cell_type": "code",
   "execution_count": 2,
   "metadata": {},
   "outputs": [],
   "source": [
    "# design matrix columns shared between all models being fit\n",
    "shared_cols = {\n",
    "    \"session\": lambda df: (copy(df.session)),\n",
    "    \"bias\": lambda df: (add_bias_column(df)),\n",
    "    \"s_a\": lambda df: (standardize(df.s_a)),\n",
    "    \"s_b\": lambda df: (standardize(df.s_b)),\n",
    "    \"prev_correct\": lambda df: (prev_correct_side(df)),\n",
    "    \"prev_choice\": lambda df: (prev_choice(df)),\n",
    "    \"prev_violation_filt\": lambda df: (\n",
    "        filtered_prev_viol(df, get_animals_tau(df, \"prev_violation\"))\n",
    "    ),\n",
    "    \"labels\": {\"column_name\": \"choice\"},\n",
    "}\n",
    "\n",
    "models_config = {\n",
    "    \"model_name_1\": {\n",
    "        \"model_class\": MultiClassLogisticRegression,\n",
    "        \"dmg_config\": {\n",
    "            **shared_cols,\n",
    "            \"prev_avg_stim\": lambda df: prev_avg_stim(df, mask_prev_violation=True),\n",
    "        },\n",
    "    },\n",
    "    \"model_name_2\": {\n",
    "        \"model_class\": MultiClassLogisticRegression,\n",
    "        \"dmg_config\": {\n",
    "            **shared_cols,\n",
    "            \"prev_avg_stim\": lambda df: prev_avg_stim(df, mask_prev_violation=False),\n",
    "        },\n",
    "    },\n",
    "}\n",
    "\n",
    "params = {\n",
    "    \"animals\": ANIMAL_IDS,\n",
    "    \"data_type\": \"new_trained\",\n",
    "    \"sigmas\": STANDARD_SIGMAS,\n",
    "    \"random_state\": 47,\n",
    "    \"eval_train\": True,\n",
    "    \"null_mode\": \"multi\",\n",
    "    \"model_config\": models_config,\n",
    "}\n",
    "\n",
    "save_name = \"DATE_compare_model_1_2.pkl\"\n",
    "\n",
    "ORDER = [\"model_name_1\", \"model_name_2\"]\n"
   ]
  },
  {
   "cell_type": "markdown",
   "metadata": {},
   "source": [
    "## Run"
   ]
  },
  {
   "cell_type": "code",
   "execution_count": null,
   "metadata": {},
   "outputs": [],
   "source": [
    "experiment = ExperimentCompareModels(params)\n",
    "experiment.run()\n",
    "experiment.save(save_name)"
   ]
  },
  {
   "cell_type": "markdown",
   "metadata": {},
   "source": [
    "## Visualize"
   ]
  },
  {
   "cell_type": "code",
   "execution_count": null,
   "metadata": {},
   "outputs": [],
   "source": [
    "experiment = load_experiment(save_name)\n",
    "mvc = ModelVisualizerCompare(experiment)"
   ]
  },
  {
   "cell_type": "code",
   "execution_count": null,
   "metadata": {},
   "outputs": [],
   "source": [
    "df = mvc.find_best_fit(group=\"model_name\")\n",
    "df[\"model_name\"] = pd.Categorical(df[\"model_name\"], categories=ORDER, ordered=True)\n",
    "for model_name, model_df in df.groupby(\"model_name\"):\n",
    "    mvc.plot_sigma_summary(model_df, title=f\"{model_name} fit sigma summary\")"
   ]
  },
  {
   "cell_type": "code",
   "execution_count": null,
   "metadata": {},
   "outputs": [],
   "source": [
    "fig, ax = plt.subplots(\n",
    "    len(ORDER), 1, figsize=(10, len(ORDER) * 6), constrained_layout=True, sharey=False\n",
    ")\n",
    "\n",
    "best_fit_by_model = mvc.find_best_fit(group=[\"animal_id\", \"model_name\"])\n",
    "best_fit_by_model[\"model_name\"] = pd.Categorical(\n",
    "    best_fit_by_model[\"model_name\"], categories=ORDER, ordered=True\n",
    ")\n",
    "\n",
    "for ii, (model_name, model_df) in enumerate(best_fit_by_model.groupby(\"model_name\")):\n",
    "    unpacked = mvc.unpack_features_and_weights(model_df)\n",
    "\n",
    "    mvc.plot_weights_summary(\n",
    "        df=unpacked,\n",
    "        ax=ax[ii],\n",
    "        palette=\"Set2\",\n",
    "        title=f\"{model_name} weights summary\",\n",
    "    )"
   ]
  },
  {
   "cell_type": "code",
   "execution_count": null,
   "metadata": {},
   "outputs": [],
   "source": [
    "fig, ax = plt.subplots(1, 1, figsize=(8, 5))\n",
    "mvc.plot_model_comparison(\n",
    "    hue=None,\n",
    "    ax=ax,\n",
    "    order=ORDER,\n",
    "    errorbar=None,\n",
    ")"
   ]
  },
  {
   "cell_type": "code",
   "execution_count": null,
   "metadata": {},
   "outputs": [],
   "source": [
    "mvc.plot_train_and_test_ll(\n",
    "    order=ORDER,\n",
    "    errorbar=None,\n",
    ")"
   ]
  },
  {
   "cell_type": "code",
   "execution_count": null,
   "metadata": {},
   "outputs": [],
   "source": [
    "mvc.plot_ll_delta_by_animal(\n",
    "    base_model_name=ORDER[0],\n",
    "    new_model_name=ORDER[1],\n",
    "    type=\"test\",\n",
    ")"
   ]
  }
 ],
 "metadata": {
  "kernelspec": {
   "display_name": "an_lrn",
   "language": "python",
   "name": "python3"
  },
  "language_info": {
   "codemirror_mode": {
    "name": "ipython",
    "version": 3
   },
   "file_extension": ".py",
   "mimetype": "text/x-python",
   "name": "python",
   "nbconvert_exporter": "python",
   "pygments_lexer": "ipython3",
   "version": "3.10.0"
  }
 },
 "nbformat": 4,
 "nbformat_minor": 2
}
