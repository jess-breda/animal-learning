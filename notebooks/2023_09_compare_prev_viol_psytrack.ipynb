{
 "cells": [
  {
   "cell_type": "markdown",
   "metadata": {},
   "source": [
    "## Compare Prev Violation & Psytrack\n",
    "\n",
    "> Written by Jess Breda September 2023\n",
    "\n",
    "For this notebook, I am writing based on updated and debugged macro search now that I am no longer accidentally fitting to all animals at once\n",
    "\n",
    "The goals for this NB are\n",
    "\n",
    "1. Write a flexible design matrix generator for either prev_violation (given animal_id, best tau) or psytrack classic regressors.\n",
    "\n",
    "2. Iterate over sigmas, models and fit/test for each animal\n",
    "\n",
    "3. Compare to a \"null\" model in bits/trial space."
   ]
  },
  {
   "cell_type": "code",
   "execution_count": null,
   "metadata": {},
   "outputs": [],
   "source": [
    "import pathlib\n",
    "import platform\n",
    "import sys\n",
    "[\n",
    "    sys.path.append(str(folder))\n",
    "    for folder in pathlib.Path(\"../src/\").iterdir()\n",
    "    if folder.is_dir()\n",
    "]\n",
    "import numpy as np\n",
    "from matplotlib import pyplot as plt\n",
    "import seaborn as sns\n",
    "import pandas as pd\n",
    "\n",
    "sns.set_context(\"talk\")\n",
    "import pathlib\n",
    "import platform\n",
    "import sys\n",
    "[\n",
    "    sys.path.append(str(folder))\n",
    "    for folder in pathlib.Path(\"../src/\").iterdir()\n",
    "    if folder.is_dir()\n",
    "]\n",
    "import numpy as np\n",
    "from matplotlib import pyplot as plt\n",
    "import seaborn as sns\n",
    "import pandas as pd\n",
    "\n",
    "sns.set_context(\"talk\")\n",
    "\n",
    "from sklearn.model_selection import train_test_split\n",
    "\n",
    "from generate_design_matrix import ExpFilter\n",
    "from get_rat_data import *\n",
    "from multiclass_logistic_regression import MultiClassLogisticRegression\n",
    "MODE = \"local\"\n",
    "\n",
    "# settings\n",
    "%load_ext autoreload\n",
    "%autoreload 2"
   ]
  }
 ],
 "metadata": {
  "language_info": {
   "name": "python"
  },
  "orig_nbformat": 4
 },
 "nbformat": 4,
 "nbformat_minor": 2
}
